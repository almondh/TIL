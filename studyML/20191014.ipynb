{
 "cells": [
  {
   "cell_type": "markdown",
   "metadata": {},
   "source": [
    "# PYTHON MACHINE LEARNING 2ND ED. "
   ]
  },
  {
   "cell_type": "markdown",
   "metadata": {},
   "source": [
    "### ----------------------- Ch.1 -----------------------"
   ]
  },
  {
   "cell_type": "markdown",
   "metadata": {},
   "source": [
    "## 머신러닝(Machine Learning)\n",
    ":  인공지능(AI; Artificial Intelligence)하위분야\n",
    "\n",
    "1.  지도 학습(supervised learndding)\n",
    ": 레이블된 데이터, 직접 피드백,출력 및 미래예측\n",
    "    - 분류(Classificaiton) : 클래스 레이블 예측\n",
    "    - 회귀(Regression) : 연속적인 출력 값 예측, 예측변수가 주어졌을 때 출력값을 예측하는 두 변수 사이의 관계 찾기\n",
    "\n",
    "\n",
    "2.  비지도 학습(unsupervised learning)\n",
    ": 레이블 X, 피드백 X, 데이터에서 숨겨진 구조 찾기\n",
    "    - 군집(clustering) : 사전 정보 없이 클러스터로 조직하는 EDA\n",
    "    - 차원축소(dimensionality reduction) : 고차원의 데이터를 저차원의 데이처로 압축(노이즈제거를 위해 전처리에서 종종 적용)\n",
    "\n",
    "3.  강화 학습(reinforcement learning)\n",
    ": 결정 과정, 보상 시스템, 연속된 행동에서 학습 = 즉, 시스템 성능을 향상시키는 것을 목적으로 함\n",
    "\n",
    "\n",
    "* ML 작업흐름\n",
    "    - (1) 전처리 : 특성 추출, 스케일 조정, 특성선택, 차원축소, 샘플링\n",
    "    - (2) 학습 : 모델 선택, 교차 검증, 성능 지표, hp 최적화\n",
    "    - (3) 평가 : 최종모델, 레이블링\n",
    "    - (4) 예측\n",
    "\n",
    "\n",
    "* ML에서 최적의 성능을 내기 위해선\n",
    "    * 선택된 특성이 같은 스케일을 가져아 함, 표준정규분포로 변환\n",
    "    * 특성 간 상관관계가 높을 경우 차원축소\n",
    "    * train, test셋으로 분리하여 모델구축 및 평가"
   ]
  },
  {
   "cell_type": "markdown",
   "metadata": {},
   "source": [
    "### ----------------------- Ch.2 -----------------------"
   ]
  },
  {
   "cell_type": "markdown",
   "metadata": {},
   "source": [
    "## 간단한 분류 알고리즘\n",
    "\n",
    "1. 인공뉴런 : 퍼셉트론 결정함수에서 임계값 세타에 의해 1, -1로 분류\n",
    "\n",
    "\n",
    "퍼셉트론은 두 클래스가 선형적으로 구분되고 학습률이 충분히 작을 때만 수렴 보장\n",
    "즉, 두 클래스를 선형 결정 경계로 나눌 수 없다면 epoch지정하여 분류 허용 오차를 지정할 수 있음"
   ]
  },
  {
   "cell_type": "code",
   "execution_count": 2,
   "metadata": {},
   "outputs": [
    {
     "ename": "SyntaxError",
     "evalue": "EOF while scanning triple-quoted string literal (<ipython-input-2-af7ea598daa8>, line 5)",
     "output_type": "error",
     "traceback": [
      "\u001b[1;36m  File \u001b[1;32m\"<ipython-input-2-af7ea598daa8>\"\u001b[1;36m, line \u001b[1;32m5\u001b[0m\n\u001b[1;33m    \"\"\"\u001b[0m\n\u001b[1;37m       ^\u001b[0m\n\u001b[1;31mSyntaxError\u001b[0m\u001b[1;31m:\u001b[0m EOF while scanning triple-quoted string literal\n"
     ]
    }
   ],
   "source": [
    "# 객체지향 방법으로 퍼셉트론 구현하기\n",
    "import numpy as np\n",
    "\n",
    "class Perceptron(object):\n",
    "    \n",
    "    "
   ]
  },
  {
   "cell_type": "code",
   "execution_count": null,
   "metadata": {},
   "outputs": [],
   "source": []
  },
  {
   "cell_type": "code",
   "execution_count": null,
   "metadata": {},
   "outputs": [],
   "source": []
  },
  {
   "cell_type": "code",
   "execution_count": null,
   "metadata": {},
   "outputs": [],
   "source": []
  }
 ],
 "metadata": {
  "kernelspec": {
   "display_name": "Python 3",
   "language": "python",
   "name": "python3"
  },
  "language_info": {
   "codemirror_mode": {
    "name": "ipython",
    "version": 3
   },
   "file_extension": ".py",
   "mimetype": "text/x-python",
   "name": "python",
   "nbconvert_exporter": "python",
   "pygments_lexer": "ipython3",
   "version": "3.7.3"
  }
 },
 "nbformat": 4,
 "nbformat_minor": 2
}
