{
 "cells": [
  {
   "cell_type": "markdown",
   "metadata": {},
   "source": [
    "# 전력 수요량 예측 모델링_3\n",
    "##### 20191023 - \n",
    "##### 예측 해보기\n",
    "Train 데이터로 모델을 학습, 검증 후 Test로 예측합니다.\n",
    "\n",
    " - ML 방법\n",
    "    1. https://www.kaggle.com/fkstepz/step-by-step-house-prices-prediction"
   ]
  },
  {
   "cell_type": "code",
   "execution_count": 2,
   "metadata": {},
   "outputs": [],
   "source": [
    "# import package\n",
    "import pandas as pd\n",
    "import numpy as np\n",
    "import matplotlib as mpl\n",
    "import matplotlib.pyplot as plt\n",
    "import seaborn as sns \n",
    "\n",
    "from datetime import datetime, timedelta\n",
    "%matplotlib inline"
   ]
  },
  {
   "cell_type": "markdown",
   "metadata": {},
   "source": [
    "## 1. 데이터 불러오기"
   ]
  },
  {
   "cell_type": "code",
   "execution_count": 45,
   "metadata": {},
   "outputs": [],
   "source": [
    "# 랜덤하게 뽑은 260세대에 선형보간법을 적용한 데이터\n",
    "pre_train_1 = pd.read_csv(\"interpolation_1.csv\")\n",
    "#train['Time'] = pd.to_datetime(train['Time'])\n",
    "#train = train.set_index('Time')"
   ]
  },
  {
   "cell_type": "code",
   "execution_count": 5,
   "metadata": {
    "scrolled": true
   },
   "outputs": [
    {
     "data": {
      "text/html": [
       "<div>\n",
       "<style scoped>\n",
       "    .dataframe tbody tr th:only-of-type {\n",
       "        vertical-align: middle;\n",
       "    }\n",
       "\n",
       "    .dataframe tbody tr th {\n",
       "        vertical-align: top;\n",
       "    }\n",
       "\n",
       "    .dataframe thead th {\n",
       "        text-align: right;\n",
       "    }\n",
       "</style>\n",
       "<table border=\"1\" class=\"dataframe\">\n",
       "  <thead>\n",
       "    <tr style=\"text-align: right;\">\n",
       "      <th></th>\n",
       "      <th>Time</th>\n",
       "      <th>X1472</th>\n",
       "      <th>X115</th>\n",
       "      <th>X1226</th>\n",
       "      <th>X273</th>\n",
       "      <th>X339</th>\n",
       "      <th>X774</th>\n",
       "      <th>X857</th>\n",
       "      <th>X1075</th>\n",
       "      <th>X1061</th>\n",
       "      <th>...</th>\n",
       "      <th>X933</th>\n",
       "      <th>X1238</th>\n",
       "      <th>X394</th>\n",
       "      <th>X829</th>\n",
       "      <th>X432</th>\n",
       "      <th>X1334</th>\n",
       "      <th>X1416</th>\n",
       "      <th>X803</th>\n",
       "      <th>X45</th>\n",
       "      <th>X1205</th>\n",
       "    </tr>\n",
       "  </thead>\n",
       "  <tbody>\n",
       "    <tr>\n",
       "      <td>0</td>\n",
       "      <td>2016-07-26 11:00:00</td>\n",
       "      <td>NaN</td>\n",
       "      <td>NaN</td>\n",
       "      <td>NaN</td>\n",
       "      <td>NaN</td>\n",
       "      <td>NaN</td>\n",
       "      <td>NaN</td>\n",
       "      <td>NaN</td>\n",
       "      <td>NaN</td>\n",
       "      <td>NaN</td>\n",
       "      <td>...</td>\n",
       "      <td>NaN</td>\n",
       "      <td>NaN</td>\n",
       "      <td>NaN</td>\n",
       "      <td>NaN</td>\n",
       "      <td>NaN</td>\n",
       "      <td>NaN</td>\n",
       "      <td>NaN</td>\n",
       "      <td>NaN</td>\n",
       "      <td>NaN</td>\n",
       "      <td>NaN</td>\n",
       "    </tr>\n",
       "    <tr>\n",
       "      <td>1</td>\n",
       "      <td>2016-07-26 12:00:00</td>\n",
       "      <td>NaN</td>\n",
       "      <td>NaN</td>\n",
       "      <td>NaN</td>\n",
       "      <td>NaN</td>\n",
       "      <td>NaN</td>\n",
       "      <td>NaN</td>\n",
       "      <td>NaN</td>\n",
       "      <td>NaN</td>\n",
       "      <td>NaN</td>\n",
       "      <td>...</td>\n",
       "      <td>NaN</td>\n",
       "      <td>NaN</td>\n",
       "      <td>NaN</td>\n",
       "      <td>NaN</td>\n",
       "      <td>NaN</td>\n",
       "      <td>NaN</td>\n",
       "      <td>NaN</td>\n",
       "      <td>NaN</td>\n",
       "      <td>NaN</td>\n",
       "      <td>NaN</td>\n",
       "    </tr>\n",
       "    <tr>\n",
       "      <td>2</td>\n",
       "      <td>2016-07-26 13:00:00</td>\n",
       "      <td>NaN</td>\n",
       "      <td>NaN</td>\n",
       "      <td>NaN</td>\n",
       "      <td>NaN</td>\n",
       "      <td>NaN</td>\n",
       "      <td>NaN</td>\n",
       "      <td>NaN</td>\n",
       "      <td>NaN</td>\n",
       "      <td>NaN</td>\n",
       "      <td>...</td>\n",
       "      <td>NaN</td>\n",
       "      <td>NaN</td>\n",
       "      <td>NaN</td>\n",
       "      <td>NaN</td>\n",
       "      <td>NaN</td>\n",
       "      <td>NaN</td>\n",
       "      <td>NaN</td>\n",
       "      <td>NaN</td>\n",
       "      <td>NaN</td>\n",
       "      <td>NaN</td>\n",
       "    </tr>\n",
       "    <tr>\n",
       "      <td>3</td>\n",
       "      <td>2016-07-26 14:00:00</td>\n",
       "      <td>NaN</td>\n",
       "      <td>NaN</td>\n",
       "      <td>NaN</td>\n",
       "      <td>NaN</td>\n",
       "      <td>NaN</td>\n",
       "      <td>NaN</td>\n",
       "      <td>NaN</td>\n",
       "      <td>NaN</td>\n",
       "      <td>NaN</td>\n",
       "      <td>...</td>\n",
       "      <td>NaN</td>\n",
       "      <td>NaN</td>\n",
       "      <td>NaN</td>\n",
       "      <td>NaN</td>\n",
       "      <td>NaN</td>\n",
       "      <td>NaN</td>\n",
       "      <td>NaN</td>\n",
       "      <td>NaN</td>\n",
       "      <td>NaN</td>\n",
       "      <td>NaN</td>\n",
       "    </tr>\n",
       "    <tr>\n",
       "      <td>4</td>\n",
       "      <td>2016-07-26 15:00:00</td>\n",
       "      <td>NaN</td>\n",
       "      <td>NaN</td>\n",
       "      <td>NaN</td>\n",
       "      <td>NaN</td>\n",
       "      <td>NaN</td>\n",
       "      <td>NaN</td>\n",
       "      <td>NaN</td>\n",
       "      <td>NaN</td>\n",
       "      <td>NaN</td>\n",
       "      <td>...</td>\n",
       "      <td>NaN</td>\n",
       "      <td>NaN</td>\n",
       "      <td>NaN</td>\n",
       "      <td>NaN</td>\n",
       "      <td>NaN</td>\n",
       "      <td>NaN</td>\n",
       "      <td>NaN</td>\n",
       "      <td>NaN</td>\n",
       "      <td>NaN</td>\n",
       "      <td>NaN</td>\n",
       "    </tr>\n",
       "    <tr>\n",
       "      <td>...</td>\n",
       "      <td>...</td>\n",
       "      <td>...</td>\n",
       "      <td>...</td>\n",
       "      <td>...</td>\n",
       "      <td>...</td>\n",
       "      <td>...</td>\n",
       "      <td>...</td>\n",
       "      <td>...</td>\n",
       "      <td>...</td>\n",
       "      <td>...</td>\n",
       "      <td>...</td>\n",
       "      <td>...</td>\n",
       "      <td>...</td>\n",
       "      <td>...</td>\n",
       "      <td>...</td>\n",
       "      <td>...</td>\n",
       "      <td>...</td>\n",
       "      <td>...</td>\n",
       "      <td>...</td>\n",
       "      <td>...</td>\n",
       "      <td>...</td>\n",
       "    </tr>\n",
       "    <tr>\n",
       "      <td>16904</td>\n",
       "      <td>2018-06-30 19:00:00</td>\n",
       "      <td>0.331</td>\n",
       "      <td>1.325</td>\n",
       "      <td>0.356</td>\n",
       "      <td>0.329</td>\n",
       "      <td>0.330</td>\n",
       "      <td>0.756</td>\n",
       "      <td>0.694</td>\n",
       "      <td>0.172</td>\n",
       "      <td>1.010</td>\n",
       "      <td>...</td>\n",
       "      <td>0.222</td>\n",
       "      <td>0.285</td>\n",
       "      <td>0.262</td>\n",
       "      <td>0.644</td>\n",
       "      <td>0.277</td>\n",
       "      <td>0.689</td>\n",
       "      <td>0.835</td>\n",
       "      <td>0.879</td>\n",
       "      <td>NaN</td>\n",
       "      <td>0.281</td>\n",
       "    </tr>\n",
       "    <tr>\n",
       "      <td>16905</td>\n",
       "      <td>2018-06-30 20:00:00</td>\n",
       "      <td>0.404</td>\n",
       "      <td>1.218</td>\n",
       "      <td>0.346</td>\n",
       "      <td>0.335</td>\n",
       "      <td>0.387</td>\n",
       "      <td>0.445</td>\n",
       "      <td>0.912</td>\n",
       "      <td>0.734</td>\n",
       "      <td>0.681</td>\n",
       "      <td>...</td>\n",
       "      <td>0.222</td>\n",
       "      <td>0.301</td>\n",
       "      <td>0.287</td>\n",
       "      <td>0.720</td>\n",
       "      <td>0.300</td>\n",
       "      <td>0.832</td>\n",
       "      <td>0.435</td>\n",
       "      <td>0.408</td>\n",
       "      <td>NaN</td>\n",
       "      <td>0.245</td>\n",
       "    </tr>\n",
       "    <tr>\n",
       "      <td>16906</td>\n",
       "      <td>2018-06-30 21:00:00</td>\n",
       "      <td>0.379</td>\n",
       "      <td>1.100</td>\n",
       "      <td>0.302</td>\n",
       "      <td>0.291</td>\n",
       "      <td>0.446</td>\n",
       "      <td>0.386</td>\n",
       "      <td>0.844</td>\n",
       "      <td>0.934</td>\n",
       "      <td>0.548</td>\n",
       "      <td>...</td>\n",
       "      <td>0.222</td>\n",
       "      <td>0.297</td>\n",
       "      <td>0.292</td>\n",
       "      <td>0.694</td>\n",
       "      <td>0.305</td>\n",
       "      <td>0.484</td>\n",
       "      <td>0.487</td>\n",
       "      <td>0.636</td>\n",
       "      <td>NaN</td>\n",
       "      <td>0.483</td>\n",
       "    </tr>\n",
       "    <tr>\n",
       "      <td>16907</td>\n",
       "      <td>2018-06-30 22:00:00</td>\n",
       "      <td>0.553</td>\n",
       "      <td>1.094</td>\n",
       "      <td>0.233</td>\n",
       "      <td>0.278</td>\n",
       "      <td>0.385</td>\n",
       "      <td>0.393</td>\n",
       "      <td>0.840</td>\n",
       "      <td>0.715</td>\n",
       "      <td>0.589</td>\n",
       "      <td>...</td>\n",
       "      <td>0.222</td>\n",
       "      <td>0.406</td>\n",
       "      <td>0.258</td>\n",
       "      <td>0.582</td>\n",
       "      <td>0.233</td>\n",
       "      <td>0.781</td>\n",
       "      <td>0.318</td>\n",
       "      <td>0.504</td>\n",
       "      <td>NaN</td>\n",
       "      <td>0.467</td>\n",
       "    </tr>\n",
       "    <tr>\n",
       "      <td>16908</td>\n",
       "      <td>2018-06-30 23:00:00</td>\n",
       "      <td>0.584</td>\n",
       "      <td>1.086</td>\n",
       "      <td>0.131</td>\n",
       "      <td>0.278</td>\n",
       "      <td>0.362</td>\n",
       "      <td>1.447</td>\n",
       "      <td>0.874</td>\n",
       "      <td>0.343</td>\n",
       "      <td>0.420</td>\n",
       "      <td>...</td>\n",
       "      <td>0.222</td>\n",
       "      <td>0.824</td>\n",
       "      <td>0.644</td>\n",
       "      <td>0.699</td>\n",
       "      <td>0.191</td>\n",
       "      <td>0.850</td>\n",
       "      <td>0.632</td>\n",
       "      <td>0.693</td>\n",
       "      <td>NaN</td>\n",
       "      <td>0.390</td>\n",
       "    </tr>\n",
       "  </tbody>\n",
       "</table>\n",
       "<p>16909 rows × 261 columns</p>\n",
       "</div>"
      ],
      "text/plain": [
       "                      Time  X1472   X115  X1226   X273   X339   X774   X857  \\\n",
       "0      2016-07-26 11:00:00    NaN    NaN    NaN    NaN    NaN    NaN    NaN   \n",
       "1      2016-07-26 12:00:00    NaN    NaN    NaN    NaN    NaN    NaN    NaN   \n",
       "2      2016-07-26 13:00:00    NaN    NaN    NaN    NaN    NaN    NaN    NaN   \n",
       "3      2016-07-26 14:00:00    NaN    NaN    NaN    NaN    NaN    NaN    NaN   \n",
       "4      2016-07-26 15:00:00    NaN    NaN    NaN    NaN    NaN    NaN    NaN   \n",
       "...                    ...    ...    ...    ...    ...    ...    ...    ...   \n",
       "16904  2018-06-30 19:00:00  0.331  1.325  0.356  0.329  0.330  0.756  0.694   \n",
       "16905  2018-06-30 20:00:00  0.404  1.218  0.346  0.335  0.387  0.445  0.912   \n",
       "16906  2018-06-30 21:00:00  0.379  1.100  0.302  0.291  0.446  0.386  0.844   \n",
       "16907  2018-06-30 22:00:00  0.553  1.094  0.233  0.278  0.385  0.393  0.840   \n",
       "16908  2018-06-30 23:00:00  0.584  1.086  0.131  0.278  0.362  1.447  0.874   \n",
       "\n",
       "       X1075  X1061  ...   X933  X1238   X394   X829   X432  X1334  X1416  \\\n",
       "0        NaN    NaN  ...    NaN    NaN    NaN    NaN    NaN    NaN    NaN   \n",
       "1        NaN    NaN  ...    NaN    NaN    NaN    NaN    NaN    NaN    NaN   \n",
       "2        NaN    NaN  ...    NaN    NaN    NaN    NaN    NaN    NaN    NaN   \n",
       "3        NaN    NaN  ...    NaN    NaN    NaN    NaN    NaN    NaN    NaN   \n",
       "4        NaN    NaN  ...    NaN    NaN    NaN    NaN    NaN    NaN    NaN   \n",
       "...      ...    ...  ...    ...    ...    ...    ...    ...    ...    ...   \n",
       "16904  0.172  1.010  ...  0.222  0.285  0.262  0.644  0.277  0.689  0.835   \n",
       "16905  0.734  0.681  ...  0.222  0.301  0.287  0.720  0.300  0.832  0.435   \n",
       "16906  0.934  0.548  ...  0.222  0.297  0.292  0.694  0.305  0.484  0.487   \n",
       "16907  0.715  0.589  ...  0.222  0.406  0.258  0.582  0.233  0.781  0.318   \n",
       "16908  0.343  0.420  ...  0.222  0.824  0.644  0.699  0.191  0.850  0.632   \n",
       "\n",
       "        X803  X45  X1205  \n",
       "0        NaN  NaN    NaN  \n",
       "1        NaN  NaN    NaN  \n",
       "2        NaN  NaN    NaN  \n",
       "3        NaN  NaN    NaN  \n",
       "4        NaN  NaN    NaN  \n",
       "...      ...  ...    ...  \n",
       "16904  0.879  NaN  0.281  \n",
       "16905  0.408  NaN  0.245  \n",
       "16906  0.636  NaN  0.483  \n",
       "16907  0.504  NaN  0.467  \n",
       "16908  0.693  NaN  0.390  \n",
       "\n",
       "[16909 rows x 261 columns]"
      ]
     },
     "execution_count": 5,
     "metadata": {},
     "output_type": "execute_result"
    }
   ],
   "source": [
    "pre_train_1"
   ]
  },
  {
   "cell_type": "code",
   "execution_count": 8,
   "metadata": {},
   "outputs": [],
   "source": [
    "# 모든 행이 NaN인 세대 수 1301-1293=8세대\n",
    "NaN_list = set(pre_train_1.dropna(how='all', axis=1).keys())\n",
    "set(pre_train_1.keys()).difference(NaN_list)\n",
    "\n",
    "NaN_X = set(pre_train_1.keys()).difference(NaN_list)"
   ]
  },
  {
   "cell_type": "code",
   "execution_count": 44,
   "metadata": {
    "scrolled": true
   },
   "outputs": [
    {
     "data": {
      "text/plain": [
       "Index(['X1472', 'X115', 'X1226', 'X273', 'X339', 'X774', 'X857', 'X1075',\n",
       "       'X1061', 'X1091',\n",
       "       ...\n",
       "       'X933', 'X1238', 'X394', 'X829', 'X432', 'X1334', 'X1416', 'X803',\n",
       "       'X45', 'X1205'],\n",
       "      dtype='object', length=260)"
      ]
     },
     "execution_count": 44,
     "metadata": {},
     "output_type": "execute_result"
    }
   ],
   "source": [
    "pre_train_1.keys()"
   ]
  },
  {
   "cell_type": "code",
   "execution_count": 9,
   "metadata": {},
   "outputs": [],
   "source": [
    "# 결측치가 아닌 행의 위치 DF\n",
    "first_notnull_2 = []  # 빈 list\n",
    "\n",
    "for i in pre_train_1.keys()[1:]:\n",
    "    if i not in NaN_X:\n",
    "       _ = pre_train_1[i]\n",
    "       first_notnull_2.append(_[_.isnull() == False].index[0])\n",
    "    else:\n",
    "        first_notnull_2.append(0)\n",
    "        \n",
    "df_notnull_2 = pd.DataFrame(first_notnull_2, list(pre_train_1.keys()[1:]))\n",
    "df_notnull_2.columns = ['not_blank_num']"
   ]
  },
  {
   "cell_type": "code",
   "execution_count": 39,
   "metadata": {
    "scrolled": true
   },
   "outputs": [
    {
     "data": {
      "text/html": [
       "<div>\n",
       "<style scoped>\n",
       "    .dataframe tbody tr th:only-of-type {\n",
       "        vertical-align: middle;\n",
       "    }\n",
       "\n",
       "    .dataframe tbody tr th {\n",
       "        vertical-align: top;\n",
       "    }\n",
       "\n",
       "    .dataframe thead th {\n",
       "        text-align: right;\n",
       "    }\n",
       "</style>\n",
       "<table border=\"1\" class=\"dataframe\">\n",
       "  <thead>\n",
       "    <tr style=\"text-align: right;\">\n",
       "      <th></th>\n",
       "      <th>not_blank_num</th>\n",
       "    </tr>\n",
       "  </thead>\n",
       "  <tbody>\n",
       "    <tr>\n",
       "      <td>X1472</td>\n",
       "      <td>13645</td>\n",
       "    </tr>\n",
       "    <tr>\n",
       "      <td>X115</td>\n",
       "      <td>219</td>\n",
       "    </tr>\n",
       "    <tr>\n",
       "      <td>X1226</td>\n",
       "      <td>13645</td>\n",
       "    </tr>\n",
       "    <tr>\n",
       "      <td>X273</td>\n",
       "      <td>9600</td>\n",
       "    </tr>\n",
       "    <tr>\n",
       "      <td>X339</td>\n",
       "      <td>9575</td>\n",
       "    </tr>\n",
       "    <tr>\n",
       "      <td>...</td>\n",
       "      <td>...</td>\n",
       "    </tr>\n",
       "    <tr>\n",
       "      <td>X1334</td>\n",
       "      <td>13645</td>\n",
       "    </tr>\n",
       "    <tr>\n",
       "      <td>X1416</td>\n",
       "      <td>13645</td>\n",
       "    </tr>\n",
       "    <tr>\n",
       "      <td>X803</td>\n",
       "      <td>13645</td>\n",
       "    </tr>\n",
       "    <tr>\n",
       "      <td>X45</td>\n",
       "      <td>0</td>\n",
       "    </tr>\n",
       "    <tr>\n",
       "      <td>X1205</td>\n",
       "      <td>13645</td>\n",
       "    </tr>\n",
       "  </tbody>\n",
       "</table>\n",
       "<p>260 rows × 1 columns</p>\n",
       "</div>"
      ],
      "text/plain": [
       "       not_blank_num\n",
       "X1472          13645\n",
       "X115             219\n",
       "X1226          13645\n",
       "X273            9600\n",
       "X339            9575\n",
       "...              ...\n",
       "X1334          13645\n",
       "X1416          13645\n",
       "X803           13645\n",
       "X45                0\n",
       "X1205          13645\n",
       "\n",
       "[260 rows x 1 columns]"
      ]
     },
     "execution_count": 39,
     "metadata": {},
     "output_type": "execute_result"
    }
   ],
   "source": [
    "df_notnull_2"
   ]
  },
  {
   "cell_type": "code",
   "execution_count": null,
   "metadata": {},
   "outputs": [],
   "source": []
  },
  {
   "cell_type": "code",
   "execution_count": 25,
   "metadata": {
    "scrolled": true
   },
   "outputs": [
    {
     "data": {
      "text/plain": [
       "13645    212\n",
       "9575      14\n",
       "9600       9\n",
       "15152      7\n",
       "9623       3\n",
       "9469       3\n",
       "219        3\n",
       "9624       2\n",
       "0          2\n",
       "9590       1\n",
       "9574       1\n",
       "13634      1\n",
       "9485       1\n",
       "9334       1\n",
       "dtype: int64"
      ]
     },
     "execution_count": 25,
     "metadata": {},
     "output_type": "execute_result"
    }
   ],
   "source": [
    "pd.Series(first_notnull_2).value_counts()"
   ]
  },
  {
   "cell_type": "code",
   "execution_count": 37,
   "metadata": {
    "scrolled": true
   },
   "outputs": [
    {
     "data": {
      "text/plain": [
       "not_blank_num    48\n",
       "dtype: int64"
      ]
     },
     "execution_count": 37,
     "metadata": {},
     "output_type": "execute_result"
    }
   ],
   "source": [
    "df_notnull_2[df_notnull_2['not_blank_num'] != 13645].count()"
   ]
  },
  {
   "cell_type": "code",
   "execution_count": 10,
   "metadata": {},
   "outputs": [],
   "source": [
    "# index Time으로 고정\n",
    "pre_train_1 = pre_train_1.set_index('Time')"
   ]
  },
  {
   "cell_type": "markdown",
   "metadata": {},
   "source": [
    "## ARIMA\n",
    "1. https://towardsdatascience.com/time-series-in-python-part-2-dealing-with-seasonal-data-397a65b74051\n",
    "2. https://byeongkijeong.github.io/ARIMA-with-Python/"
   ]
  },
  {
   "cell_type": "code",
   "execution_count": 26,
   "metadata": {},
   "outputs": [
    {
     "data": {
      "text/plain": [
       "13645"
      ]
     },
     "execution_count": 26,
     "metadata": {},
     "output_type": "execute_result"
    }
   ],
   "source": [
    "start_num"
   ]
  },
  {
   "cell_type": "code",
   "execution_count": 13,
   "metadata": {
    "scrolled": true
   },
   "outputs": [
    {
     "data": {
      "text/html": [
       "<div>\n",
       "<style scoped>\n",
       "    .dataframe tbody tr th:only-of-type {\n",
       "        vertical-align: middle;\n",
       "    }\n",
       "\n",
       "    .dataframe tbody tr th {\n",
       "        vertical-align: top;\n",
       "    }\n",
       "\n",
       "    .dataframe thead th {\n",
       "        text-align: right;\n",
       "    }\n",
       "</style>\n",
       "<table border=\"1\" class=\"dataframe\">\n",
       "  <thead>\n",
       "    <tr style=\"text-align: right;\">\n",
       "      <th></th>\n",
       "      <th>X1226</th>\n",
       "    </tr>\n",
       "    <tr>\n",
       "      <th>Time</th>\n",
       "      <th></th>\n",
       "    </tr>\n",
       "  </thead>\n",
       "  <tbody>\n",
       "    <tr>\n",
       "      <td>2018-02-15 00:00:00</td>\n",
       "      <td>0.029</td>\n",
       "    </tr>\n",
       "    <tr>\n",
       "      <td>2018-02-15 01:00:00</td>\n",
       "      <td>0.079</td>\n",
       "    </tr>\n",
       "    <tr>\n",
       "      <td>2018-02-15 02:00:00</td>\n",
       "      <td>0.083</td>\n",
       "    </tr>\n",
       "    <tr>\n",
       "      <td>2018-02-15 03:00:00</td>\n",
       "      <td>0.085</td>\n",
       "    </tr>\n",
       "    <tr>\n",
       "      <td>2018-02-15 04:00:00</td>\n",
       "      <td>0.087</td>\n",
       "    </tr>\n",
       "    <tr>\n",
       "      <td>...</td>\n",
       "      <td>...</td>\n",
       "    </tr>\n",
       "    <tr>\n",
       "      <td>2018-06-30 19:00:00</td>\n",
       "      <td>0.356</td>\n",
       "    </tr>\n",
       "    <tr>\n",
       "      <td>2018-06-30 20:00:00</td>\n",
       "      <td>0.346</td>\n",
       "    </tr>\n",
       "    <tr>\n",
       "      <td>2018-06-30 21:00:00</td>\n",
       "      <td>0.302</td>\n",
       "    </tr>\n",
       "    <tr>\n",
       "      <td>2018-06-30 22:00:00</td>\n",
       "      <td>0.233</td>\n",
       "    </tr>\n",
       "    <tr>\n",
       "      <td>2018-06-30 23:00:00</td>\n",
       "      <td>0.131</td>\n",
       "    </tr>\n",
       "  </tbody>\n",
       "</table>\n",
       "<p>3264 rows × 1 columns</p>\n",
       "</div>"
      ],
      "text/plain": [
       "                     X1226\n",
       "Time                      \n",
       "2018-02-15 00:00:00  0.029\n",
       "2018-02-15 01:00:00  0.079\n",
       "2018-02-15 02:00:00  0.083\n",
       "2018-02-15 03:00:00  0.085\n",
       "2018-02-15 04:00:00  0.087\n",
       "...                    ...\n",
       "2018-06-30 19:00:00  0.356\n",
       "2018-06-30 20:00:00  0.346\n",
       "2018-06-30 21:00:00  0.302\n",
       "2018-06-30 22:00:00  0.233\n",
       "2018-06-30 23:00:00  0.131\n",
       "\n",
       "[3264 rows x 1 columns]"
      ]
     },
     "execution_count": 13,
     "metadata": {},
     "output_type": "execute_result"
    }
   ],
   "source": [
    "start_num = df_notnull_2.loc['X1226'][0]\n",
    "pre_train_1[['X1226']][start_num:]"
   ]
  },
  {
   "cell_type": "code",
   "execution_count": 46,
   "metadata": {},
   "outputs": [
    {
     "name": "stdout",
     "output_type": "stream",
     "text": [
      "<class 'pandas.core.frame.DataFrame'>\n",
      "RangeIndex: 3264 entries, 13645 to 16908\n",
      "Data columns (total 1 columns):\n",
      "X1226    3264 non-null float64\n",
      "dtypes: float64(1)\n",
      "memory usage: 25.6 KB\n"
     ]
    }
   ],
   "source": [
    "X1226_df = pd.DataFrame(pre_train_1[['X1226']][start_num:])\n",
    "X1226_df.info()"
   ]
  },
  {
   "cell_type": "code",
   "execution_count": 52,
   "metadata": {},
   "outputs": [
    {
     "name": "stdout",
     "output_type": "stream",
     "text": [
      "Train 개수 : 2285\n",
      "Test  개수 : 979\n"
     ]
    }
   ],
   "source": [
    "# Train, Test 개수 구하기\n",
    "print(\"Train 개수 :\", round(X1226_df.shape[0]*0.7))\n",
    "print(\"Test  개수 :\", X1226_df.shape[0] - round(X1226_df.shape[0]*0.7))"
   ]
  },
  {
   "cell_type": "code",
   "execution_count": 68,
   "metadata": {},
   "outputs": [
    {
     "data": {
      "image/png": "[encoded data removed]",
      "text/plain": [
       "<Figure size 1440x360 with 1 Axes>"
      ]
     },
     "metadata": {
      "needs_background": "light"
     },
     "output_type": "display_data"
    }
   ],
   "source": [
    "# split train test\n",
    "X1226_train = df.iloc[:-979, :]\n",
    "X1226_test = df.iloc[-979:, :]\n",
    "\n",
    "# set index to timedata\n",
    "X1226_train.index = pd.to_datetime(X1226_train.index)\n",
    "X1226_test.index = pd.to_datetime(X1226_test.index)\n",
    "\n",
    "# predict\n",
    "X1226_pred = X1226_test.copy()\n",
    "\n",
    "X1226_df.plot(figsize=(20,5))\n",
    "plt.ylim(0,1)\n",
    "plt.show()"
   ]
  },
  {
   "cell_type": "markdown",
   "metadata": {},
   "source": [
    "## 시계열분석\n",
    "https://medium.com/open-machine-learning-course/open-machine-learning-course-topic-9-time-series-analysis-in-python-a270cb05e0b3"
   ]
  },
  {
   "cell_type": "code",
   "execution_count": 67,
   "metadata": {},
   "outputs": [],
   "source": [
    "# package load\n",
    "import statsmodels.formula.api as smf            # statistics and econometrics\n",
    "import statsmodels.tsa.api as smt\n",
    "import statsmodels.api as sm\n",
    "import scipy.stats as scs\n",
    "\n",
    "from itertools import product                    # some useful functions\n",
    "from tqdm import tqdm_notebook\n",
    "\n",
    "import warnings                                  # `do not disturbe` mode\n",
    "warnings.filterwarnings('ignore')\n",
    "\n",
    "%matplotlib inline\n",
    "%config InlineBackend.figure_format = 'retina'"
   ]
  },
  {
   "cell_type": "code",
   "execution_count": 69,
   "metadata": {},
   "outputs": [],
   "source": [
    "# Forecast quality metrics\n",
    "# R2 : sklearn.metrics.r2_score\n",
    "# MAE : sklearn.metrics.mean_absolute_error\n",
    "# MedAE : sklearn.metrics.median_absolute_error\n",
    "# MSE : sklearn.metrics.mean_squared_error\n",
    "# MSLE : sklearn.metrics.mean_squared_log_error\n",
    "# MAPE : def mean_absolute_percentage_error(y_true, y_pred): \n",
    "#    return np.mean(np.abs((y_true - y_pred) / y_true)) * 100\n",
    "\n",
    "# Importing everything from above\n",
    "\n",
    "from sklearn.metrics import r2_score, median_absolute_error, mean_absolute_error\n",
    "from sklearn.metrics import median_absolute_error, mean_squared_error, mean_squared_log_error\n",
    "\n",
    "def mean_absolute_percentage_error(y_true, y_pred): \n",
    "    return np.mean(np.abs((y_true - y_pred) / y_true)) * 100"
   ]
  },
  {
   "cell_type": "markdown",
   "metadata": {},
   "source": [
    "## XGBoost\n",
    ": tree-based모델로, train에서 발견된 값 중 최대값 이상의 값(최소값 이하의 값)을 추론,예측할 수 없음. \n",
    "\n",
    "이를 해결하기 위해서는 trend를 제거하거나, series를 stationary하도록 만들어야 함\n",
    "\n",
    "* 이외에 고려할만한 ML모델 : SVM, RF, MLP"
   ]
  },
  {
   "cell_type": "code",
   "execution_count": null,
   "metadata": {},
   "outputs": [],
   "source": [
    "from xgboost import XGBRegressor \n",
    "\n",
    "xgb = XGBRegressor(verbosity=0)\n",
    "xgb.fit(X_train_scaled, y_train);"
   ]
  }
 ],
 "metadata": {
  "kernelspec": {
   "display_name": "Python 3",
   "language": "python",
   "name": "python3"
  },
  "language_info": {
   "codemirror_mode": {
    "name": "ipython",
    "version": 3
   },
   "file_extension": ".py",
   "mimetype": "text/x-python",
   "name": "python",
   "nbconvert_exporter": "python",
   "pygments_lexer": "ipython3",
   "version": "3.7.3"
  }
 },
 "nbformat": 4,
 "nbformat_minor": 2
}
