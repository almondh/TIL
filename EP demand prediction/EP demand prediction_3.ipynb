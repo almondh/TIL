{
 "cells": [
  {
   "cell_type": "markdown",
   "metadata": {},
   "source": [
    "# 전력 수요량 예측 모델링_3\n",
    "##### 20191023 - \n",
    "##### 예측 해보기\n",
    "Train 데이터로 모델을 학습, 검증 후 Test로 예측합니다.\n",
    "\n",
    " - ML 방법\n",
    "    1. https://www.kaggle.com/fkstepz/step-by-step-house-prices-prediction\n",
    " - LSTM"
   ]
  },
  {
   "cell_type": "code",
   "execution_count": 2,
   "metadata": {},
   "outputs": [],
   "source": [
    "# import package\n",
    "import pandas as pd\n",
    "import numpy as np\n",
    "import matplotlib as mpl\n",
    "import matplotlib.pyplot as plt\n",
    "import seaborn as sns \n",
    "\n",
    "from datetime import datetime, timedelta\n",
    "%matplotlib inline"
   ]
  },
  {
   "cell_type": "markdown",
   "metadata": {},
   "source": [
    "## 1. 데이터 불러오기"
   ]
  },
  {
   "cell_type": "code",
   "execution_count": 45,
   "metadata": {},
   "outputs": [],
   "source": [
    "# 랜덤하게 뽑은 260세대에 선형보간법을 적용한 데이터\n",
    "pre_train_1 = pd.read_csv(\"interpolation_1.csv\")\n",
    "#train['Time'] = pd.to_datetime(train['Time'])\n",
    "#train = train.set_index('Time')"
   ]
  },
  {
   "cell_type": "code",
   "execution_count": 5,
   "metadata": {
    "scrolled": true
   },
   "outputs": [
    {
     "data": {
      "text/html": [
       "<div>\n",
       "<style scoped>\n",
       "    .dataframe tbody tr th:only-of-type {\n",
       "        vertical-align: middle;\n",
       "    }\n",
       "\n",
       "    .dataframe tbody tr th {\n",
       "        vertical-align: top;\n",
       "    }\n",
       "\n",
       "    .dataframe thead th {\n",
       "        text-align: right;\n",
       "    }\n",
       "</style>\n",
       "<table border=\"1\" class=\"dataframe\">\n",
       "  <thead>\n",
       "    <tr style=\"text-align: right;\">\n",
       "      <th></th>\n",
       "      <th>Time</th>\n",
       "      <th>X1472</th>\n",
       "      <th>X115</th>\n",
       "      <th>X1226</th>\n",
       "      <th>X273</th>\n",
       "      <th>X339</th>\n",
       "      <th>X774</th>\n",
       "      <th>X857</th>\n",
       "      <th>X1075</th>\n",
       "      <th>X1061</th>\n",
       "      <th>...</th>\n",
       "      <th>X933</th>\n",
       "      <th>X1238</th>\n",
       "      <th>X394</th>\n",
       "      <th>X829</th>\n",
       "      <th>X432</th>\n",
       "      <th>X1334</th>\n",
       "      <th>X1416</th>\n",
       "      <th>X803</th>\n",
       "      <th>X45</th>\n",
       "      <th>X1205</th>\n",
       "    </tr>\n",
       "  </thead>\n",
       "  <tbody>\n",
       "    <tr>\n",
       "      <td>0</td>\n",
       "      <td>2016-07-26 11:00:00</td>\n",
       "      <td>NaN</td>\n",
       "      <td>NaN</td>\n",
       "      <td>NaN</td>\n",
       "      <td>NaN</td>\n",
       "      <td>NaN</td>\n",
       "      <td>NaN</td>\n",
       "      <td>NaN</td>\n",
       "      <td>NaN</td>\n",
       "      <td>NaN</td>\n",
       "      <td>...</td>\n",
       "      <td>NaN</td>\n",
       "      <td>NaN</td>\n",
       "      <td>NaN</td>\n",
       "      <td>NaN</td>\n",
       "      <td>NaN</td>\n",
       "      <td>NaN</td>\n",
       "      <td>NaN</td>\n",
       "      <td>NaN</td>\n",
       "      <td>NaN</td>\n",
       "      <td>NaN</td>\n",
       "    </tr>\n",
       "    <tr>\n",
       "      <td>1</td>\n",
       "      <td>2016-07-26 12:00:00</td>\n",
       "      <td>NaN</td>\n",
       "      <td>NaN</td>\n",
       "      <td>NaN</td>\n",
       "      <td>NaN</td>\n",
       "      <td>NaN</td>\n",
       "      <td>NaN</td>\n",
       "      <td>NaN</td>\n",
       "      <td>NaN</td>\n",
       "      <td>NaN</td>\n",
       "      <td>...</td>\n",
       "      <td>NaN</td>\n",
       "      <td>NaN</td>\n",
       "      <td>NaN</td>\n",
       "      <td>NaN</td>\n",
       "      <td>NaN</td>\n",
       "      <td>NaN</td>\n",
       "      <td>NaN</td>\n",
       "      <td>NaN</td>\n",
       "      <td>NaN</td>\n",
       "      <td>NaN</td>\n",
       "    </tr>\n",
       "    <tr>\n",
       "      <td>2</td>\n",
       "      <td>2016-07-26 13:00:00</td>\n",
       "      <td>NaN</td>\n",
       "      <td>NaN</td>\n",
       "      <td>NaN</td>\n",
       "      <td>NaN</td>\n",
       "      <td>NaN</td>\n",
       "      <td>NaN</td>\n",
       "      <td>NaN</td>\n",
       "      <td>NaN</td>\n",
       "      <td>NaN</td>\n",
       "      <td>...</td>\n",
       "      <td>NaN</td>\n",
       "      <td>NaN</td>\n",
       "      <td>NaN</td>\n",
       "      <td>NaN</td>\n",
       "      <td>NaN</td>\n",
       "      <td>NaN</td>\n",
       "      <td>NaN</td>\n",
       "      <td>NaN</td>\n",
       "      <td>NaN</td>\n",
       "      <td>NaN</td>\n",
       "    </tr>\n",
       "    <tr>\n",
       "      <td>3</td>\n",
       "      <td>2016-07-26 14:00:00</td>\n",
       "      <td>NaN</td>\n",
       "      <td>NaN</td>\n",
       "      <td>NaN</td>\n",
       "      <td>NaN</td>\n",
       "      <td>NaN</td>\n",
       "      <td>NaN</td>\n",
       "      <td>NaN</td>\n",
       "      <td>NaN</td>\n",
       "      <td>NaN</td>\n",
       "      <td>...</td>\n",
       "      <td>NaN</td>\n",
       "      <td>NaN</td>\n",
       "      <td>NaN</td>\n",
       "      <td>NaN</td>\n",
       "      <td>NaN</td>\n",
       "      <td>NaN</td>\n",
       "      <td>NaN</td>\n",
       "      <td>NaN</td>\n",
       "      <td>NaN</td>\n",
       "      <td>NaN</td>\n",
       "    </tr>\n",
       "    <tr>\n",
       "      <td>4</td>\n",
       "      <td>2016-07-26 15:00:00</td>\n",
       "      <td>NaN</td>\n",
       "      <td>NaN</td>\n",
       "      <td>NaN</td>\n",
       "      <td>NaN</td>\n",
       "      <td>NaN</td>\n",
       "      <td>NaN</td>\n",
       "      <td>NaN</td>\n",
       "      <td>NaN</td>\n",
       "      <td>NaN</td>\n",
       "      <td>...</td>\n",
       "      <td>NaN</td>\n",
       "      <td>NaN</td>\n",
       "      <td>NaN</td>\n",
       "      <td>NaN</td>\n",
       "      <td>NaN</td>\n",
       "      <td>NaN</td>\n",
       "      <td>NaN</td>\n",
       "      <td>NaN</td>\n",
       "      <td>NaN</td>\n",
       "      <td>NaN</td>\n",
       "    </tr>\n",
       "    <tr>\n",
       "      <td>...</td>\n",
       "      <td>...</td>\n",
       "      <td>...</td>\n",
       "      <td>...</td>\n",
       "      <td>...</td>\n",
       "      <td>...</td>\n",
       "      <td>...</td>\n",
       "      <td>...</td>\n",
       "      <td>...</td>\n",
       "      <td>...</td>\n",
       "      <td>...</td>\n",
       "      <td>...</td>\n",
       "      <td>...</td>\n",
       "      <td>...</td>\n",
       "      <td>...</td>\n",
       "      <td>...</td>\n",
       "      <td>...</td>\n",
       "      <td>...</td>\n",
       "      <td>...</td>\n",
       "      <td>...</td>\n",
       "      <td>...</td>\n",
       "      <td>...</td>\n",
       "    </tr>\n",
       "    <tr>\n",
       "      <td>16904</td>\n",
       "      <td>2018-06-30 19:00:00</td>\n",
       "      <td>0.331</td>\n",
       "      <td>1.325</td>\n",
       "      <td>0.356</td>\n",
       "      <td>0.329</td>\n",
       "      <td>0.330</td>\n",
       "      <td>0.756</td>\n",
       "      <td>0.694</td>\n",
       "      <td>0.172</td>\n",
       "      <td>1.010</td>\n",
       "      <td>...</td>\n",
       "      <td>0.222</td>\n",
       "      <td>0.285</td>\n",
       "      <td>0.262</td>\n",
       "      <td>0.644</td>\n",
       "      <td>0.277</td>\n",
       "      <td>0.689</td>\n",
       "      <td>0.835</td>\n",
       "      <td>0.879</td>\n",
       "      <td>NaN</td>\n",
       "      <td>0.281</td>\n",
       "    </tr>\n",
       "    <tr>\n",
       "      <td>16905</td>\n",
       "      <td>2018-06-30 20:00:00</td>\n",
       "      <td>0.404</td>\n",
       "      <td>1.218</td>\n",
       "      <td>0.346</td>\n",
       "      <td>0.335</td>\n",
       "      <td>0.387</td>\n",
       "      <td>0.445</td>\n",
       "      <td>0.912</td>\n",
       "      <td>0.734</td>\n",
       "      <td>0.681</td>\n",
       "      <td>...</td>\n",
       "      <td>0.222</td>\n",
       "      <td>0.301</td>\n",
       "      <td>0.287</td>\n",
       "      <td>0.720</td>\n",
       "      <td>0.300</td>\n",
       "      <td>0.832</td>\n",
       "      <td>0.435</td>\n",
       "      <td>0.408</td>\n",
       "      <td>NaN</td>\n",
       "      <td>0.245</td>\n",
       "    </tr>\n",
       "    <tr>\n",
       "      <td>16906</td>\n",
       "      <td>2018-06-30 21:00:00</td>\n",
       "      <td>0.379</td>\n",
       "      <td>1.100</td>\n",
       "      <td>0.302</td>\n",
       "      <td>0.291</td>\n",
       "      <td>0.446</td>\n",
       "      <td>0.386</td>\n",
       "      <td>0.844</td>\n",
       "      <td>0.934</td>\n",
       "      <td>0.548</td>\n",
       "      <td>...</td>\n",
       "      <td>0.222</td>\n",
       "      <td>0.297</td>\n",
       "      <td>0.292</td>\n",
       "      <td>0.694</td>\n",
       "      <td>0.305</td>\n",
       "      <td>0.484</td>\n",
       "      <td>0.487</td>\n",
       "      <td>0.636</td>\n",
       "      <td>NaN</td>\n",
       "      <td>0.483</td>\n",
       "    </tr>\n",
       "    <tr>\n",
       "      <td>16907</td>\n",
       "      <td>2018-06-30 22:00:00</td>\n",
       "      <td>0.553</td>\n",
       "      <td>1.094</td>\n",
       "      <td>0.233</td>\n",
       "      <td>0.278</td>\n",
       "      <td>0.385</td>\n",
       "      <td>0.393</td>\n",
       "      <td>0.840</td>\n",
       "      <td>0.715</td>\n",
       "      <td>0.589</td>\n",
       "      <td>...</td>\n",
       "      <td>0.222</td>\n",
       "      <td>0.406</td>\n",
       "      <td>0.258</td>\n",
       "      <td>0.582</td>\n",
       "      <td>0.233</td>\n",
       "      <td>0.781</td>\n",
       "      <td>0.318</td>\n",
       "      <td>0.504</td>\n",
       "      <td>NaN</td>\n",
       "      <td>0.467</td>\n",
       "    </tr>\n",
       "    <tr>\n",
       "      <td>16908</td>\n",
       "      <td>2018-06-30 23:00:00</td>\n",
       "      <td>0.584</td>\n",
       "      <td>1.086</td>\n",
       "      <td>0.131</td>\n",
       "      <td>0.278</td>\n",
       "      <td>0.362</td>\n",
       "      <td>1.447</td>\n",
       "      <td>0.874</td>\n",
       "      <td>0.343</td>\n",
       "      <td>0.420</td>\n",
       "      <td>...</td>\n",
       "      <td>0.222</td>\n",
       "      <td>0.824</td>\n",
       "      <td>0.644</td>\n",
       "      <td>0.699</td>\n",
       "      <td>0.191</td>\n",
       "      <td>0.850</td>\n",
       "      <td>0.632</td>\n",
       "      <td>0.693</td>\n",
       "      <td>NaN</td>\n",
       "      <td>0.390</td>\n",
       "    </tr>\n",
       "  </tbody>\n",
       "</table>\n",
       "<p>16909 rows × 261 columns</p>\n",
       "</div>"
      ],
      "text/plain": [
       "                      Time  X1472   X115  X1226   X273   X339   X774   X857  \\\n",
       "0      2016-07-26 11:00:00    NaN    NaN    NaN    NaN    NaN    NaN    NaN   \n",
       "1      2016-07-26 12:00:00    NaN    NaN    NaN    NaN    NaN    NaN    NaN   \n",
       "2      2016-07-26 13:00:00    NaN    NaN    NaN    NaN    NaN    NaN    NaN   \n",
       "3      2016-07-26 14:00:00    NaN    NaN    NaN    NaN    NaN    NaN    NaN   \n",
       "4      2016-07-26 15:00:00    NaN    NaN    NaN    NaN    NaN    NaN    NaN   \n",
       "...                    ...    ...    ...    ...    ...    ...    ...    ...   \n",
       "16904  2018-06-30 19:00:00  0.331  1.325  0.356  0.329  0.330  0.756  0.694   \n",
       "16905  2018-06-30 20:00:00  0.404  1.218  0.346  0.335  0.387  0.445  0.912   \n",
       "16906  2018-06-30 21:00:00  0.379  1.100  0.302  0.291  0.446  0.386  0.844   \n",
       "16907  2018-06-30 22:00:00  0.553  1.094  0.233  0.278  0.385  0.393  0.840   \n",
       "16908  2018-06-30 23:00:00  0.584  1.086  0.131  0.278  0.362  1.447  0.874   \n",
       "\n",
       "       X1075  X1061  ...   X933  X1238   X394   X829   X432  X1334  X1416  \\\n",
       "0        NaN    NaN  ...    NaN    NaN    NaN    NaN    NaN    NaN    NaN   \n",
       "1        NaN    NaN  ...    NaN    NaN    NaN    NaN    NaN    NaN    NaN   \n",
       "2        NaN    NaN  ...    NaN    NaN    NaN    NaN    NaN    NaN    NaN   \n",
       "3        NaN    NaN  ...    NaN    NaN    NaN    NaN    NaN    NaN    NaN   \n",
       "4        NaN    NaN  ...    NaN    NaN    NaN    NaN    NaN    NaN    NaN   \n",
       "...      ...    ...  ...    ...    ...    ...    ...    ...    ...    ...   \n",
       "16904  0.172  1.010  ...  0.222  0.285  0.262  0.644  0.277  0.689  0.835   \n",
       "16905  0.734  0.681  ...  0.222  0.301  0.287  0.720  0.300  0.832  0.435   \n",
       "16906  0.934  0.548  ...  0.222  0.297  0.292  0.694  0.305  0.484  0.487   \n",
       "16907  0.715  0.589  ...  0.222  0.406  0.258  0.582  0.233  0.781  0.318   \n",
       "16908  0.343  0.420  ...  0.222  0.824  0.644  0.699  0.191  0.850  0.632   \n",
       "\n",
       "        X803  X45  X1205  \n",
       "0        NaN  NaN    NaN  \n",
       "1        NaN  NaN    NaN  \n",
       "2        NaN  NaN    NaN  \n",
       "3        NaN  NaN    NaN  \n",
       "4        NaN  NaN    NaN  \n",
       "...      ...  ...    ...  \n",
       "16904  0.879  NaN  0.281  \n",
       "16905  0.408  NaN  0.245  \n",
       "16906  0.636  NaN  0.483  \n",
       "16907  0.504  NaN  0.467  \n",
       "16908  0.693  NaN  0.390  \n",
       "\n",
       "[16909 rows x 261 columns]"
      ]
     },
     "execution_count": 5,
     "metadata": {},
     "output_type": "execute_result"
    }
   ],
   "source": [
    "pre_train_1"
   ]
  },
  {
   "cell_type": "code",
   "execution_count": 8,
   "metadata": {},
   "outputs": [],
   "source": [
    "# 모든 행이 NaN인 세대 수 1301-1293=8세대\n",
    "NaN_list = set(pre_train_1.dropna(how='all', axis=1).keys())\n",
    "set(pre_train_1.keys()).difference(NaN_list)\n",
    "\n",
    "NaN_X = set(pre_train_1.keys()).difference(NaN_list)"
   ]
  },
  {
   "cell_type": "code",
   "execution_count": 44,
   "metadata": {
    "scrolled": true
   },
   "outputs": [
    {
     "data": {
      "text/plain": [
       "Index(['X1472', 'X115', 'X1226', 'X273', 'X339', 'X774', 'X857', 'X1075',\n",
       "       'X1061', 'X1091',\n",
       "       ...\n",
       "       'X933', 'X1238', 'X394', 'X829', 'X432', 'X1334', 'X1416', 'X803',\n",
       "       'X45', 'X1205'],\n",
       "      dtype='object', length=260)"
      ]
     },
     "execution_count": 44,
     "metadata": {},
     "output_type": "execute_result"
    }
   ],
   "source": [
    "pre_train_1.keys()"
   ]
  },
  {
   "cell_type": "code",
   "execution_count": 9,
   "metadata": {},
   "outputs": [],
   "source": [
    "# 결측치가 아닌 행의 위치 DF\n",
    "first_notnull_2 = []  # 빈 list\n",
    "\n",
    "for i in pre_train_1.keys()[1:]:\n",
    "    if i not in NaN_X:\n",
    "       _ = pre_train_1[i]\n",
    "       first_notnull_2.append(_[_.isnull() == False].index[0])\n",
    "    else:\n",
    "        first_notnull_2.append(0)\n",
    "        \n",
    "df_notnull_2 = pd.DataFrame(first_notnull_2, list(pre_train_1.keys()[1:]))\n",
    "df_notnull_2.columns = ['not_blank_num']"
   ]
  },
  {
   "cell_type": "code",
   "execution_count": 39,
   "metadata": {
    "scrolled": true
   },
   "outputs": [
    {
     "data": {
      "text/html": [
       "<div>\n",
       "<style scoped>\n",
       "    .dataframe tbody tr th:only-of-type {\n",
       "        vertical-align: middle;\n",
       "    }\n",
       "\n",
       "    .dataframe tbody tr th {\n",
       "        vertical-align: top;\n",
       "    }\n",
       "\n",
       "    .dataframe thead th {\n",
       "        text-align: right;\n",
       "    }\n",
       "</style>\n",
       "<table border=\"1\" class=\"dataframe\">\n",
       "  <thead>\n",
       "    <tr style=\"text-align: right;\">\n",
       "      <th></th>\n",
       "      <th>not_blank_num</th>\n",
       "    </tr>\n",
       "  </thead>\n",
       "  <tbody>\n",
       "    <tr>\n",
       "      <td>X1472</td>\n",
       "      <td>13645</td>\n",
       "    </tr>\n",
       "    <tr>\n",
       "      <td>X115</td>\n",
       "      <td>219</td>\n",
       "    </tr>\n",
       "    <tr>\n",
       "      <td>X1226</td>\n",
       "      <td>13645</td>\n",
       "    </tr>\n",
       "    <tr>\n",
       "      <td>X273</td>\n",
       "      <td>9600</td>\n",
       "    </tr>\n",
       "    <tr>\n",
       "      <td>X339</td>\n",
       "      <td>9575</td>\n",
       "    </tr>\n",
       "    <tr>\n",
       "      <td>...</td>\n",
       "      <td>...</td>\n",
       "    </tr>\n",
       "    <tr>\n",
       "      <td>X1334</td>\n",
       "      <td>13645</td>\n",
       "    </tr>\n",
       "    <tr>\n",
       "      <td>X1416</td>\n",
       "      <td>13645</td>\n",
       "    </tr>\n",
       "    <tr>\n",
       "      <td>X803</td>\n",
       "      <td>13645</td>\n",
       "    </tr>\n",
       "    <tr>\n",
       "      <td>X45</td>\n",
       "      <td>0</td>\n",
       "    </tr>\n",
       "    <tr>\n",
       "      <td>X1205</td>\n",
       "      <td>13645</td>\n",
       "    </tr>\n",
       "  </tbody>\n",
       "</table>\n",
       "<p>260 rows × 1 columns</p>\n",
       "</div>"
      ],
      "text/plain": [
       "       not_blank_num\n",
       "X1472          13645\n",
       "X115             219\n",
       "X1226          13645\n",
       "X273            9600\n",
       "X339            9575\n",
       "...              ...\n",
       "X1334          13645\n",
       "X1416          13645\n",
       "X803           13645\n",
       "X45                0\n",
       "X1205          13645\n",
       "\n",
       "[260 rows x 1 columns]"
      ]
     },
     "execution_count": 39,
     "metadata": {},
     "output_type": "execute_result"
    }
   ],
   "source": [
    "df_notnull_2"
   ]
  },
  {
   "cell_type": "code",
   "execution_count": 25,
   "metadata": {
    "scrolled": true
   },
   "outputs": [
    {
     "data": {
      "text/plain": [
       "13645    212\n",
       "9575      14\n",
       "9600       9\n",
       "15152      7\n",
       "9623       3\n",
       "9469       3\n",
       "219        3\n",
       "9624       2\n",
       "0          2\n",
       "9590       1\n",
       "9574       1\n",
       "13634      1\n",
       "9485       1\n",
       "9334       1\n",
       "dtype: int64"
      ]
     },
     "execution_count": 25,
     "metadata": {},
     "output_type": "execute_result"
    }
   ],
   "source": [
    "pd.Series(first_notnull_2).value_counts()"
   ]
  },
  {
   "cell_type": "code",
   "execution_count": 37,
   "metadata": {
    "scrolled": true
   },
   "outputs": [
    {
     "data": {
      "text/plain": [
       "not_blank_num    48\n",
       "dtype: int64"
      ]
     },
     "execution_count": 37,
     "metadata": {},
     "output_type": "execute_result"
    }
   ],
   "source": [
    "df_notnull_2[df_notnull_2['not_blank_num'] != 13645].count()"
   ]
  },
  {
   "cell_type": "code",
   "execution_count": 10,
   "metadata": {},
   "outputs": [],
   "source": [
    "# index Time으로 고정\n",
    "pre_train_1 = pre_train_1.set_index('Time')"
   ]
  },
  {
   "cell_type": "markdown",
   "metadata": {},
   "source": [
    "## ARIMA\n",
    "1. https://towardsdatascience.com/time-series-in-python-part-2-dealing-with-seasonal-data-397a65b74051\n",
    "2. https://byeongkijeong.github.io/ARIMA-with-Python/"
   ]
  },
  {
   "cell_type": "code",
   "execution_count": 26,
   "metadata": {},
   "outputs": [
    {
     "data": {
      "text/plain": [
       "13645"
      ]
     },
     "execution_count": 26,
     "metadata": {},
     "output_type": "execute_result"
    }
   ],
   "source": [
    "start_num"
   ]
  },
  {
   "cell_type": "code",
   "execution_count": 13,
   "metadata": {
    "scrolled": true
   },
   "outputs": [
    {
     "data": {
      "text/html": [
       "<div>\n",
       "<style scoped>\n",
       "    .dataframe tbody tr th:only-of-type {\n",
       "        vertical-align: middle;\n",
       "    }\n",
       "\n",
       "    .dataframe tbody tr th {\n",
       "        vertical-align: top;\n",
       "    }\n",
       "\n",
       "    .dataframe thead th {\n",
       "        text-align: right;\n",
       "    }\n",
       "</style>\n",
       "<table border=\"1\" class=\"dataframe\">\n",
       "  <thead>\n",
       "    <tr style=\"text-align: right;\">\n",
       "      <th></th>\n",
       "      <th>X1226</th>\n",
       "    </tr>\n",
       "    <tr>\n",
       "      <th>Time</th>\n",
       "      <th></th>\n",
       "    </tr>\n",
       "  </thead>\n",
       "  <tbody>\n",
       "    <tr>\n",
       "      <td>2018-02-15 00:00:00</td>\n",
       "      <td>0.029</td>\n",
       "    </tr>\n",
       "    <tr>\n",
       "      <td>2018-02-15 01:00:00</td>\n",
       "      <td>0.079</td>\n",
       "    </tr>\n",
       "    <tr>\n",
       "      <td>2018-02-15 02:00:00</td>\n",
       "      <td>0.083</td>\n",
       "    </tr>\n",
       "    <tr>\n",
       "      <td>2018-02-15 03:00:00</td>\n",
       "      <td>0.085</td>\n",
       "    </tr>\n",
       "    <tr>\n",
       "      <td>2018-02-15 04:00:00</td>\n",
       "      <td>0.087</td>\n",
       "    </tr>\n",
       "    <tr>\n",
       "      <td>...</td>\n",
       "      <td>...</td>\n",
       "    </tr>\n",
       "    <tr>\n",
       "      <td>2018-06-30 19:00:00</td>\n",
       "      <td>0.356</td>\n",
       "    </tr>\n",
       "    <tr>\n",
       "      <td>2018-06-30 20:00:00</td>\n",
       "      <td>0.346</td>\n",
       "    </tr>\n",
       "    <tr>\n",
       "      <td>2018-06-30 21:00:00</td>\n",
       "      <td>0.302</td>\n",
       "    </tr>\n",
       "    <tr>\n",
       "      <td>2018-06-30 22:00:00</td>\n",
       "      <td>0.233</td>\n",
       "    </tr>\n",
       "    <tr>\n",
       "      <td>2018-06-30 23:00:00</td>\n",
       "      <td>0.131</td>\n",
       "    </tr>\n",
       "  </tbody>\n",
       "</table>\n",
       "<p>3264 rows × 1 columns</p>\n",
       "</div>"
      ],
      "text/plain": [
       "                     X1226\n",
       "Time                      \n",
       "2018-02-15 00:00:00  0.029\n",
       "2018-02-15 01:00:00  0.079\n",
       "2018-02-15 02:00:00  0.083\n",
       "2018-02-15 03:00:00  0.085\n",
       "2018-02-15 04:00:00  0.087\n",
       "...                    ...\n",
       "2018-06-30 19:00:00  0.356\n",
       "2018-06-30 20:00:00  0.346\n",
       "2018-06-30 21:00:00  0.302\n",
       "2018-06-30 22:00:00  0.233\n",
       "2018-06-30 23:00:00  0.131\n",
       "\n",
       "[3264 rows x 1 columns]"
      ]
     },
     "execution_count": 13,
     "metadata": {},
     "output_type": "execute_result"
    }
   ],
   "source": [
    "start_num = df_notnull_2.loc['X1226'][0]\n",
    "pre_train_1[['X1226']][start_num:]"
   ]
  },
  {
   "cell_type": "code",
   "execution_count": 46,
   "metadata": {},
   "outputs": [
    {
     "name": "stdout",
     "output_type": "stream",
     "text": [
      "<class 'pandas.core.frame.DataFrame'>\n",
      "RangeIndex: 3264 entries, 13645 to 16908\n",
      "Data columns (total 1 columns):\n",
      "X1226    3264 non-null float64\n",
      "dtypes: float64(1)\n",
      "memory usage: 25.6 KB\n"
     ]
    }
   ],
   "source": [
    "X1226_df = pd.DataFrame(pre_train_1[['X1226']][start_num:])\n",
    "X1226_df.info()"
   ]
  },
  {
   "cell_type": "code",
   "execution_count": 52,
   "metadata": {},
   "outputs": [
    {
     "name": "stdout",
     "output_type": "stream",
     "text": [
      "Train 개수 : 2285\n",
      "Test  개수 : 979\n"
     ]
    }
   ],
   "source": [
    "# Train, Test 개수 구하기\n",
    "print(\"Train 개수 :\", round(X1226_df.shape[0]*0.7))\n",
    "print(\"Test  개수 :\", X1226_df.shape[0] - round(X1226_df.shape[0]*0.7))"
   ]
  },
  {
   "cell_type": "code",
   "execution_count": 68,
   "metadata": {},
   "outputs": [
    {
     "data": {
      "image/png": "[encoded data removed]",
      "text/plain": [
       "<Figure size 1440x360 with 1 Axes>"
      ]
     },
     "metadata": {
      "needs_background": "light"
     },
     "output_type": "display_data"
    }
   ],
   "source": [
    "# split train test\n",
    "X1226_train = df.iloc[:-979, :]\n",
    "X1226_test = df.iloc[-979:, :]\n",
    "\n",
    "# set index to timedata\n",
    "X1226_train.index = pd.to_datetime(X1226_train.index)\n",
    "X1226_test.index = pd.to_datetime(X1226_test.index)\n",
    "\n",
    "# predict\n",
    "X1226_pred = X1226_test.copy()\n",
    "\n",
    "X1226_df.plot(figsize=(20,5))\n",
    "plt.ylim(0,1)\n",
    "plt.show()"
   ]
  },
  {
   "cell_type": "markdown",
   "metadata": {},
   "source": [
    "## 시계열분석\n",
    "https://medium.com/open-machine-learning-course/open-machine-learning-course-topic-9-time-series-analysis-in-python-a270cb05e0b3"
   ]
  },
  {
   "cell_type": "code",
   "execution_count": 67,
   "metadata": {},
   "outputs": [],
   "source": [
    "# package load\n",
    "import statsmodels.formula.api as smf            # statistics and econometrics\n",
    "import statsmodels.tsa.api as smt\n",
    "import statsmodels.api as sm\n",
    "import scipy.stats as scs\n",
    "\n",
    "from itertools import product                    # some useful functions\n",
    "from tqdm import tqdm_notebook\n",
    "\n",
    "import warnings                                  # `do not disturbe` mode\n",
    "warnings.filterwarnings('ignore')\n",
    "\n",
    "%matplotlib inline\n",
    "%config InlineBackend.figure_format = 'retina'"
   ]
  },
  {
   "cell_type": "code",
   "execution_count": 69,
   "metadata": {},
   "outputs": [],
   "source": [
    "# Forecast quality metrics\n",
    "# R2 : sklearn.metrics.r2_score\n",
    "# MAE : sklearn.metrics.mean_absolute_error\n",
    "# MedAE : sklearn.metrics.median_absolute_error\n",
    "# MSE : sklearn.metrics.mean_squared_error\n",
    "# MSLE : sklearn.metrics.mean_squared_log_error\n",
    "# MAPE : def mean_absolute_percentage_error(y_true, y_pred): \n",
    "#    return np.mean(np.abs((y_true - y_pred) / y_true)) * 100\n",
    "\n",
    "# Importing everything from above\n",
    "\n",
    "from sklearn.metrics import r2_score, median_absolute_error, mean_absolute_error\n",
    "from sklearn.metrics import median_absolute_error, mean_squared_error, mean_squared_log_error\n",
    "\n",
    "def mean_absolute_percentage_error(y_true, y_pred): \n",
    "    return np.mean(np.abs((y_true - y_pred) / y_true)) * 100"
   ]
  },
  {
   "cell_type": "markdown",
   "metadata": {},
   "source": [
    "## XGBoost\n",
    ": tree-based모델로, train에서 발견된 값 중 최대값 이상의 값(최소값 이하의 값)을 추론,예측할 수 없음. \n",
    "\n",
    "이를 해결하기 위해서는 trend를 제거하거나, series를 stationary하도록 만들어야 함\n",
    "\n",
    "* 이외에 고려할만한 ML모델 : SVM, RF, MLP"
   ]
  },
  {
   "cell_type": "markdown",
   "metadata": {},
   "source": [
    "## LSTM(Long Short-Term Memory) with Keras\n",
    "\n",
    "## LSTM 첫번째\n",
    "\n",
    "https://roboreport.co.kr/%EB%94%A5%EB%9F%AC%EB%8B%9Dlstm%EC%9C%BC%EB%A1%9C-%EC%95%84%ED%8C%8C%ED%8A%B8-%EC%A7%80%EC%88%98-%EC%98%88%EC%B8%A1%ED%95%98%EA%B8%B0-1-%ED%9B%88%EB%A0%A8-%EB%8D%B0%EC%9D%B4%ED%84%B0-%EC%83%9D/\n",
    "\n",
    "RNNs(Recurrent Neural networks)의 한종류  \n",
    "시계열 데이터의 형태를 갖는 데이터에서 패턴을 인식하는 ANN"
   ]
  },
  {
   "cell_type": "code",
   "execution_count": 3,
   "metadata": {},
   "outputs": [],
   "source": [
    "import pandas as pd\n",
    "import numpy as np\n",
    "%matplotlib inline\n",
    "import matplotlib.pyplot as plt"
   ]
  },
  {
   "cell_type": "markdown",
   "metadata": {},
   "source": [
    "### 1. load data"
   ]
  },
  {
   "cell_type": "code",
   "execution_count": 147,
   "metadata": {},
   "outputs": [],
   "source": [
    "# 보간법으로 채운 test data\n",
    "test = pd.read_csv(\"보간법/test_interpolation.csv\")\n",
    "test['Time'] = pd.to_datetime(test['Time'])\n",
    "test = test.set_index('Time')"
   ]
  },
  {
   "cell_type": "code",
   "execution_count": 236,
   "metadata": {},
   "outputs": [
    {
     "data": {
      "text/plain": [
       "X303    1320\n",
       "X241    1320\n",
       "X435    1426\n",
       "X402    1426\n",
       "X352    1426\n",
       "        ... \n",
       "X443    1426\n",
       "X347    1426\n",
       "X75        0\n",
       "X107       0\n",
       "X230    1451\n",
       "Length: 199, dtype: int64"
      ]
     },
     "execution_count": 236,
     "metadata": {},
     "output_type": "execute_result"
    }
   ],
   "source": [
    "# test 결측치 갯수\n",
    "test.isnull().sum()"
   ]
  },
  {
   "cell_type": "code",
   "execution_count": 149,
   "metadata": {
    "scrolled": true
   },
   "outputs": [
    {
     "data": {
      "text/html": [
       "<div>\n",
       "<style scoped>\n",
       "    .dataframe tbody tr th:only-of-type {\n",
       "        vertical-align: middle;\n",
       "    }\n",
       "\n",
       "    .dataframe tbody tr th {\n",
       "        vertical-align: top;\n",
       "    }\n",
       "\n",
       "    .dataframe thead th {\n",
       "        text-align: right;\n",
       "    }\n",
       "</style>\n",
       "<table border=\"1\" class=\"dataframe\">\n",
       "  <thead>\n",
       "    <tr style=\"text-align: right;\">\n",
       "      <th></th>\n",
       "      <th>X303</th>\n",
       "      <th>X241</th>\n",
       "      <th>X435</th>\n",
       "      <th>X402</th>\n",
       "      <th>X352</th>\n",
       "      <th>X305</th>\n",
       "      <th>X350</th>\n",
       "      <th>X326</th>\n",
       "      <th>X299</th>\n",
       "      <th>X160</th>\n",
       "      <th>...</th>\n",
       "      <th>X283</th>\n",
       "      <th>X329</th>\n",
       "      <th>X223</th>\n",
       "      <th>X266</th>\n",
       "      <th>X20</th>\n",
       "      <th>X443</th>\n",
       "      <th>X347</th>\n",
       "      <th>X75</th>\n",
       "      <th>X107</th>\n",
       "      <th>X230</th>\n",
       "    </tr>\n",
       "    <tr>\n",
       "      <th>Time</th>\n",
       "      <th></th>\n",
       "      <th></th>\n",
       "      <th></th>\n",
       "      <th></th>\n",
       "      <th></th>\n",
       "      <th></th>\n",
       "      <th></th>\n",
       "      <th></th>\n",
       "      <th></th>\n",
       "      <th></th>\n",
       "      <th></th>\n",
       "      <th></th>\n",
       "      <th></th>\n",
       "      <th></th>\n",
       "      <th></th>\n",
       "      <th></th>\n",
       "      <th></th>\n",
       "      <th></th>\n",
       "      <th></th>\n",
       "      <th></th>\n",
       "      <th></th>\n",
       "    </tr>\n",
       "  </thead>\n",
       "  <tbody>\n",
       "    <tr>\n",
       "      <td>2017-07-01 00:00:00</td>\n",
       "      <td>NaN</td>\n",
       "      <td>NaN</td>\n",
       "      <td>NaN</td>\n",
       "      <td>NaN</td>\n",
       "      <td>NaN</td>\n",
       "      <td>NaN</td>\n",
       "      <td>NaN</td>\n",
       "      <td>NaN</td>\n",
       "      <td>NaN</td>\n",
       "      <td>NaN</td>\n",
       "      <td>...</td>\n",
       "      <td>NaN</td>\n",
       "      <td>NaN</td>\n",
       "      <td>NaN</td>\n",
       "      <td>NaN</td>\n",
       "      <td>NaN</td>\n",
       "      <td>NaN</td>\n",
       "      <td>NaN</td>\n",
       "      <td>0.275</td>\n",
       "      <td>0.021</td>\n",
       "      <td>NaN</td>\n",
       "    </tr>\n",
       "    <tr>\n",
       "      <td>2017-07-01 01:00:00</td>\n",
       "      <td>NaN</td>\n",
       "      <td>NaN</td>\n",
       "      <td>NaN</td>\n",
       "      <td>NaN</td>\n",
       "      <td>NaN</td>\n",
       "      <td>NaN</td>\n",
       "      <td>NaN</td>\n",
       "      <td>NaN</td>\n",
       "      <td>NaN</td>\n",
       "      <td>NaN</td>\n",
       "      <td>...</td>\n",
       "      <td>NaN</td>\n",
       "      <td>NaN</td>\n",
       "      <td>NaN</td>\n",
       "      <td>NaN</td>\n",
       "      <td>NaN</td>\n",
       "      <td>NaN</td>\n",
       "      <td>NaN</td>\n",
       "      <td>0.222</td>\n",
       "      <td>0.021</td>\n",
       "      <td>NaN</td>\n",
       "    </tr>\n",
       "    <tr>\n",
       "      <td>2017-07-01 02:00:00</td>\n",
       "      <td>NaN</td>\n",
       "      <td>NaN</td>\n",
       "      <td>NaN</td>\n",
       "      <td>NaN</td>\n",
       "      <td>NaN</td>\n",
       "      <td>NaN</td>\n",
       "      <td>NaN</td>\n",
       "      <td>NaN</td>\n",
       "      <td>NaN</td>\n",
       "      <td>NaN</td>\n",
       "      <td>...</td>\n",
       "      <td>NaN</td>\n",
       "      <td>NaN</td>\n",
       "      <td>NaN</td>\n",
       "      <td>NaN</td>\n",
       "      <td>NaN</td>\n",
       "      <td>NaN</td>\n",
       "      <td>NaN</td>\n",
       "      <td>0.237</td>\n",
       "      <td>0.021</td>\n",
       "      <td>NaN</td>\n",
       "    </tr>\n",
       "    <tr>\n",
       "      <td>2017-07-01 03:00:00</td>\n",
       "      <td>NaN</td>\n",
       "      <td>NaN</td>\n",
       "      <td>NaN</td>\n",
       "      <td>NaN</td>\n",
       "      <td>NaN</td>\n",
       "      <td>NaN</td>\n",
       "      <td>NaN</td>\n",
       "      <td>NaN</td>\n",
       "      <td>NaN</td>\n",
       "      <td>NaN</td>\n",
       "      <td>...</td>\n",
       "      <td>NaN</td>\n",
       "      <td>NaN</td>\n",
       "      <td>NaN</td>\n",
       "      <td>NaN</td>\n",
       "      <td>NaN</td>\n",
       "      <td>NaN</td>\n",
       "      <td>NaN</td>\n",
       "      <td>0.229</td>\n",
       "      <td>0.020</td>\n",
       "      <td>NaN</td>\n",
       "    </tr>\n",
       "    <tr>\n",
       "      <td>2017-07-01 04:00:00</td>\n",
       "      <td>NaN</td>\n",
       "      <td>NaN</td>\n",
       "      <td>NaN</td>\n",
       "      <td>NaN</td>\n",
       "      <td>NaN</td>\n",
       "      <td>NaN</td>\n",
       "      <td>NaN</td>\n",
       "      <td>NaN</td>\n",
       "      <td>NaN</td>\n",
       "      <td>NaN</td>\n",
       "      <td>...</td>\n",
       "      <td>NaN</td>\n",
       "      <td>NaN</td>\n",
       "      <td>NaN</td>\n",
       "      <td>NaN</td>\n",
       "      <td>NaN</td>\n",
       "      <td>NaN</td>\n",
       "      <td>NaN</td>\n",
       "      <td>0.202</td>\n",
       "      <td>0.021</td>\n",
       "      <td>NaN</td>\n",
       "    </tr>\n",
       "  </tbody>\n",
       "</table>\n",
       "<p>5 rows × 199 columns</p>\n",
       "</div>"
      ],
      "text/plain": [
       "                     X303  X241  X435  X402  X352  X305  X350  X326  X299  \\\n",
       "Time                                                                        \n",
       "2017-07-01 00:00:00   NaN   NaN   NaN   NaN   NaN   NaN   NaN   NaN   NaN   \n",
       "2017-07-01 01:00:00   NaN   NaN   NaN   NaN   NaN   NaN   NaN   NaN   NaN   \n",
       "2017-07-01 02:00:00   NaN   NaN   NaN   NaN   NaN   NaN   NaN   NaN   NaN   \n",
       "2017-07-01 03:00:00   NaN   NaN   NaN   NaN   NaN   NaN   NaN   NaN   NaN   \n",
       "2017-07-01 04:00:00   NaN   NaN   NaN   NaN   NaN   NaN   NaN   NaN   NaN   \n",
       "\n",
       "                     X160  ...  X283  X329  X223  X266  X20  X443  X347  \\\n",
       "Time                       ...                                            \n",
       "2017-07-01 00:00:00   NaN  ...   NaN   NaN   NaN   NaN  NaN   NaN   NaN   \n",
       "2017-07-01 01:00:00   NaN  ...   NaN   NaN   NaN   NaN  NaN   NaN   NaN   \n",
       "2017-07-01 02:00:00   NaN  ...   NaN   NaN   NaN   NaN  NaN   NaN   NaN   \n",
       "2017-07-01 03:00:00   NaN  ...   NaN   NaN   NaN   NaN  NaN   NaN   NaN   \n",
       "2017-07-01 04:00:00   NaN  ...   NaN   NaN   NaN   NaN  NaN   NaN   NaN   \n",
       "\n",
       "                       X75   X107  X230  \n",
       "Time                                     \n",
       "2017-07-01 00:00:00  0.275  0.021   NaN  \n",
       "2017-07-01 01:00:00  0.222  0.021   NaN  \n",
       "2017-07-01 02:00:00  0.237  0.021   NaN  \n",
       "2017-07-01 03:00:00  0.229  0.020   NaN  \n",
       "2017-07-01 04:00:00  0.202  0.021   NaN  \n",
       "\n",
       "[5 rows x 199 columns]"
      ]
     },
     "execution_count": 149,
     "metadata": {},
     "output_type": "execute_result"
    }
   ],
   "source": [
    "test.head()"
   ]
  },
  {
   "cell_type": "code",
   "execution_count": 150,
   "metadata": {},
   "outputs": [
    {
     "name": "stdout",
     "output_type": "stream",
     "text": [
      "<class 'pandas.core.frame.DataFrame'>\n",
      "DatetimeIndex: 8760 entries, 2017-07-01 00:00:00 to 2018-06-30 23:00:00\n",
      "Columns: 199 entries, X303 to X230\n",
      "dtypes: float64(199)\n",
      "memory usage: 13.4 MB\n"
     ]
    }
   ],
   "source": [
    "test.info()"
   ]
  },
  {
   "cell_type": "code",
   "execution_count": 151,
   "metadata": {},
   "outputs": [
    {
     "data": {
      "text/plain": [
       "<matplotlib.axes._subplots.AxesSubplot at 0xadb1cd89b0>"
      ]
     },
     "execution_count": 151,
     "metadata": {},
     "output_type": "execute_result"
    },
    {
     "data": {
      "image/png": "[encoded data removed]",
      "text/plain": [
       "<Figure size 432x288 with 1 Axes>"
      ]
     },
     "metadata": {
      "needs_background": "light"
     },
     "output_type": "display_data"
    }
   ],
   "source": [
    "test['X303'].plot()"
   ]
  },
  {
   "cell_type": "code",
   "execution_count": 152,
   "metadata": {
    "scrolled": true
   },
   "outputs": [
    {
     "name": "stdout",
     "output_type": "stream",
     "text": [
      "<class 'pandas.core.frame.DataFrame'>\n",
      "DatetimeIndex: 7440 entries, 2017-08-25 00:00:00 to 2018-06-30 23:00:00\n",
      "Data columns (total 1 columns):\n",
      "X303    7440 non-null float64\n",
      "dtypes: float64(1)\n",
      "memory usage: 116.2 KB\n"
     ]
    }
   ],
   "source": [
    "# X303 한 세대에 대해서 dropna(axis=0)\n",
    "test_X303 = pd.DataFrame(test['X303'].dropna(axis=0))\n",
    "test_X303.info()"
   ]
  },
  {
   "cell_type": "code",
   "execution_count": 153,
   "metadata": {
    "scrolled": true
   },
   "outputs": [
    {
     "data": {
      "text/plain": [
       "<matplotlib.axes._subplots.AxesSubplot at 0xadb2b5da20>"
      ]
     },
     "execution_count": 153,
     "metadata": {},
     "output_type": "execute_result"
    },
    {
     "data": {
      "image/png": "[encoded data removed]",
      "text/plain": [
       "<Figure size 432x288 with 1 Axes>"
      ]
     },
     "metadata": {
      "needs_background": "light"
     },
     "output_type": "display_data"
    }
   ],
   "source": [
    "test_X303.plot()"
   ]
  },
  {
   "cell_type": "markdown",
   "metadata": {},
   "source": [
    "### 2. Data split"
   ]
  },
  {
   "cell_type": "code",
   "execution_count": 154,
   "metadata": {},
   "outputs": [
    {
     "data": {
      "text/plain": [
       "<matplotlib.legend.Legend at 0xadb2b5d7f0>"
      ]
     },
     "execution_count": 154,
     "metadata": {},
     "output_type": "execute_result"
    },
    {
     "data": {
      "image/png": "[encoded data removed]",
      "text/plain": [
       "<Figure size 432x288 with 1 Axes>"
      ]
     },
     "metadata": {
      "needs_background": "light"
     },
     "output_type": "display_data"
    }
   ],
   "source": [
    "# test_X303을 train, test로 데이터 분리 \n",
    "# 2017-08-25 00:00:00 to 2018-06-30 23:00:00()\n",
    "split_n = round(len(test_X303)*0.7)  # 5208번째까지 train\n",
    "\n",
    "train_1 = test_X303.iloc[:split_n]\n",
    "test_1 = test_X303.iloc[split_n:]\n",
    "\n",
    "ax = train_1.plot()\n",
    "test_1.plot(ax=ax)\n",
    "plt.legend(['train', 'test'])"
   ]
  },
  {
   "cell_type": "markdown",
   "metadata": {},
   "source": [
    "### 3. Data fit_transform, scailing"
   ]
  },
  {
   "cell_type": "code",
   "execution_count": 162,
   "metadata": {},
   "outputs": [
    {
     "name": "stdout",
     "output_type": "stream",
     "text": [
      "train_sc :\n",
      " [[0.07218553]\n",
      " [0.05314084]\n",
      " [0.05529105]\n",
      " ...\n",
      " [0.11442175]\n",
      " [0.08186147]\n",
      " [0.05882353]]\n",
      "test_sc :\n",
      " [[0.07418215]\n",
      " [0.08124712]\n",
      " [0.06465981]\n",
      " ...\n",
      " [0.12624789]\n",
      " [0.07341422]\n",
      " [0.06450622]]\n"
     ]
    }
   ],
   "source": [
    "# 분포 추정, 변환, 스케일링\n",
    "from sklearn.preprocessing import MinMaxScaler\n",
    "\n",
    "scaler = MinMaxScaler(feature_range=(0,1))\n",
    "\n",
    "train_sc = scaler.fit_transform(train_1)  # fit + transform\n",
    "test_sc = scaler.transform(test_1)  # scailing\n",
    "\n",
    "print(\"train_sc :\\n\", train_sc)\n",
    "print(\"test_sc :\\n\", test_sc)"
   ]
  },
  {
   "cell_type": "code",
   "execution_count": 214,
   "metadata": {},
   "outputs": [
    {
     "data": {
      "text/html": [
       "<div>\n",
       "<style scoped>\n",
       "    .dataframe tbody tr th:only-of-type {\n",
       "        vertical-align: middle;\n",
       "    }\n",
       "\n",
       "    .dataframe tbody tr th {\n",
       "        vertical-align: top;\n",
       "    }\n",
       "\n",
       "    .dataframe thead th {\n",
       "        text-align: right;\n",
       "    }\n",
       "</style>\n",
       "<table border=\"1\" class=\"dataframe\">\n",
       "  <thead>\n",
       "    <tr style=\"text-align: right;\">\n",
       "      <th></th>\n",
       "      <th>X303</th>\n",
       "    </tr>\n",
       "    <tr>\n",
       "      <th>Time</th>\n",
       "      <th></th>\n",
       "    </tr>\n",
       "  </thead>\n",
       "  <tbody>\n",
       "    <tr>\n",
       "      <td>2017-08-25 00:00:00</td>\n",
       "      <td>0.072186</td>\n",
       "    </tr>\n",
       "    <tr>\n",
       "      <td>2017-08-25 01:00:00</td>\n",
       "      <td>0.053141</td>\n",
       "    </tr>\n",
       "    <tr>\n",
       "      <td>2017-08-25 02:00:00</td>\n",
       "      <td>0.055291</td>\n",
       "    </tr>\n",
       "    <tr>\n",
       "      <td>2017-08-25 03:00:00</td>\n",
       "      <td>0.052680</td>\n",
       "    </tr>\n",
       "    <tr>\n",
       "      <td>2017-08-25 04:00:00</td>\n",
       "      <td>0.038397</td>\n",
       "    </tr>\n",
       "  </tbody>\n",
       "</table>\n",
       "</div>"
      ],
      "text/plain": [
       "                         X303\n",
       "Time                         \n",
       "2017-08-25 00:00:00  0.072186\n",
       "2017-08-25 01:00:00  0.053141\n",
       "2017-08-25 02:00:00  0.055291\n",
       "2017-08-25 03:00:00  0.052680\n",
       "2017-08-25 04:00:00  0.038397"
      ]
     },
     "execution_count": 214,
     "metadata": {},
     "output_type": "execute_result"
    }
   ],
   "source": [
    "# 사용하기 편리하도록 df로 변환\n",
    "train_sc_df = pd.DataFrame(train_sc, columns=['X303'], index=train_1.index)\n",
    "test_sc_df = pd.DataFrame(test_sc, columns=['X303'], index=test_1.index)\n",
    "train_sc_df.head()"
   ]
  },
  {
   "cell_type": "code",
   "execution_count": 215,
   "metadata": {},
   "outputs": [
    {
     "data": {
      "text/html": [
       "<div>\n",
       "<style scoped>\n",
       "    .dataframe tbody tr th:only-of-type {\n",
       "        vertical-align: middle;\n",
       "    }\n",
       "\n",
       "    .dataframe tbody tr th {\n",
       "        vertical-align: top;\n",
       "    }\n",
       "\n",
       "    .dataframe thead th {\n",
       "        text-align: right;\n",
       "    }\n",
       "</style>\n",
       "<table border=\"1\" class=\"dataframe\">\n",
       "  <thead>\n",
       "    <tr style=\"text-align: right;\">\n",
       "      <th></th>\n",
       "      <th>X303</th>\n",
       "    </tr>\n",
       "    <tr>\n",
       "      <th>Time</th>\n",
       "      <th></th>\n",
       "    </tr>\n",
       "  </thead>\n",
       "  <tbody>\n",
       "    <tr>\n",
       "      <td>2018-03-30 00:00:00</td>\n",
       "      <td>0.074182</td>\n",
       "    </tr>\n",
       "    <tr>\n",
       "      <td>2018-03-30 01:00:00</td>\n",
       "      <td>0.081247</td>\n",
       "    </tr>\n",
       "    <tr>\n",
       "      <td>2018-03-30 02:00:00</td>\n",
       "      <td>0.064660</td>\n",
       "    </tr>\n",
       "    <tr>\n",
       "      <td>2018-03-30 03:00:00</td>\n",
       "      <td>0.056059</td>\n",
       "    </tr>\n",
       "    <tr>\n",
       "      <td>2018-03-30 04:00:00</td>\n",
       "      <td>0.041775</td>\n",
       "    </tr>\n",
       "    <tr>\n",
       "      <td>...</td>\n",
       "      <td>...</td>\n",
       "    </tr>\n",
       "    <tr>\n",
       "      <td>2018-06-30 19:00:00</td>\n",
       "      <td>0.017509</td>\n",
       "    </tr>\n",
       "    <tr>\n",
       "      <td>2018-06-30 20:00:00</td>\n",
       "      <td>0.250499</td>\n",
       "    </tr>\n",
       "    <tr>\n",
       "      <td>2018-06-30 21:00:00</td>\n",
       "      <td>0.126248</td>\n",
       "    </tr>\n",
       "    <tr>\n",
       "      <td>2018-06-30 22:00:00</td>\n",
       "      <td>0.073414</td>\n",
       "    </tr>\n",
       "    <tr>\n",
       "      <td>2018-06-30 23:00:00</td>\n",
       "      <td>0.064506</td>\n",
       "    </tr>\n",
       "  </tbody>\n",
       "</table>\n",
       "<p>2232 rows × 1 columns</p>\n",
       "</div>"
      ],
      "text/plain": [
       "                         X303\n",
       "Time                         \n",
       "2018-03-30 00:00:00  0.074182\n",
       "2018-03-30 01:00:00  0.081247\n",
       "2018-03-30 02:00:00  0.064660\n",
       "2018-03-30 03:00:00  0.056059\n",
       "2018-03-30 04:00:00  0.041775\n",
       "...                       ...\n",
       "2018-06-30 19:00:00  0.017509\n",
       "2018-06-30 20:00:00  0.250499\n",
       "2018-06-30 21:00:00  0.126248\n",
       "2018-06-30 22:00:00  0.073414\n",
       "2018-06-30 23:00:00  0.064506\n",
       "\n",
       "[2232 rows x 1 columns]"
      ]
     },
     "execution_count": 215,
     "metadata": {},
     "output_type": "execute_result"
    }
   ],
   "source": [
    "test_sc_df"
   ]
  },
  {
   "cell_type": "code",
   "execution_count": 216,
   "metadata": {
    "scrolled": true
   },
   "outputs": [
    {
     "data": {
      "text/html": [
       "<div>\n",
       "<style scoped>\n",
       "    .dataframe tbody tr th:only-of-type {\n",
       "        vertical-align: middle;\n",
       "    }\n",
       "\n",
       "    .dataframe tbody tr th {\n",
       "        vertical-align: top;\n",
       "    }\n",
       "\n",
       "    .dataframe thead th {\n",
       "        text-align: right;\n",
       "    }\n",
       "</style>\n",
       "<table border=\"1\" class=\"dataframe\">\n",
       "  <thead>\n",
       "    <tr style=\"text-align: right;\">\n",
       "      <th></th>\n",
       "      <th>X303</th>\n",
       "      <th>shift_1</th>\n",
       "      <th>shift_2</th>\n",
       "      <th>shift_3</th>\n",
       "      <th>shift_4</th>\n",
       "      <th>shift_5</th>\n",
       "      <th>shift_6</th>\n",
       "      <th>shift_7</th>\n",
       "      <th>shift_8</th>\n",
       "      <th>shift_9</th>\n",
       "      <th>shift_10</th>\n",
       "      <th>shift_11</th>\n",
       "      <th>shift_12</th>\n",
       "    </tr>\n",
       "    <tr>\n",
       "      <th>Time</th>\n",
       "      <th></th>\n",
       "      <th></th>\n",
       "      <th></th>\n",
       "      <th></th>\n",
       "      <th></th>\n",
       "      <th></th>\n",
       "      <th></th>\n",
       "      <th></th>\n",
       "      <th></th>\n",
       "      <th></th>\n",
       "      <th></th>\n",
       "      <th></th>\n",
       "      <th></th>\n",
       "    </tr>\n",
       "  </thead>\n",
       "  <tbody>\n",
       "    <tr>\n",
       "      <td>2017-08-25 00:00:00</td>\n",
       "      <td>0.072186</td>\n",
       "      <td>NaN</td>\n",
       "      <td>NaN</td>\n",
       "      <td>NaN</td>\n",
       "      <td>NaN</td>\n",
       "      <td>NaN</td>\n",
       "      <td>NaN</td>\n",
       "      <td>NaN</td>\n",
       "      <td>NaN</td>\n",
       "      <td>NaN</td>\n",
       "      <td>NaN</td>\n",
       "      <td>NaN</td>\n",
       "      <td>NaN</td>\n",
       "    </tr>\n",
       "    <tr>\n",
       "      <td>2017-08-25 01:00:00</td>\n",
       "      <td>0.053141</td>\n",
       "      <td>0.072186</td>\n",
       "      <td>NaN</td>\n",
       "      <td>NaN</td>\n",
       "      <td>NaN</td>\n",
       "      <td>NaN</td>\n",
       "      <td>NaN</td>\n",
       "      <td>NaN</td>\n",
       "      <td>NaN</td>\n",
       "      <td>NaN</td>\n",
       "      <td>NaN</td>\n",
       "      <td>NaN</td>\n",
       "      <td>NaN</td>\n",
       "    </tr>\n",
       "    <tr>\n",
       "      <td>2017-08-25 02:00:00</td>\n",
       "      <td>0.055291</td>\n",
       "      <td>0.053141</td>\n",
       "      <td>0.072186</td>\n",
       "      <td>NaN</td>\n",
       "      <td>NaN</td>\n",
       "      <td>NaN</td>\n",
       "      <td>NaN</td>\n",
       "      <td>NaN</td>\n",
       "      <td>NaN</td>\n",
       "      <td>NaN</td>\n",
       "      <td>NaN</td>\n",
       "      <td>NaN</td>\n",
       "      <td>NaN</td>\n",
       "    </tr>\n",
       "    <tr>\n",
       "      <td>2017-08-25 03:00:00</td>\n",
       "      <td>0.052680</td>\n",
       "      <td>0.055291</td>\n",
       "      <td>0.053141</td>\n",
       "      <td>0.072186</td>\n",
       "      <td>NaN</td>\n",
       "      <td>NaN</td>\n",
       "      <td>NaN</td>\n",
       "      <td>NaN</td>\n",
       "      <td>NaN</td>\n",
       "      <td>NaN</td>\n",
       "      <td>NaN</td>\n",
       "      <td>NaN</td>\n",
       "      <td>NaN</td>\n",
       "    </tr>\n",
       "    <tr>\n",
       "      <td>2017-08-25 04:00:00</td>\n",
       "      <td>0.038397</td>\n",
       "      <td>0.052680</td>\n",
       "      <td>0.055291</td>\n",
       "      <td>0.053141</td>\n",
       "      <td>0.072186</td>\n",
       "      <td>NaN</td>\n",
       "      <td>NaN</td>\n",
       "      <td>NaN</td>\n",
       "      <td>NaN</td>\n",
       "      <td>NaN</td>\n",
       "      <td>NaN</td>\n",
       "      <td>NaN</td>\n",
       "      <td>NaN</td>\n",
       "    </tr>\n",
       "  </tbody>\n",
       "</table>\n",
       "</div>"
      ],
      "text/plain": [
       "                         X303   shift_1   shift_2   shift_3   shift_4  \\\n",
       "Time                                                                    \n",
       "2017-08-25 00:00:00  0.072186       NaN       NaN       NaN       NaN   \n",
       "2017-08-25 01:00:00  0.053141  0.072186       NaN       NaN       NaN   \n",
       "2017-08-25 02:00:00  0.055291  0.053141  0.072186       NaN       NaN   \n",
       "2017-08-25 03:00:00  0.052680  0.055291  0.053141  0.072186       NaN   \n",
       "2017-08-25 04:00:00  0.038397  0.052680  0.055291  0.053141  0.072186   \n",
       "\n",
       "                     shift_5  shift_6  shift_7  shift_8  shift_9  shift_10  \\\n",
       "Time                                                                         \n",
       "2017-08-25 00:00:00      NaN      NaN      NaN      NaN      NaN       NaN   \n",
       "2017-08-25 01:00:00      NaN      NaN      NaN      NaN      NaN       NaN   \n",
       "2017-08-25 02:00:00      NaN      NaN      NaN      NaN      NaN       NaN   \n",
       "2017-08-25 03:00:00      NaN      NaN      NaN      NaN      NaN       NaN   \n",
       "2017-08-25 04:00:00      NaN      NaN      NaN      NaN      NaN       NaN   \n",
       "\n",
       "                     shift_11  shift_12  \n",
       "Time                                     \n",
       "2017-08-25 00:00:00       NaN       NaN  \n",
       "2017-08-25 01:00:00       NaN       NaN  \n",
       "2017-08-25 02:00:00       NaN       NaN  \n",
       "2017-08-25 03:00:00       NaN       NaN  \n",
       "2017-08-25 04:00:00       NaN       NaN  "
      ]
     },
     "execution_count": 216,
     "metadata": {},
     "output_type": "execute_result"
    }
   ],
   "source": [
    "# sliding window 구성하기\n",
    "for s in range(1, 13):  # 과거 시간 단위 24개가 훈련속성 \n",
    "    train_sc_df['shift_{}'.format(s)] = train_sc_df['X303'].shift(s)\n",
    "    test_sc_df['shift_{}'.format(s)] = test_sc_df['X303'].shift(s)\n",
    "\n",
    "train_sc_df.head()"
   ]
  },
  {
   "cell_type": "markdown",
   "metadata": {},
   "source": [
    "### 4. Make train test set "
   ]
  },
  {
   "cell_type": "code",
   "execution_count": 217,
   "metadata": {},
   "outputs": [
    {
     "data": {
      "text/plain": [
       "(5208, 13)"
      ]
     },
     "execution_count": 217,
     "metadata": {},
     "output_type": "execute_result"
    }
   ],
   "source": [
    "train_sc_df.shape"
   ]
  },
  {
   "cell_type": "code",
   "execution_count": 220,
   "metadata": {
    "scrolled": false
   },
   "outputs": [
    {
     "data": {
      "text/html": [
       "<div>\n",
       "<style scoped>\n",
       "    .dataframe tbody tr th:only-of-type {\n",
       "        vertical-align: middle;\n",
       "    }\n",
       "\n",
       "    .dataframe tbody tr th {\n",
       "        vertical-align: top;\n",
       "    }\n",
       "\n",
       "    .dataframe thead th {\n",
       "        text-align: right;\n",
       "    }\n",
       "</style>\n",
       "<table border=\"1\" class=\"dataframe\">\n",
       "  <thead>\n",
       "    <tr style=\"text-align: right;\">\n",
       "      <th></th>\n",
       "      <th>shift_1</th>\n",
       "      <th>shift_2</th>\n",
       "      <th>shift_3</th>\n",
       "      <th>shift_4</th>\n",
       "      <th>shift_5</th>\n",
       "      <th>shift_6</th>\n",
       "      <th>shift_7</th>\n",
       "      <th>shift_8</th>\n",
       "      <th>shift_9</th>\n",
       "      <th>shift_10</th>\n",
       "      <th>shift_11</th>\n",
       "      <th>shift_12</th>\n",
       "    </tr>\n",
       "    <tr>\n",
       "      <th>Time</th>\n",
       "      <th></th>\n",
       "      <th></th>\n",
       "      <th></th>\n",
       "      <th></th>\n",
       "      <th></th>\n",
       "      <th></th>\n",
       "      <th></th>\n",
       "      <th></th>\n",
       "      <th></th>\n",
       "      <th></th>\n",
       "      <th></th>\n",
       "      <th></th>\n",
       "    </tr>\n",
       "  </thead>\n",
       "  <tbody>\n",
       "    <tr>\n",
       "      <td>2017-08-25 12:00:00</td>\n",
       "      <td>0.047765</td>\n",
       "      <td>0.047458</td>\n",
       "      <td>0.114575</td>\n",
       "      <td>0.237598</td>\n",
       "      <td>0.040854</td>\n",
       "      <td>0.036861</td>\n",
       "      <td>0.035478</td>\n",
       "      <td>0.038397</td>\n",
       "      <td>0.052680</td>\n",
       "      <td>0.055291</td>\n",
       "      <td>0.053141</td>\n",
       "      <td>0.072186</td>\n",
       "    </tr>\n",
       "    <tr>\n",
       "      <td>2017-08-25 13:00:00</td>\n",
       "      <td>0.030564</td>\n",
       "      <td>0.047765</td>\n",
       "      <td>0.047458</td>\n",
       "      <td>0.114575</td>\n",
       "      <td>0.237598</td>\n",
       "      <td>0.040854</td>\n",
       "      <td>0.036861</td>\n",
       "      <td>0.035478</td>\n",
       "      <td>0.038397</td>\n",
       "      <td>0.052680</td>\n",
       "      <td>0.055291</td>\n",
       "      <td>0.053141</td>\n",
       "    </tr>\n",
       "    <tr>\n",
       "      <td>2017-08-25 14:00:00</td>\n",
       "      <td>0.025342</td>\n",
       "      <td>0.030564</td>\n",
       "      <td>0.047765</td>\n",
       "      <td>0.047458</td>\n",
       "      <td>0.114575</td>\n",
       "      <td>0.237598</td>\n",
       "      <td>0.040854</td>\n",
       "      <td>0.036861</td>\n",
       "      <td>0.035478</td>\n",
       "      <td>0.038397</td>\n",
       "      <td>0.052680</td>\n",
       "      <td>0.055291</td>\n",
       "    </tr>\n",
       "    <tr>\n",
       "      <td>2017-08-25 15:00:00</td>\n",
       "      <td>0.029028</td>\n",
       "      <td>0.025342</td>\n",
       "      <td>0.030564</td>\n",
       "      <td>0.047765</td>\n",
       "      <td>0.047458</td>\n",
       "      <td>0.114575</td>\n",
       "      <td>0.237598</td>\n",
       "      <td>0.040854</td>\n",
       "      <td>0.036861</td>\n",
       "      <td>0.035478</td>\n",
       "      <td>0.038397</td>\n",
       "      <td>0.052680</td>\n",
       "    </tr>\n",
       "    <tr>\n",
       "      <td>2017-08-25 16:00:00</td>\n",
       "      <td>0.037936</td>\n",
       "      <td>0.029028</td>\n",
       "      <td>0.025342</td>\n",
       "      <td>0.030564</td>\n",
       "      <td>0.047765</td>\n",
       "      <td>0.047458</td>\n",
       "      <td>0.114575</td>\n",
       "      <td>0.237598</td>\n",
       "      <td>0.040854</td>\n",
       "      <td>0.036861</td>\n",
       "      <td>0.035478</td>\n",
       "      <td>0.038397</td>\n",
       "    </tr>\n",
       "  </tbody>\n",
       "</table>\n",
       "</div>"
      ],
      "text/plain": [
       "                      shift_1   shift_2   shift_3   shift_4   shift_5  \\\n",
       "Time                                                                    \n",
       "2017-08-25 12:00:00  0.047765  0.047458  0.114575  0.237598  0.040854   \n",
       "2017-08-25 13:00:00  0.030564  0.047765  0.047458  0.114575  0.237598   \n",
       "2017-08-25 14:00:00  0.025342  0.030564  0.047765  0.047458  0.114575   \n",
       "2017-08-25 15:00:00  0.029028  0.025342  0.030564  0.047765  0.047458   \n",
       "2017-08-25 16:00:00  0.037936  0.029028  0.025342  0.030564  0.047765   \n",
       "\n",
       "                      shift_6   shift_7   shift_8   shift_9  shift_10  \\\n",
       "Time                                                                    \n",
       "2017-08-25 12:00:00  0.036861  0.035478  0.038397  0.052680  0.055291   \n",
       "2017-08-25 13:00:00  0.040854  0.036861  0.035478  0.038397  0.052680   \n",
       "2017-08-25 14:00:00  0.237598  0.040854  0.036861  0.035478  0.038397   \n",
       "2017-08-25 15:00:00  0.114575  0.237598  0.040854  0.036861  0.035478   \n",
       "2017-08-25 16:00:00  0.047458  0.114575  0.237598  0.040854  0.036861   \n",
       "\n",
       "                     shift_11  shift_12  \n",
       "Time                                     \n",
       "2017-08-25 12:00:00  0.053141  0.072186  \n",
       "2017-08-25 13:00:00  0.055291  0.053141  \n",
       "2017-08-25 14:00:00  0.052680  0.055291  \n",
       "2017-08-25 15:00:00  0.038397  0.052680  \n",
       "2017-08-25 16:00:00  0.035478  0.038397  "
      ]
     },
     "execution_count": 220,
     "metadata": {},
     "output_type": "execute_result"
    }
   ],
   "source": [
    "X_train = train_sc_df.dropna().drop('X303', axis=1)\n",
    "y_train = train_sc_df.dropna()[['X303']]\n",
    "\n",
    "X_test = test_sc_df.dropna().drop('X303', axis=1)\n",
    "y_test = test_sc_df.dropna()[['X303']]\n",
    "\n",
    "X_train.head()"
   ]
  },
  {
   "cell_type": "code",
   "execution_count": 222,
   "metadata": {},
   "outputs": [
    {
     "data": {
      "text/html": [
       "<div>\n",
       "<style scoped>\n",
       "    .dataframe tbody tr th:only-of-type {\n",
       "        vertical-align: middle;\n",
       "    }\n",
       "\n",
       "    .dataframe tbody tr th {\n",
       "        vertical-align: top;\n",
       "    }\n",
       "\n",
       "    .dataframe thead th {\n",
       "        text-align: right;\n",
       "    }\n",
       "</style>\n",
       "<table border=\"1\" class=\"dataframe\">\n",
       "  <thead>\n",
       "    <tr style=\"text-align: right;\">\n",
       "      <th></th>\n",
       "      <th>X303</th>\n",
       "    </tr>\n",
       "    <tr>\n",
       "      <th>Time</th>\n",
       "      <th></th>\n",
       "    </tr>\n",
       "  </thead>\n",
       "  <tbody>\n",
       "    <tr>\n",
       "      <td>2017-08-25 12:00:00</td>\n",
       "      <td>0.030564</td>\n",
       "    </tr>\n",
       "    <tr>\n",
       "      <td>2017-08-25 13:00:00</td>\n",
       "      <td>0.025342</td>\n",
       "    </tr>\n",
       "    <tr>\n",
       "      <td>2017-08-25 14:00:00</td>\n",
       "      <td>0.029028</td>\n",
       "    </tr>\n",
       "    <tr>\n",
       "      <td>2017-08-25 15:00:00</td>\n",
       "      <td>0.037936</td>\n",
       "    </tr>\n",
       "    <tr>\n",
       "      <td>2017-08-25 16:00:00</td>\n",
       "      <td>0.023499</td>\n",
       "    </tr>\n",
       "  </tbody>\n",
       "</table>\n",
       "</div>"
      ],
      "text/plain": [
       "                         X303\n",
       "Time                         \n",
       "2017-08-25 12:00:00  0.030564\n",
       "2017-08-25 13:00:00  0.025342\n",
       "2017-08-25 14:00:00  0.029028\n",
       "2017-08-25 15:00:00  0.037936\n",
       "2017-08-25 16:00:00  0.023499"
      ]
     },
     "execution_count": 222,
     "metadata": {},
     "output_type": "execute_result"
    }
   ],
   "source": [
    "y_train.head()"
   ]
  },
  {
   "cell_type": "code",
   "execution_count": 223,
   "metadata": {
    "scrolled": true
   },
   "outputs": [
    {
     "name": "stdout",
     "output_type": "stream",
     "text": [
      "X_train type : <class 'pandas.core.frame.DataFrame'>\n",
      "y_train type : <class 'pandas.core.frame.DataFrame'>\n",
      "X_test type : <class 'pandas.core.frame.DataFrame'>\n",
      "y_test type : <class 'pandas.core.frame.DataFrame'>\n",
      "(5196, 12)\n",
      "(5196, 1)\n"
     ]
    }
   ],
   "source": [
    "# df -> ndarray로 변환 \n",
    "\n",
    "print(\"X_train type :\", type(X_train))\n",
    "print(\"y_train type :\", type(y_train))\n",
    "print(\"X_test type :\", type(X_test))\n",
    "print(\"y_test type :\", type(y_test)) # 전부 df\n",
    "\n",
    "# ndarray로 변환 \n",
    "X_train = X_train.values\n",
    "X_test= X_test.values\n",
    "y_train = y_train.values\n",
    "y_test = y_test.values\n",
    " \n",
    "\n",
    "print(X_train.shape)\n",
    "print(y_train.shape)"
   ]
  },
  {
   "cell_type": "code",
   "execution_count": 224,
   "metadata": {},
   "outputs": [
    {
     "name": "stdout",
     "output_type": "stream",
     "text": [
      "최종 DATA\n",
      "(5196, 12, 1)\n",
      "[[[0.04776532]\n",
      "  [0.04745815]\n",
      "  [0.11457533]\n",
      "  ...\n",
      "  [0.05529105]\n",
      "  [0.05314084]\n",
      "  [0.07218553]]\n",
      "\n",
      " [[0.03056366]\n",
      "  [0.04776532]\n",
      "  [0.04745815]\n",
      "  ...\n",
      "  [0.05268008]\n",
      "  [0.05529105]\n",
      "  [0.05314084]]\n",
      "\n",
      " [[0.02534173]\n",
      "  [0.03056366]\n",
      "  [0.04776532]\n",
      "  ...\n",
      "  [0.03839656]\n",
      "  [0.05268008]\n",
      "  [0.05529105]]\n",
      "\n",
      " ...\n",
      "\n",
      " [[0.09230533]\n",
      "  [0.10797113]\n",
      "  [0.04653663]\n",
      "  ...\n",
      "  [0.04377208]\n",
      "  [0.03670711]\n",
      "  [0.03962525]]\n",
      "\n",
      " [[0.11442175]\n",
      "  [0.09230533]\n",
      "  [0.10797113]\n",
      "  ...\n",
      "  [0.02948856]\n",
      "  [0.04377208]\n",
      "  [0.03670711]]\n",
      "\n",
      " [[0.08186147]\n",
      "  [0.11442175]\n",
      "  [0.09230533]\n",
      "  ...\n",
      "  [0.02273076]\n",
      "  [0.02948856]\n",
      "  [0.04377208]]]\n",
      "[[0.03056366]\n",
      " [0.02534173]\n",
      " [0.0290278 ]\n",
      " ...\n",
      " [0.11442175]\n",
      " [0.08186147]\n",
      " [0.05882353]]\n"
     ]
    }
   ],
   "source": [
    "# 2976개의 데이터와 2232의 slot을가지고 있으므로\n",
    "# 2232, 1로 reshape\n",
    "X_train_t = X_train.reshape(X_train.shape[0], 12, 1)\n",
    "X_test_t = X_test.reshape(X_test.shape[0], 12, 1)\n",
    "\n",
    "print(\"최종 DATA\")\n",
    "print(X_train_t.shape)\n",
    "print(X_train_t)\n",
    "print(y_train)"
   ]
  },
  {
   "cell_type": "raw",
   "metadata": {},
   "source": [
    "# 실패\n",
    "#### loss함수로 SMAPE 사용하기\n",
    "# Import Keras backend\n",
    "import keras.backend as K\n",
    "# Define SMAPE loss function\n",
    "def customLoss(true,predicted):\n",
    "    epsilon = 0.1\n",
    "    summ = K.maximum(K.abs(true) + K.abs(predicted) + epsilon, 0.5 + epsilon)\n",
    "    smape = K.abs(predicted - true) / summ * 2.0\n",
    "    return smape"
   ]
  },
  {
   "cell_type": "raw",
   "metadata": {},
   "source": [
    "\"\"\"\n",
    "COntinuos COin Betting (COCOB) optimizer\n",
    "See 'Training Deep Networks without Learning Rates Through Coin Betting'\n",
    "https://arxiv.org/abs/1705.07795 \n",
    "\"\"\"\n",
    "\n",
    "from tensorflow.python.framework import ops\n",
    "from tensorflow.python.ops import state_ops\n",
    "from tensorflow.python.ops import control_flow_ops\n",
    "from tensorflow.python.framework import constant_op\n",
    "from tensorflow.python.training.optimizer import Optimizer\n",
    "import tensorflow as tf\n",
    "\n",
    "\n",
    "\n",
    "class COCOB(Optimizer):\n",
    "    def __init__(self, alpha=100, use_locking=False, name='COCOB'):\n",
    "        '''\n",
    "        constructs a new COCOB optimizer\n",
    "        '''\n",
    "        super(COCOB, self).__init__(use_locking, name)\n",
    "        self._alpha = alpha\n",
    "\n",
    "    def _create_slots(self, var_list):\n",
    "        for v in var_list:\n",
    "            with ops.colocate_with(v):\n",
    "                gradients_sum = constant_op.constant(0,\n",
    "                                                     shape=v.get_shape(),\n",
    "                                                     dtype=v.dtype.base_dtype)\n",
    "                grad_norm_sum = constant_op.constant(0,\n",
    "                                                     shape=v.get_shape(),\n",
    "                                                     dtype=v.dtype.base_dtype)\n",
    "                L = constant_op.constant(1e-8, shape=v.get_shape(), dtype=v.dtype.base_dtype)\n",
    "                tilde_w = constant_op.constant(0.0, shape=v.get_shape(), dtype=v.dtype.base_dtype)\n",
    "                reward = constant_op.constant(0.0, shape=v.get_shape(), dtype=v.dtype.base_dtype)\n",
    "\n",
    "            self._get_or_make_slot(v, L, \"L\", self._name)\n",
    "            self._get_or_make_slot(v, grad_norm_sum, \"grad_norm_sum\", self._name)\n",
    "            self._get_or_make_slot(v, gradients_sum, \"gradients_sum\", self._name)\n",
    "            self._get_or_make_slot(v, tilde_w, \"tilde_w\", self._name)\n",
    "            self._get_or_make_slot(v, reward, \"reward\", self._name)\n",
    "\n",
    "    def _apply_dense(self, grad, var):\n",
    "        gradients_sum = self.get_slot(var, \"gradients_sum\")\n",
    "        grad_norm_sum = self.get_slot(var, \"grad_norm_sum\")\n",
    "        tilde_w = self.get_slot(var, \"tilde_w\")\n",
    "        L = self.get_slot(var, \"L\")\n",
    "        reward = self.get_slot(var, \"reward\")\n",
    "\n",
    "        L_update = tf.maximum(L, tf.abs(grad))\n",
    "        gradients_sum_update = gradients_sum + grad\n",
    "        grad_norm_sum_update = grad_norm_sum + tf.abs(grad)\n",
    "        reward_update = tf.maximum(reward - grad * tilde_w, 0)\n",
    "        new_w = -gradients_sum_update / (\n",
    "        L_update * (tf.maximum(grad_norm_sum_update + L_update, self._alpha * L_update))) * (reward_update + L_update)\n",
    "        var_update = var - tilde_w + new_w\n",
    "        tilde_w_update = new_w\n",
    "\n",
    "        gradients_sum_update_op = state_ops.assign(gradients_sum, gradients_sum_update)\n",
    "        grad_norm_sum_update_op = state_ops.assign(grad_norm_sum, grad_norm_sum_update)\n",
    "        var_update_op = state_ops.assign(var, var_update)\n",
    "        tilde_w_update_op = state_ops.assign(tilde_w, tilde_w_update)\n",
    "        L_update_op = state_ops.assign(L, L_update)\n",
    "        reward_update_op = state_ops.assign(reward, reward_update)\n",
    "\n",
    "        return control_flow_ops.group(*[gradients_sum_update_op,\n",
    "                                        var_update_op,\n",
    "                                        grad_norm_sum_update_op,\n",
    "                                        tilde_w_update_op,\n",
    "                                        reward_update_op,\n",
    "                                        L_update_op])\n",
    "\n",
    "    def _apply_sparse(self, grad, var):\n",
    "        return self._apply_dense(grad, var)\n",
    "\n",
    "    def _resource_apply_dense(self, grad, handle):\n",
    "        return self._apply_dense(grad, handle)"
   ]
  },
  {
   "cell_type": "code",
   "execution_count": 225,
   "metadata": {},
   "outputs": [
    {
     "name": "stdout",
     "output_type": "stream",
     "text": [
      "Model: \"sequential_1\"\n",
      "_________________________________________________________________\n",
      "Layer (type)                 Output Shape              Param #   \n",
      "=================================================================\n",
      "lstm_1 (LSTM)                (None, 20)                1760      \n",
      "_________________________________________________________________\n",
      "dense_1 (Dense)              (None, 1)                 21        \n",
      "=================================================================\n",
      "Total params: 1,781\n",
      "Trainable params: 1,781\n",
      "Non-trainable params: 0\n",
      "_________________________________________________________________\n"
     ]
    }
   ],
   "source": [
    "# LSTM 모델 생성\n",
    "from keras.layers import LSTM \n",
    "from keras.models import Sequential \n",
    "from keras.layers import Dense \n",
    "import keras.backend as K \n",
    "from keras.callbacks import EarlyStopping\n",
    "\n",
    "K.clear_session()\n",
    "    \n",
    "model = Sequential() # Sequeatial Model \n",
    "model.add(LSTM(20, input_shape=(12, 1))) # (timestep, feature) \n",
    "model.add(Dense(1)) # output = 1 \n",
    "\n",
    "# loss 함수:  MAPE\n",
    "model.compile(loss='mean_absolute_percentage_error', optimizer='adam')\n",
    "model.summary()"
   ]
  },
  {
   "cell_type": "code",
   "execution_count": 226,
   "metadata": {},
   "outputs": [
    {
     "name": "stdout",
     "output_type": "stream",
     "text": [
      "Epoch 1/100\n",
      "5196/5196 [==============================] - 2s 432us/step - loss: 1844.7066\n",
      "Epoch 2/100\n",
      "5196/5196 [==============================] - 2s 316us/step - loss: 11306.8551\n",
      "Epoch 00002: early stopping\n"
     ]
    },
    {
     "data": {
      "text/plain": [
       "<keras.callbacks.callbacks.History at 0xaddbe07fd0>"
      ]
     },
     "execution_count": 226,
     "metadata": {},
     "output_type": "execute_result"
    }
   ],
   "source": [
    "# model train\n",
    "# 오후 5:58 ~\n",
    "early_stop = EarlyStopping(monitor='loss', patience=1, verbose=1)\n",
    "\n",
    "model.fit(X_train_t, y_train, epochs=100,\n",
    "          batch_size=30, verbose=1, callbacks=[early_stop])"
   ]
  },
  {
   "cell_type": "code",
   "execution_count": 231,
   "metadata": {},
   "outputs": [
    {
     "name": "stdout",
     "output_type": "stream",
     "text": [
      "2220/2220 [==============================] - 0s 145us/step\n",
      "87.41128076089394\n"
     ]
    }
   ],
   "source": [
    "score = model.evaluate(X_test_t, y_test, batch_size=30)\n",
    "print(score)  # score값: 87.411 "
   ]
  },
  {
   "cell_type": "code",
   "execution_count": 228,
   "metadata": {},
   "outputs": [
    {
     "data": {
      "text/plain": [
       "<matplotlib.collections.PathCollection at 0xaddbe2b2e8>"
      ]
     },
     "execution_count": 228,
     "metadata": {},
     "output_type": "execute_result"
    },
    {
     "data": {
      "image/png": "[encoded data removed]",
      "text/plain": [
       "<Figure size 432x288 with 1 Axes>"
      ]
     },
     "metadata": {
      "needs_background": "light"
     },
     "output_type": "display_data"
    }
   ],
   "source": [
    "%matplotlib inline\n",
    "import matplotlib.pyplot as plt\n",
    "\n",
    "\n",
    "y_pred = model.predict(X_test_t, batch_size=32)\n",
    "plt.scatter(y_test, y_pred)"
   ]
  },
  {
   "cell_type": "code",
   "execution_count": 229,
   "metadata": {},
   "outputs": [
    {
     "data": {
      "text/plain": [
       "array([[0.0063405 ],\n",
       "       [0.00520592],\n",
       "       [0.00383986],\n",
       "       ...,\n",
       "       [0.00182477],\n",
       "       [0.00398506],\n",
       "       [0.00541594]], dtype=float32)"
      ]
     },
     "execution_count": 229,
     "metadata": {},
     "output_type": "execute_result"
    }
   ],
   "source": [
    "y_pred"
   ]
  },
  {
   "cell_type": "code",
   "execution_count": null,
   "metadata": {},
   "outputs": [],
   "source": [
    "## 전체 test데이터로 넣어보기 "
   ]
  },
  {
   "cell_type": "code",
   "execution_count": null,
   "metadata": {},
   "outputs": [],
   "source": []
  },
  {
   "cell_type": "code",
   "execution_count": null,
   "metadata": {},
   "outputs": [],
   "source": []
  },
  {
   "cell_type": "markdown",
   "metadata": {},
   "source": [
    "## LSTM 2번째 \n",
    "https://machinelearningmastery.com/time-series-prediction-lstm-recurrent-neural-networks-python-keras/\n",
    "\n"
   ]
  },
  {
   "cell_type": "code",
   "execution_count": 126,
   "metadata": {},
   "outputs": [
    {
     "name": "stderr",
     "output_type": "stream",
     "text": [
      "Using TensorFlow backend.\n"
     ]
    }
   ],
   "source": [
    "# import package\n",
    "import numpy\n",
    "import matplotlib.pyplot as plt\n",
    "import pandas\n",
    "import math\n",
    "from keras.models import Sequential\n",
    "from keras.layers import Dense\n",
    "from keras.layers import LSTM\n",
    "from sklearn.preprocessing import MinMaxScaler\n",
    "from sklearn.metrics import mean_squared_error"
   ]
  },
  {
   "cell_type": "code",
   "execution_count": 119,
   "metadata": {},
   "outputs": [],
   "source": [
    "# def function\n",
    "# 1. convert an array of values into a dataset matrix\n",
    "def create_dataset(dataset, look_back=1):\n",
    "    dataX, dataY = [], []\n",
    "    for i in range(len(dataset)-look_back-1):\n",
    "        a = dataset[i:(i+look_back), 0]\n",
    "        dataX.append(a)\n",
    "    dataY.append(dataset[i + look_back, 0])\n",
    "    return numpy.array(dataX), numpy.array(dataY)"
   ]
  },
  {
   "cell_type": "code",
   "execution_count": 123,
   "metadata": {},
   "outputs": [],
   "source": [
    "#### data = test_X303\n",
    "# 1. normalize the dataset\n",
    "scaler = MinMaxScaler(feature_range=(0, 1))\n",
    "dataset = scaler.fit_transform(test_X303)"
   ]
  },
  {
   "cell_type": "code",
   "execution_count": 121,
   "metadata": {},
   "outputs": [
    {
     "name": "stdout",
     "output_type": "stream",
     "text": [
      "5208 2232\n"
     ]
    }
   ],
   "source": [
    "# 2. split into train and test sets\n",
    "train_size = int(len(dataset) * 0.7)\n",
    "test_size = len(dataset) - train_size\n",
    "train, test = dataset[0:train_size,:], dataset[train_size:len(dataset),:]\n",
    "print(len(train), len(test))"
   ]
  },
  {
   "cell_type": "code",
   "execution_count": 127,
   "metadata": {},
   "outputs": [],
   "source": [
    "# 3-1. reshape into X=t and Y=t+1\n",
    "look_back = 1\n",
    "trainX, trainY = create_dataset(train, look_back)\n",
    "testX, testY = create_dataset(test, look_back)"
   ]
  },
  {
   "cell_type": "code",
   "execution_count": 141,
   "metadata": {},
   "outputs": [
    {
     "data": {
      "text/plain": [
       "array([0.08355051])"
      ]
     },
     "execution_count": 141,
     "metadata": {},
     "output_type": "execute_result"
    }
   ],
   "source": [
    "trainY"
   ]
  },
  {
   "cell_type": "code",
   "execution_count": 128,
   "metadata": {},
   "outputs": [],
   "source": [
    "# 3-2. reshape input to be [samples, time steps, features]\n",
    "trainX = numpy.reshape(trainX, (trainX.shape[0], 1, trainX.shape[1]))\n",
    "testX = numpy.reshape(testX, (testX.shape[0], 1, testX.shape[1]))"
   ]
  },
  {
   "cell_type": "code",
   "execution_count": 133,
   "metadata": {},
   "outputs": [
    {
     "name": "stdout",
     "output_type": "stream",
     "text": [
      "Model: \"sequential_3\"\n",
      "_________________________________________________________________\n",
      "Layer (type)                 Output Shape              Param #   \n",
      "=================================================================\n",
      "lstm_3 (LSTM)                (None, 4)                 96        \n",
      "_________________________________________________________________\n",
      "dense_3 (Dense)              (None, 1)                 5         \n",
      "=================================================================\n",
      "Total params: 101\n",
      "Trainable params: 101\n",
      "Non-trainable params: 0\n",
      "_________________________________________________________________\n"
     ]
    }
   ],
   "source": [
    "# 4. create and fit the LSTM network\n",
    "model = Sequential()\n",
    "model.add(LSTM(4, input_shape=(1, look_back)))\n",
    "model.add(Dense(1))\n",
    "model.compile(loss='mean_squared_error', optimizer='adam')\n",
    "model.summary()"
   ]
  },
  {
   "cell_type": "code",
   "execution_count": 138,
   "metadata": {},
   "outputs": [
    {
     "data": {
      "text/plain": [
       "(1,)"
      ]
     },
     "execution_count": 138,
     "metadata": {},
     "output_type": "execute_result"
    }
   ],
   "source": [
    "trainX.shape\n",
    "trainY.shape"
   ]
  },
  {
   "cell_type": "code",
   "execution_count": 136,
   "metadata": {
    "scrolled": true
   },
   "outputs": [
    {
     "ename": "ValueError",
     "evalue": "Input arrays should have the same number of samples as target arrays. Found 5206 input samples and 1 target samples.",
     "output_type": "error",
     "traceback": [
      "\u001b[1;31m---------------------------------------------------------------------------\u001b[0m",
      "\u001b[1;31mValueError\u001b[0m                                Traceback (most recent call last)",
      "\u001b[1;32m<ipython-input-136-c741a34e6385>\u001b[0m in \u001b[0;36m<module>\u001b[1;34m\u001b[0m\n\u001b[0;32m      1\u001b[0m \u001b[1;31m#early_stop = EarlyStopping(monitor='loss', patience=1, verbose=1)\u001b[0m\u001b[1;33m\u001b[0m\u001b[1;33m\u001b[0m\u001b[1;33m\u001b[0m\u001b[0m\n\u001b[0;32m      2\u001b[0m \u001b[1;33m\u001b[0m\u001b[0m\n\u001b[1;32m----> 3\u001b[1;33m \u001b[0mmodel\u001b[0m\u001b[1;33m.\u001b[0m\u001b[0mfit\u001b[0m\u001b[1;33m(\u001b[0m\u001b[0mtrainX\u001b[0m\u001b[1;33m,\u001b[0m \u001b[0mtrainY\u001b[0m\u001b[1;33m,\u001b[0m \u001b[0mepochs\u001b[0m\u001b[1;33m=\u001b[0m\u001b[1;36m50\u001b[0m\u001b[1;33m,\u001b[0m \u001b[0mbatch_size\u001b[0m\u001b[1;33m=\u001b[0m\u001b[1;36m30\u001b[0m\u001b[1;33m,\u001b[0m \u001b[0mverbose\u001b[0m\u001b[1;33m=\u001b[0m\u001b[1;36m1\u001b[0m\u001b[1;33m)\u001b[0m\u001b[1;33m\u001b[0m\u001b[1;33m\u001b[0m\u001b[0m\n\u001b[0m",
      "\u001b[1;32m~\\Anaconda3\\lib\\site-packages\\keras\\engine\\training.py\u001b[0m in \u001b[0;36mfit\u001b[1;34m(self, x, y, batch_size, epochs, verbose, callbacks, validation_split, validation_data, shuffle, class_weight, sample_weight, initial_epoch, steps_per_epoch, validation_steps, validation_freq, max_queue_size, workers, use_multiprocessing, **kwargs)\u001b[0m\n\u001b[0;32m   1152\u001b[0m             \u001b[0msample_weight\u001b[0m\u001b[1;33m=\u001b[0m\u001b[0msample_weight\u001b[0m\u001b[1;33m,\u001b[0m\u001b[1;33m\u001b[0m\u001b[1;33m\u001b[0m\u001b[0m\n\u001b[0;32m   1153\u001b[0m             \u001b[0mclass_weight\u001b[0m\u001b[1;33m=\u001b[0m\u001b[0mclass_weight\u001b[0m\u001b[1;33m,\u001b[0m\u001b[1;33m\u001b[0m\u001b[1;33m\u001b[0m\u001b[0m\n\u001b[1;32m-> 1154\u001b[1;33m             batch_size=batch_size)\n\u001b[0m\u001b[0;32m   1155\u001b[0m \u001b[1;33m\u001b[0m\u001b[0m\n\u001b[0;32m   1156\u001b[0m         \u001b[1;31m# Prepare validation data.\u001b[0m\u001b[1;33m\u001b[0m\u001b[1;33m\u001b[0m\u001b[1;33m\u001b[0m\u001b[0m\n",
      "\u001b[1;32m~\\Anaconda3\\lib\\site-packages\\keras\\engine\\training.py\u001b[0m in \u001b[0;36m_standardize_user_data\u001b[1;34m(self, x, y, sample_weight, class_weight, check_array_lengths, batch_size)\u001b[0m\n\u001b[0;32m    635\u001b[0m             \u001b[1;31m# Check that all arrays have the same length.\u001b[0m\u001b[1;33m\u001b[0m\u001b[1;33m\u001b[0m\u001b[1;33m\u001b[0m\u001b[0m\n\u001b[0;32m    636\u001b[0m             \u001b[1;32mif\u001b[0m \u001b[0mcheck_array_lengths\u001b[0m\u001b[1;33m:\u001b[0m\u001b[1;33m\u001b[0m\u001b[1;33m\u001b[0m\u001b[0m\n\u001b[1;32m--> 637\u001b[1;33m                 \u001b[0mtraining_utils\u001b[0m\u001b[1;33m.\u001b[0m\u001b[0mcheck_array_length_consistency\u001b[0m\u001b[1;33m(\u001b[0m\u001b[0mx\u001b[0m\u001b[1;33m,\u001b[0m \u001b[0my\u001b[0m\u001b[1;33m,\u001b[0m \u001b[0msample_weights\u001b[0m\u001b[1;33m)\u001b[0m\u001b[1;33m\u001b[0m\u001b[1;33m\u001b[0m\u001b[0m\n\u001b[0m\u001b[0;32m    638\u001b[0m             \u001b[1;32mif\u001b[0m \u001b[0mself\u001b[0m\u001b[1;33m.\u001b[0m\u001b[0m_is_graph_network\u001b[0m\u001b[1;33m:\u001b[0m\u001b[1;33m\u001b[0m\u001b[1;33m\u001b[0m\u001b[0m\n\u001b[0;32m    639\u001b[0m                 \u001b[1;31m# Additional checks to avoid users mistakenly\u001b[0m\u001b[1;33m\u001b[0m\u001b[1;33m\u001b[0m\u001b[1;33m\u001b[0m\u001b[0m\n",
      "\u001b[1;32m~\\Anaconda3\\lib\\site-packages\\keras\\engine\\training_utils.py\u001b[0m in \u001b[0;36mcheck_array_length_consistency\u001b[1;34m(inputs, targets, weights)\u001b[0m\n\u001b[0;32m    242\u001b[0m                          \u001b[1;34m'the same number of samples as target arrays. '\u001b[0m\u001b[1;33m\u001b[0m\u001b[1;33m\u001b[0m\u001b[0m\n\u001b[0;32m    243\u001b[0m                          \u001b[1;34m'Found '\u001b[0m \u001b[1;33m+\u001b[0m \u001b[0mstr\u001b[0m\u001b[1;33m(\u001b[0m\u001b[0mlist\u001b[0m\u001b[1;33m(\u001b[0m\u001b[0mset_x\u001b[0m\u001b[1;33m)\u001b[0m\u001b[1;33m[\u001b[0m\u001b[1;36m0\u001b[0m\u001b[1;33m]\u001b[0m\u001b[1;33m)\u001b[0m \u001b[1;33m+\u001b[0m \u001b[1;34m' input samples '\u001b[0m\u001b[1;33m\u001b[0m\u001b[1;33m\u001b[0m\u001b[0m\n\u001b[1;32m--> 244\u001b[1;33m                          'and ' + str(list(set_y)[0]) + ' target samples.')\n\u001b[0m\u001b[0;32m    245\u001b[0m     \u001b[1;32mif\u001b[0m \u001b[0mlen\u001b[0m\u001b[1;33m(\u001b[0m\u001b[0mset_w\u001b[0m\u001b[1;33m)\u001b[0m \u001b[1;33m>\u001b[0m \u001b[1;36m1\u001b[0m\u001b[1;33m:\u001b[0m\u001b[1;33m\u001b[0m\u001b[1;33m\u001b[0m\u001b[0m\n\u001b[0;32m    246\u001b[0m         raise ValueError('All sample_weight arrays should have '\n",
      "\u001b[1;31mValueError\u001b[0m: Input arrays should have the same number of samples as target arrays. Found 5206 input samples and 1 target samples."
     ]
    }
   ],
   "source": [
    "#early_stop = EarlyStopping(monitor='loss', patience=1, verbose=1)\n",
    "\n",
    "model.fit(trainX, trainY, epochs=50, batch_size=30, verbose=1)"
   ]
  }
 ],
 "metadata": {
  "kernelspec": {
   "display_name": "Python 3",
   "language": "python",
   "name": "python3"
  },
  "language_info": {
   "codemirror_mode": {
    "name": "ipython",
    "version": 3
   },
   "file_extension": ".py",
   "mimetype": "text/x-python",
   "name": "python",
   "nbconvert_exporter": "python",
   "pygments_lexer": "ipython3",
   "version": "3.7.3"
  }
 },
 "nbformat": 4,
 "nbformat_minor": 2
}
