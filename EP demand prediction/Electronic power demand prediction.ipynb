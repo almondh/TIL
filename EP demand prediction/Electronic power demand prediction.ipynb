{
 "cells": [
  {
   "cell_type": "markdown",
   "metadata": {},
   "source": [
    "# 전력 수요량 예측 모델링\n",
    "Train 데이터로 모델을 학습시킨 후 Test로 검증한 후 예측합니다."
   ]
  },
  {
   "cell_type": "code",
   "execution_count": 208,
   "metadata": {},
   "outputs": [],
   "source": [
    "# import package\n",
    "import pandas as pd\n",
    "import numpy as np\n",
    "import matplotlib as mpl\n",
    "import matplotlib.pyplot as plt\n",
    "import seaborn as sns \n",
    "\n",
    "from datetime import datetime, timedelta\n",
    "%matplotlib inline"
   ]
  },
  {
   "cell_type": "markdown",
   "metadata": {},
   "source": [
    "## 1. 데이터 불러오기"
   ]
  },
  {
   "cell_type": "code",
   "execution_count": 81,
   "metadata": {},
   "outputs": [],
   "source": [
    "train = pd.read_csv(\"11회 data/train.csv\")\n",
    "#train['Time'] = pd.to_datetime(train['Time'])\n",
    "#train = train.set_index('Time')"
   ]
  },
  {
   "cell_type": "code",
   "execution_count": 82,
   "metadata": {
    "scrolled": true
   },
   "outputs": [
    {
     "data": {
      "text/html": [
       "<div>\n",
       "<style scoped>\n",
       "    .dataframe tbody tr th:only-of-type {\n",
       "        vertical-align: middle;\n",
       "    }\n",
       "\n",
       "    .dataframe tbody tr th {\n",
       "        vertical-align: top;\n",
       "    }\n",
       "\n",
       "    .dataframe thead th {\n",
       "        text-align: right;\n",
       "    }\n",
       "</style>\n",
       "<table border=\"1\" class=\"dataframe\">\n",
       "  <thead>\n",
       "    <tr style=\"text-align: right;\">\n",
       "      <th></th>\n",
       "      <th>Time</th>\n",
       "      <th>X692</th>\n",
       "      <th>X1272</th>\n",
       "      <th>X553</th>\n",
       "      <th>X1299</th>\n",
       "      <th>X4</th>\n",
       "      <th>X598</th>\n",
       "      <th>X1003</th>\n",
       "      <th>X1010</th>\n",
       "      <th>X1216</th>\n",
       "      <th>...</th>\n",
       "      <th>X1164</th>\n",
       "      <th>X656</th>\n",
       "      <th>X1287</th>\n",
       "      <th>X324</th>\n",
       "      <th>X767</th>\n",
       "      <th>X1271</th>\n",
       "      <th>X1288</th>\n",
       "      <th>X58</th>\n",
       "      <th>X1033</th>\n",
       "      <th>X1163</th>\n",
       "    </tr>\n",
       "  </thead>\n",
       "  <tbody>\n",
       "    <tr>\n",
       "      <td>0</td>\n",
       "      <td>2016-07-26 11:00</td>\n",
       "      <td>NaN</td>\n",
       "      <td>NaN</td>\n",
       "      <td>NaN</td>\n",
       "      <td>NaN</td>\n",
       "      <td>NaN</td>\n",
       "      <td>NaN</td>\n",
       "      <td>NaN</td>\n",
       "      <td>NaN</td>\n",
       "      <td>NaN</td>\n",
       "      <td>...</td>\n",
       "      <td>NaN</td>\n",
       "      <td>NaN</td>\n",
       "      <td>NaN</td>\n",
       "      <td>NaN</td>\n",
       "      <td>NaN</td>\n",
       "      <td>NaN</td>\n",
       "      <td>NaN</td>\n",
       "      <td>NaN</td>\n",
       "      <td>NaN</td>\n",
       "      <td>NaN</td>\n",
       "    </tr>\n",
       "    <tr>\n",
       "      <td>1</td>\n",
       "      <td>2016-07-26 12:00</td>\n",
       "      <td>NaN</td>\n",
       "      <td>NaN</td>\n",
       "      <td>NaN</td>\n",
       "      <td>NaN</td>\n",
       "      <td>NaN</td>\n",
       "      <td>NaN</td>\n",
       "      <td>NaN</td>\n",
       "      <td>NaN</td>\n",
       "      <td>NaN</td>\n",
       "      <td>...</td>\n",
       "      <td>NaN</td>\n",
       "      <td>NaN</td>\n",
       "      <td>NaN</td>\n",
       "      <td>NaN</td>\n",
       "      <td>NaN</td>\n",
       "      <td>NaN</td>\n",
       "      <td>NaN</td>\n",
       "      <td>NaN</td>\n",
       "      <td>NaN</td>\n",
       "      <td>NaN</td>\n",
       "    </tr>\n",
       "    <tr>\n",
       "      <td>2</td>\n",
       "      <td>2016-07-26 13:00</td>\n",
       "      <td>NaN</td>\n",
       "      <td>NaN</td>\n",
       "      <td>NaN</td>\n",
       "      <td>NaN</td>\n",
       "      <td>NaN</td>\n",
       "      <td>NaN</td>\n",
       "      <td>NaN</td>\n",
       "      <td>NaN</td>\n",
       "      <td>NaN</td>\n",
       "      <td>...</td>\n",
       "      <td>NaN</td>\n",
       "      <td>NaN</td>\n",
       "      <td>NaN</td>\n",
       "      <td>NaN</td>\n",
       "      <td>NaN</td>\n",
       "      <td>NaN</td>\n",
       "      <td>NaN</td>\n",
       "      <td>NaN</td>\n",
       "      <td>NaN</td>\n",
       "      <td>NaN</td>\n",
       "    </tr>\n",
       "    <tr>\n",
       "      <td>3</td>\n",
       "      <td>2016-07-26 14:00</td>\n",
       "      <td>NaN</td>\n",
       "      <td>NaN</td>\n",
       "      <td>NaN</td>\n",
       "      <td>NaN</td>\n",
       "      <td>NaN</td>\n",
       "      <td>NaN</td>\n",
       "      <td>NaN</td>\n",
       "      <td>NaN</td>\n",
       "      <td>NaN</td>\n",
       "      <td>...</td>\n",
       "      <td>NaN</td>\n",
       "      <td>NaN</td>\n",
       "      <td>NaN</td>\n",
       "      <td>NaN</td>\n",
       "      <td>NaN</td>\n",
       "      <td>NaN</td>\n",
       "      <td>NaN</td>\n",
       "      <td>NaN</td>\n",
       "      <td>NaN</td>\n",
       "      <td>NaN</td>\n",
       "    </tr>\n",
       "    <tr>\n",
       "      <td>4</td>\n",
       "      <td>2016-07-26 15:00</td>\n",
       "      <td>NaN</td>\n",
       "      <td>NaN</td>\n",
       "      <td>NaN</td>\n",
       "      <td>NaN</td>\n",
       "      <td>NaN</td>\n",
       "      <td>NaN</td>\n",
       "      <td>NaN</td>\n",
       "      <td>NaN</td>\n",
       "      <td>NaN</td>\n",
       "      <td>...</td>\n",
       "      <td>NaN</td>\n",
       "      <td>NaN</td>\n",
       "      <td>NaN</td>\n",
       "      <td>NaN</td>\n",
       "      <td>NaN</td>\n",
       "      <td>NaN</td>\n",
       "      <td>NaN</td>\n",
       "      <td>NaN</td>\n",
       "      <td>NaN</td>\n",
       "      <td>NaN</td>\n",
       "    </tr>\n",
       "  </tbody>\n",
       "</table>\n",
       "<p>5 rows × 1301 columns</p>\n",
       "</div>"
      ],
      "text/plain": [
       "               Time  X692  X1272  X553  X1299  X4  X598  X1003  X1010  X1216  \\\n",
       "0  2016-07-26 11:00   NaN    NaN   NaN    NaN NaN   NaN    NaN    NaN    NaN   \n",
       "1  2016-07-26 12:00   NaN    NaN   NaN    NaN NaN   NaN    NaN    NaN    NaN   \n",
       "2  2016-07-26 13:00   NaN    NaN   NaN    NaN NaN   NaN    NaN    NaN    NaN   \n",
       "3  2016-07-26 14:00   NaN    NaN   NaN    NaN NaN   NaN    NaN    NaN    NaN   \n",
       "4  2016-07-26 15:00   NaN    NaN   NaN    NaN NaN   NaN    NaN    NaN    NaN   \n",
       "\n",
       "   ...  X1164  X656  X1287  X324  X767  X1271  X1288  X58  X1033  X1163  \n",
       "0  ...    NaN   NaN    NaN   NaN   NaN    NaN    NaN  NaN    NaN    NaN  \n",
       "1  ...    NaN   NaN    NaN   NaN   NaN    NaN    NaN  NaN    NaN    NaN  \n",
       "2  ...    NaN   NaN    NaN   NaN   NaN    NaN    NaN  NaN    NaN    NaN  \n",
       "3  ...    NaN   NaN    NaN   NaN   NaN    NaN    NaN  NaN    NaN    NaN  \n",
       "4  ...    NaN   NaN    NaN   NaN   NaN    NaN    NaN  NaN    NaN    NaN  \n",
       "\n",
       "[5 rows x 1301 columns]"
      ]
     },
     "execution_count": 82,
     "metadata": {},
     "output_type": "execute_result"
    }
   ],
   "source": [
    "train.head()"
   ]
  },
  {
   "cell_type": "markdown",
   "metadata": {},
   "source": [
    "## 2. 데이터 전처리\n",
    "\n",
    "### 2-1. NA 처리\n",
    " - 이전부터 측정기가 없던 경우\n",
    " - 직전 시간대 전력 사용량 값이 높아 이후 값이 결측치일 경우\n",
    "     - 값이 존재하는 index 사이의 결측치 갯수 구해서 1 이상인 경우에 중앙값 보다 큰 경우, 평균값으로 대체\n",
    "     - 남은 NA값은 이전부터 측정기가 없던 경우 제외하고 최빈값으로 대체하기\n"
   ]
  },
  {
   "cell_type": "markdown",
   "metadata": {},
   "source": [
    "### 2-2 NA처리를 위한 밑작업\n",
    "+ loc : 인덱스 기준으로 행 데이터 읽기\n",
    "+ iloc : 행 번호 기준으로 행 데이터 읽기\n",
    "\n",
    "\n",
    "#### ex) X692 세대의 경우"
   ]
  },
  {
   "cell_type": "code",
   "execution_count": 85,
   "metadata": {
    "scrolled": true
   },
   "outputs": [],
   "source": [
    "ex1 = train.copy()  # 원본 데이터 보존을 위해 복사"
   ]
  },
  {
   "cell_type": "code",
   "execution_count": 86,
   "metadata": {},
   "outputs": [
    {
     "data": {
      "text/plain": [
       "Index(['Time', 'X692', 'X1272', 'X553', 'X1299', 'X4', 'X598', 'X1003',\n",
       "       'X1010', 'X1216',\n",
       "       ...\n",
       "       'X1164', 'X656', 'X1287', 'X324', 'X767', 'X1271', 'X1288', 'X58',\n",
       "       'X1033', 'X1163'],\n",
       "      dtype='object', length=1301)"
      ]
     },
     "execution_count": 86,
     "metadata": {},
     "output_type": "execute_result"
    }
   ],
   "source": [
    "ex1.columns"
   ]
  },
  {
   "cell_type": "code",
   "execution_count": 87,
   "metadata": {
    "scrolled": true
   },
   "outputs": [
    {
     "data": {
      "text/html": [
       "<div>\n",
       "<style scoped>\n",
       "    .dataframe tbody tr th:only-of-type {\n",
       "        vertical-align: middle;\n",
       "    }\n",
       "\n",
       "    .dataframe tbody tr th {\n",
       "        vertical-align: top;\n",
       "    }\n",
       "\n",
       "    .dataframe thead th {\n",
       "        text-align: right;\n",
       "    }\n",
       "</style>\n",
       "<table border=\"1\" class=\"dataframe\">\n",
       "  <thead>\n",
       "    <tr style=\"text-align: right;\">\n",
       "      <th></th>\n",
       "      <th>X692</th>\n",
       "    </tr>\n",
       "  </thead>\n",
       "  <tbody>\n",
       "    <tr>\n",
       "      <td>0</td>\n",
       "      <td>NaN</td>\n",
       "    </tr>\n",
       "    <tr>\n",
       "      <td>1</td>\n",
       "      <td>NaN</td>\n",
       "    </tr>\n",
       "    <tr>\n",
       "      <td>2</td>\n",
       "      <td>NaN</td>\n",
       "    </tr>\n",
       "    <tr>\n",
       "      <td>3</td>\n",
       "      <td>NaN</td>\n",
       "    </tr>\n",
       "    <tr>\n",
       "      <td>4</td>\n",
       "      <td>NaN</td>\n",
       "    </tr>\n",
       "    <tr>\n",
       "      <td>...</td>\n",
       "      <td>...</td>\n",
       "    </tr>\n",
       "    <tr>\n",
       "      <td>16904</td>\n",
       "      <td>0.271</td>\n",
       "    </tr>\n",
       "    <tr>\n",
       "      <td>16905</td>\n",
       "      <td>0.341</td>\n",
       "    </tr>\n",
       "    <tr>\n",
       "      <td>16906</td>\n",
       "      <td>0.535</td>\n",
       "    </tr>\n",
       "    <tr>\n",
       "      <td>16907</td>\n",
       "      <td>0.379</td>\n",
       "    </tr>\n",
       "    <tr>\n",
       "      <td>16908</td>\n",
       "      <td>0.388</td>\n",
       "    </tr>\n",
       "  </tbody>\n",
       "</table>\n",
       "<p>16909 rows × 1 columns</p>\n",
       "</div>"
      ],
      "text/plain": [
       "        X692\n",
       "0        NaN\n",
       "1        NaN\n",
       "2        NaN\n",
       "3        NaN\n",
       "4        NaN\n",
       "...      ...\n",
       "16904  0.271\n",
       "16905  0.341\n",
       "16906  0.535\n",
       "16907  0.379\n",
       "16908  0.388\n",
       "\n",
       "[16909 rows x 1 columns]"
      ]
     },
     "execution_count": 87,
     "metadata": {},
     "output_type": "execute_result"
    }
   ],
   "source": [
    "ex1.loc[:,['X692']] # X692인 경우 모든 전력량\n",
    "# ex1.iloc[:,0]  "
   ]
  },
  {
   "cell_type": "code",
   "execution_count": 134,
   "metadata": {},
   "outputs": [
    {
     "data": {
      "text/plain": [
       "Int64Index([13645, 13646, 13647, 13648, 13649, 13650, 13651, 13652, 13653,\n",
       "            13654,\n",
       "            ...\n",
       "            16899, 16900, 16901, 16902, 16903, 16904, 16905, 16906, 16907,\n",
       "            16908],\n",
       "           dtype='int64', length=3065)"
      ]
     },
     "execution_count": 134,
     "metadata": {},
     "output_type": "execute_result"
    }
   ],
   "source": [
    "X692 = ex1.loc[ ex1.iloc[:,2].isnull() == False ]['X692'].index\n",
    "X692"
   ]
  },
  {
   "cell_type": "code",
   "execution_count": 135,
   "metadata": {},
   "outputs": [
    {
     "name": "stdout",
     "output_type": "stream",
     "text": [
      "Int64Index([14209, 14210, 14211, 14212, 14213, 14214, 14215, 14216, 14217,\n",
      "            14218, 14219, 14220, 14221, 14222, 14223, 14224, 14225, 14226,\n",
      "            14227, 14228],\n",
      "           dtype='int64')\n",
      "Int64Index([14208, 14209, 14210, 14211, 14212, 14213, 14214, 14215, 14216,\n",
      "            14217, 14218, 14219, 14220, 14221, 14222, 14223, 14224, 14225,\n",
      "            14226, 14227],\n",
      "           dtype='int64')\n",
      "Int64Index([0, 0, 0, 0, 0, 0, 0, 0, 0, 0, 0, 0, 0, 0, 0, 0, 0, 0, 0, 0], dtype='int64')\n"
     ]
    }
   ],
   "source": [
    "print(X692[500:520])  # 값이 존재하는 다음 index\n",
    "print(X692[499:519])  # 값이 존재하는 현재 index\n",
    "print(X692[500:520] - X692[499:519] - 1)  # 다음index - 현재index"
   ]
  },
  {
   "cell_type": "markdown",
   "metadata": {},
   "source": [
    "#### 이를 모든 'X692'에 적용해보기\n",
    "\n",
    "+ zip()"
   ]
  },
  {
   "cell_type": "code",
   "execution_count": 163,
   "metadata": {},
   "outputs": [],
   "source": [
    "df_X692 = pd.DataFrame(list(zip(X692[:-1], X692[1:]-X692[:-1]-1)),\n",
    "                       columns = ['Index', 'count'])\n",
    "\n",
    "#마지막 값들이 결측일 경우를 추가하기 위한 코드\n",
    "# df_X692.shape  # (3064, 2)\n",
    "# X692[-1]  # X692의 뒤에서 첫번째\n",
    "# 16908  # X692 전체 갯수\n",
    "# 마지막 값이 Na가 아니면 0, 결측이면 개수만큼\n",
    "\n",
    "df_X692.loc[df_X692.shape[0]+1] = (X692[-1] , 16908 - X692[-1])"
   ]
  },
  {
   "cell_type": "code",
   "execution_count": 164,
   "metadata": {},
   "outputs": [],
   "source": [
    "# 결측치 갯수 기준 내림차순 정렬\n",
    "df_X692.sort_values('count', ascending=False, inplace=True)"
   ]
  },
  {
   "cell_type": "code",
   "execution_count": 165,
   "metadata": {
    "scrolled": false
   },
   "outputs": [
    {
     "data": {
      "text/html": [
       "<div>\n",
       "<style scoped>\n",
       "    .dataframe tbody tr th:only-of-type {\n",
       "        vertical-align: middle;\n",
       "    }\n",
       "\n",
       "    .dataframe tbody tr th {\n",
       "        vertical-align: top;\n",
       "    }\n",
       "\n",
       "    .dataframe thead th {\n",
       "        text-align: right;\n",
       "    }\n",
       "</style>\n",
       "<table border=\"1\" class=\"dataframe\">\n",
       "  <thead>\n",
       "    <tr style=\"text-align: right;\">\n",
       "      <th></th>\n",
       "      <th>Index</th>\n",
       "      <th>count</th>\n",
       "    </tr>\n",
       "  </thead>\n",
       "  <tbody>\n",
       "    <tr>\n",
       "      <td>1150</td>\n",
       "      <td>14898</td>\n",
       "      <td>37</td>\n",
       "    </tr>\n",
       "    <tr>\n",
       "      <td>2773</td>\n",
       "      <td>16573</td>\n",
       "      <td>23</td>\n",
       "    </tr>\n",
       "    <tr>\n",
       "      <td>1108</td>\n",
       "      <td>14833</td>\n",
       "      <td>23</td>\n",
       "    </tr>\n",
       "    <tr>\n",
       "      <td>311</td>\n",
       "      <td>13982</td>\n",
       "      <td>22</td>\n",
       "    </tr>\n",
       "    <tr>\n",
       "      <td>1037</td>\n",
       "      <td>14751</td>\n",
       "      <td>11</td>\n",
       "    </tr>\n",
       "  </tbody>\n",
       "</table>\n",
       "</div>"
      ],
      "text/plain": [
       "      Index  count\n",
       "1150  14898     37\n",
       "2773  16573     23\n",
       "1108  14833     23\n",
       "311   13982     22\n",
       "1037  14751     11"
      ]
     },
     "execution_count": 165,
     "metadata": {},
     "output_type": "execute_result"
    }
   ],
   "source": [
    "df_X692[df_X692['count']>0].head()"
   ]
  },
  {
   "cell_type": "code",
   "execution_count": 166,
   "metadata": {
    "scrolled": true
   },
   "outputs": [
    {
     "data": {
      "text/html": [
       "<div>\n",
       "<style scoped>\n",
       "    .dataframe tbody tr th:only-of-type {\n",
       "        vertical-align: middle;\n",
       "    }\n",
       "\n",
       "    .dataframe tbody tr th {\n",
       "        vertical-align: top;\n",
       "    }\n",
       "\n",
       "    .dataframe thead th {\n",
       "        text-align: right;\n",
       "    }\n",
       "</style>\n",
       "<table border=\"1\" class=\"dataframe\">\n",
       "  <thead>\n",
       "    <tr style=\"text-align: right;\">\n",
       "      <th></th>\n",
       "      <th>Index</th>\n",
       "      <th>count</th>\n",
       "    </tr>\n",
       "  </thead>\n",
       "  <tbody>\n",
       "    <tr>\n",
       "      <td>990</td>\n",
       "      <td>14700</td>\n",
       "      <td>1</td>\n",
       "    </tr>\n",
       "    <tr>\n",
       "      <td>205</td>\n",
       "      <td>13859</td>\n",
       "      <td>1</td>\n",
       "    </tr>\n",
       "    <tr>\n",
       "      <td>273</td>\n",
       "      <td>13931</td>\n",
       "      <td>1</td>\n",
       "    </tr>\n",
       "    <tr>\n",
       "      <td>228</td>\n",
       "      <td>13883</td>\n",
       "      <td>1</td>\n",
       "    </tr>\n",
       "    <tr>\n",
       "      <td>202</td>\n",
       "      <td>13855</td>\n",
       "      <td>1</td>\n",
       "    </tr>\n",
       "  </tbody>\n",
       "</table>\n",
       "</div>"
      ],
      "text/plain": [
       "     Index  count\n",
       "990  14700      1\n",
       "205  13859      1\n",
       "273  13931      1\n",
       "228  13883      1\n",
       "202  13855      1"
      ]
     },
     "execution_count": 166,
     "metadata": {},
     "output_type": "execute_result"
    }
   ],
   "source": [
    "df_X692[df_X692['count']>0].tail()"
   ]
  },
  {
   "cell_type": "markdown",
   "metadata": {},
   "source": [
    "### 2-3 결측치 대체 작업\n",
    "#### 2-3-1 중앙값 이상의 값을 전력량 과다로 인한 NA발생으로 가정하고 평균값으로 대체"
   ]
  },
  {
   "cell_type": "code",
   "execution_count": 170,
   "metadata": {},
   "outputs": [
    {
     "name": "stdout",
     "output_type": "stream",
     "text": [
      "X692의 평균   : 0.372\n",
      "X692의 중앙값 : 0.329\n"
     ]
    }
   ],
   "source": [
    "print('X692의 평균   :', round(ex1['X692'].mean(),3))\n",
    "print('X692의 중앙값 :', ex1['X692'].median())"
   ]
  },
  {
   "cell_type": "code",
   "execution_count": 177,
   "metadata": {
    "scrolled": true
   },
   "outputs": [
    {
     "name": "stderr",
     "output_type": "stream",
     "text": [
      "C:\\Users\\huiyeon\\Anaconda3\\lib\\site-packages\\ipykernel_launcher.py:5: SettingWithCopyWarning: \n",
      "A value is trying to be set on a copy of a slice from a DataFrame\n",
      "\n",
      "See the caveats in the documentation: http://pandas.pydata.org/pandas-docs/stable/user_guide/indexing.html#returning-a-view-versus-a-copy\n",
      "  \"\"\"\n"
     ]
    },
    {
     "data": {
      "text/html": [
       "<div>\n",
       "<style scoped>\n",
       "    .dataframe tbody tr th:only-of-type {\n",
       "        vertical-align: middle;\n",
       "    }\n",
       "\n",
       "    .dataframe tbody tr th {\n",
       "        vertical-align: top;\n",
       "    }\n",
       "\n",
       "    .dataframe thead th {\n",
       "        text-align: right;\n",
       "    }\n",
       "</style>\n",
       "<table border=\"1\" class=\"dataframe\">\n",
       "  <thead>\n",
       "    <tr style=\"text-align: right;\">\n",
       "      <th></th>\n",
       "      <th>Index</th>\n",
       "      <th>count</th>\n",
       "    </tr>\n",
       "  </thead>\n",
       "  <tbody>\n",
       "    <tr>\n",
       "      <td>0</td>\n",
       "      <td>13667</td>\n",
       "      <td>1</td>\n",
       "    </tr>\n",
       "    <tr>\n",
       "      <td>1</td>\n",
       "      <td>13691</td>\n",
       "      <td>1</td>\n",
       "    </tr>\n",
       "    <tr>\n",
       "      <td>2</td>\n",
       "      <td>13715</td>\n",
       "      <td>1</td>\n",
       "    </tr>\n",
       "    <tr>\n",
       "      <td>3</td>\n",
       "      <td>13739</td>\n",
       "      <td>1</td>\n",
       "    </tr>\n",
       "    <tr>\n",
       "      <td>4</td>\n",
       "      <td>13763</td>\n",
       "      <td>1</td>\n",
       "    </tr>\n",
       "    <tr>\n",
       "      <td>5</td>\n",
       "      <td>13787</td>\n",
       "      <td>1</td>\n",
       "    </tr>\n",
       "    <tr>\n",
       "      <td>6</td>\n",
       "      <td>13811</td>\n",
       "      <td>1</td>\n",
       "    </tr>\n",
       "    <tr>\n",
       "      <td>7</td>\n",
       "      <td>13835</td>\n",
       "      <td>1</td>\n",
       "    </tr>\n",
       "    <tr>\n",
       "      <td>8</td>\n",
       "      <td>13855</td>\n",
       "      <td>1</td>\n",
       "    </tr>\n",
       "    <tr>\n",
       "      <td>9</td>\n",
       "      <td>13859</td>\n",
       "      <td>1</td>\n",
       "    </tr>\n",
       "    <tr>\n",
       "      <td>10</td>\n",
       "      <td>13883</td>\n",
       "      <td>1</td>\n",
       "    </tr>\n",
       "    <tr>\n",
       "      <td>11</td>\n",
       "      <td>13901</td>\n",
       "      <td>1</td>\n",
       "    </tr>\n",
       "    <tr>\n",
       "      <td>12</td>\n",
       "      <td>13907</td>\n",
       "      <td>1</td>\n",
       "    </tr>\n",
       "    <tr>\n",
       "      <td>13</td>\n",
       "      <td>13931</td>\n",
       "      <td>1</td>\n",
       "    </tr>\n",
       "    <tr>\n",
       "      <td>14</td>\n",
       "      <td>13938</td>\n",
       "      <td>1</td>\n",
       "    </tr>\n",
       "    <tr>\n",
       "      <td>15</td>\n",
       "      <td>13945</td>\n",
       "      <td>1</td>\n",
       "    </tr>\n",
       "    <tr>\n",
       "      <td>16</td>\n",
       "      <td>13954</td>\n",
       "      <td>3</td>\n",
       "    </tr>\n",
       "    <tr>\n",
       "      <td>17</td>\n",
       "      <td>13960</td>\n",
       "      <td>1</td>\n",
       "    </tr>\n",
       "    <tr>\n",
       "      <td>18</td>\n",
       "      <td>13967</td>\n",
       "      <td>2</td>\n",
       "    </tr>\n",
       "    <tr>\n",
       "      <td>19</td>\n",
       "      <td>13972</td>\n",
       "      <td>1</td>\n",
       "    </tr>\n",
       "    <tr>\n",
       "      <td>20</td>\n",
       "      <td>13975</td>\n",
       "      <td>1</td>\n",
       "    </tr>\n",
       "    <tr>\n",
       "      <td>21</td>\n",
       "      <td>13979</td>\n",
       "      <td>2</td>\n",
       "    </tr>\n",
       "    <tr>\n",
       "      <td>22</td>\n",
       "      <td>13982</td>\n",
       "      <td>22</td>\n",
       "    </tr>\n",
       "    <tr>\n",
       "      <td>23</td>\n",
       "      <td>14006</td>\n",
       "      <td>9</td>\n",
       "    </tr>\n",
       "    <tr>\n",
       "      <td>24</td>\n",
       "      <td>14027</td>\n",
       "      <td>2</td>\n",
       "    </tr>\n",
       "    <tr>\n",
       "      <td>25</td>\n",
       "      <td>14051</td>\n",
       "      <td>2</td>\n",
       "    </tr>\n",
       "    <tr>\n",
       "      <td>26</td>\n",
       "      <td>14075</td>\n",
       "      <td>2</td>\n",
       "    </tr>\n",
       "    <tr>\n",
       "      <td>27</td>\n",
       "      <td>14086</td>\n",
       "      <td>1</td>\n",
       "    </tr>\n",
       "    <tr>\n",
       "      <td>28</td>\n",
       "      <td>14669</td>\n",
       "      <td>1</td>\n",
       "    </tr>\n",
       "    <tr>\n",
       "      <td>29</td>\n",
       "      <td>14700</td>\n",
       "      <td>1</td>\n",
       "    </tr>\n",
       "    <tr>\n",
       "      <td>30</td>\n",
       "      <td>14722</td>\n",
       "      <td>1</td>\n",
       "    </tr>\n",
       "    <tr>\n",
       "      <td>31</td>\n",
       "      <td>14741</td>\n",
       "      <td>2</td>\n",
       "    </tr>\n",
       "    <tr>\n",
       "      <td>32</td>\n",
       "      <td>14751</td>\n",
       "      <td>11</td>\n",
       "    </tr>\n",
       "    <tr>\n",
       "      <td>33</td>\n",
       "      <td>14833</td>\n",
       "      <td>23</td>\n",
       "    </tr>\n",
       "    <tr>\n",
       "      <td>34</td>\n",
       "      <td>14898</td>\n",
       "      <td>37</td>\n",
       "    </tr>\n",
       "    <tr>\n",
       "      <td>35</td>\n",
       "      <td>15936</td>\n",
       "      <td>6</td>\n",
       "    </tr>\n",
       "    <tr>\n",
       "      <td>36</td>\n",
       "      <td>16368</td>\n",
       "      <td>3</td>\n",
       "    </tr>\n",
       "    <tr>\n",
       "      <td>37</td>\n",
       "      <td>16566</td>\n",
       "      <td>6</td>\n",
       "    </tr>\n",
       "    <tr>\n",
       "      <td>38</td>\n",
       "      <td>16573</td>\n",
       "      <td>23</td>\n",
       "    </tr>\n",
       "    <tr>\n",
       "      <td>39</td>\n",
       "      <td>16597</td>\n",
       "      <td>8</td>\n",
       "    </tr>\n",
       "    <tr>\n",
       "      <td>40</td>\n",
       "      <td>16820</td>\n",
       "      <td>1</td>\n",
       "    </tr>\n",
       "    <tr>\n",
       "      <td>41</td>\n",
       "      <td>16860</td>\n",
       "      <td>1</td>\n",
       "    </tr>\n",
       "    <tr>\n",
       "      <td>42</td>\n",
       "      <td>16873</td>\n",
       "      <td>7</td>\n",
       "    </tr>\n",
       "    <tr>\n",
       "      <td>43</td>\n",
       "      <td>16881</td>\n",
       "      <td>2</td>\n",
       "    </tr>\n",
       "    <tr>\n",
       "      <td>44</td>\n",
       "      <td>16884</td>\n",
       "      <td>2</td>\n",
       "    </tr>\n",
       "  </tbody>\n",
       "</table>\n",
       "</div>"
      ],
      "text/plain": [
       "    Index  count\n",
       "0   13667      1\n",
       "1   13691      1\n",
       "2   13715      1\n",
       "3   13739      1\n",
       "4   13763      1\n",
       "5   13787      1\n",
       "6   13811      1\n",
       "7   13835      1\n",
       "8   13855      1\n",
       "9   13859      1\n",
       "10  13883      1\n",
       "11  13901      1\n",
       "12  13907      1\n",
       "13  13931      1\n",
       "14  13938      1\n",
       "15  13945      1\n",
       "16  13954      3\n",
       "17  13960      1\n",
       "18  13967      2\n",
       "19  13972      1\n",
       "20  13975      1\n",
       "21  13979      2\n",
       "22  13982     22\n",
       "23  14006      9\n",
       "24  14027      2\n",
       "25  14051      2\n",
       "26  14075      2\n",
       "27  14086      1\n",
       "28  14669      1\n",
       "29  14700      1\n",
       "30  14722      1\n",
       "31  14741      2\n",
       "32  14751     11\n",
       "33  14833     23\n",
       "34  14898     37\n",
       "35  15936      6\n",
       "36  16368      3\n",
       "37  16566      6\n",
       "38  16573     23\n",
       "39  16597      8\n",
       "40  16820      1\n",
       "41  16860      1\n",
       "42  16873      7\n",
       "43  16881      2\n",
       "44  16884      2"
      ]
     },
     "execution_count": 177,
     "metadata": {},
     "output_type": "execute_result"
    }
   ],
   "source": [
    "# 1. 평균값으로 결측치 대체\n",
    "\n",
    "# NA존재하는 부분만 추출하여 df_X692_NA로 저장\n",
    "df_X692_NA = df_X692[df_X692['count']>0]\n",
    "df_X692_NA.sort_values('Index', inplace=True)  # Index열 위해서 sort\n",
    "df_X692_NA = df_X692_NA.reset_index(drop=True)  # index 초기화\n",
    "\n",
    "# 중앙값 고정\n",
    "X692_median = ex1['X692'].median()\n",
    "\n",
    "df_X692_NA"
   ]
  },
  {
   "cell_type": "code",
   "execution_count": 179,
   "metadata": {},
   "outputs": [
    {
     "name": "stderr",
     "output_type": "stream",
     "text": [
      "C:\\Users\\huiyeon\\Anaconda3\\lib\\site-packages\\pandas\\core\\indexing.py:205: SettingWithCopyWarning: \n",
      "A value is trying to be set on a copy of a slice from a DataFrame\n",
      "\n",
      "See the caveats in the documentation: http://pandas.pydata.org/pandas-docs/stable/user_guide/indexing.html#returning-a-view-versus-a-copy\n",
      "  self._setitem_with_indexer(indexer, value)\n"
     ]
    }
   ],
   "source": [
    "for i,j in zip(df_X692_NA['Index'], df_X692_NA['count']):\n",
    "    # i:값이 존재하는 index, j:결측치갯수\n",
    "    if ex1['X692'].iloc[i,]>=X692_median:\n",
    "        # 현재 index에 존재하는 값이 중앙값 이상일 때만 zip\n",
    "        ex1['X692'].iloc[i:i+j+1,] = ex1['X692'].iloc[i,]/(j+1)\n",
    "    else:\n",
    "        pass"
   ]
  },
  {
   "cell_type": "code",
   "execution_count": 183,
   "metadata": {},
   "outputs": [
    {
     "name": "stdout",
     "output_type": "stream",
     "text": [
      "결측치 대체 후 X692의 평균   : 0.363\n",
      "결측치 대체 후 X692의 중앙값 : 0.328\n"
     ]
    }
   ],
   "source": [
    "print('결측치 대체 후 X692의 평균   :', round(ex1['X692'].mean(),3))\n",
    "print('결측치 대체 후 X692의 중앙값 :', ex1['X692'].median())"
   ]
  },
  {
   "cell_type": "code",
   "execution_count": 215,
   "metadata": {},
   "outputs": [
    {
     "name": "stdout",
     "output_type": "stream",
     "text": [
      "결측치 대체 전 결측값 개수 : 13845\n",
      "결측치 대체 후 결측값 개수 : 13769\n"
     ]
    }
   ],
   "source": [
    "# 결측치 대체 전 후 결측값 개수\n",
    "print('결측치 대체 전 결측값 개수 :',train['X692'].isnull().sum())\n",
    "print('결측치 대체 후 결측값 개수 :',ex1['X692'].isnull().sum())"
   ]
  },
  {
   "cell_type": "code",
   "execution_count": 209,
   "metadata": {},
   "outputs": [],
   "source": [
    "# 한글 폰트 설정\n",
    "mpl.rc('font', family='NanumGothic')\n",
    "# 유니코드에서 음수 부호설정\n",
    "mpl.rc('axes', unicode_minus=False)"
   ]
  },
  {
   "cell_type": "code",
   "execution_count": 211,
   "metadata": {
    "scrolled": true
   },
   "outputs": [
    {
     "data": {
      "text/plain": [
       "Text(0.5, 1.0, '결측치 대체 전 X692 세대')"
      ]
     },
     "execution_count": 211,
     "metadata": {},
     "output_type": "execute_result"
    },
    {
     "data": {
      "image/png": "[encoded data removed]",
      "text/plain": [
       "<Figure size 432x288 with 1 Axes>"
      ]
     },
     "metadata": {
      "needs_background": "light"
     },
     "output_type": "display_data"
    }
   ],
   "source": [
    "# X692 결측치 대체 전, 후 비교 plot\n",
    "plt.plot(train['X692'])\n",
    "plt.title(\"결측치 대체 전 X692 세대\")"
   ]
  },
  {
   "cell_type": "code",
   "execution_count": 213,
   "metadata": {
    "scrolled": false
   },
   "outputs": [
    {
     "data": {
      "text/plain": [
       "Text(0.5, 1.0, '결측치 대체 후 X692 세대')"
      ]
     },
     "execution_count": 213,
     "metadata": {},
     "output_type": "execute_result"
    },
    {
     "data": {
      "image/png": "[encoded data removed]",
      "text/plain": [
       "<Figure size 432x288 with 1 Axes>"
      ]
     },
     "metadata": {
      "needs_background": "light"
     },
     "output_type": "display_data"
    }
   ],
   "source": [
    "plt.ylim(0,4)\n",
    "plt.plot(ex1['X692'])\n",
    "plt.title(\"결측치 대체 후 X692 세대\")"
   ]
  },
  {
   "cell_type": "code",
   "execution_count": 248,
   "metadata": {},
   "outputs": [
    {
     "name": "stdout",
     "output_type": "stream",
     "text": [
      "100 번째 실행중\n",
      "200 번째 실행중\n",
      "300 번째 실행중\n",
      "400 번째 실행중\n",
      "500 번째 실행중\n",
      "600 번째 실행중\n",
      "700 번째 실행중\n",
      "800 번째 실행중\n",
      "900 번째 실행중\n",
      "1000 번째 실행중\n",
      "1100 번째 실행중\n",
      "1200 번째 실행중\n",
      "1300 번째 실행중\n"
     ]
    }
   ],
   "source": [
    "# 전체 train에 중앙값보다 큰 값은 평균으로 대체\n",
    "ex2 = train.copy()  # 원본 데이터 보존을 위해\n",
    "\n",
    "for k in range(1, len(ex2.columns)):\n",
    "    # Time열 제외하고 k세대만큼 for문 동작\n",
    "    train_median = ex2.iloc[:, k].median()  # k세대 중앙값 고정\n",
    "    # ct : 결측치가 아닌 index 번호\n",
    "    ct = ex2.loc[ex2.iloc[:, k].isnull() == False][ex2.columns[k]].index\n",
    "\n",
    "    # Index : 값이존재하는 index, count :결측값 갯수\n",
    "    df_train = pd.DataFrame(list(zip(ct[:-1], ct[1:] - ct[:-1]-1)),\n",
    "                            columns=['Index', 'count'])\n",
    "        \n",
    "    df_train_NA = df_train[df_train['count'] > 0]  # NA존재하는 부분만 추출\n",
    "    df_train_NA = df_train_NA.reset_index(drop=True)\n",
    "\n",
    "    for i, j in zip(df_train_NA['Index'], df_train_NA['count']):\n",
    "        # i:해당세대에서 값이 존재하는 index, j:결측치 갯수\n",
    "        if ex2.iloc[i, k] >= train_median:\n",
    "            # index에 존재하는 값이 해당 세대 중앙값 이상일 때,\n",
    "            ex2.iloc[i:i+j+1, k] = ex2.iloc[i, k] / (j+1)\n",
    "        else:\n",
    "            pass\n",
    "    if k % 100 == 0:\n",
    "        print(k, \"번째 실행중\")"
   ]
  },
  {
   "cell_type": "code",
   "execution_count": 249,
   "metadata": {},
   "outputs": [
    {
     "data": {
      "image/png": "[encoded data removed]",
      "text/plain": [
       "<Figure size 1080x360 with 2 Axes>"
      ]
     },
     "metadata": {
      "needs_background": "light"
     },
     "output_type": "display_data"
    }
   ],
   "source": [
    "# 결측치 처리 전 후 plot 비율 비교하기\n",
    "_, ax = plt.subplots(1,2, figsize=(15,5))\n",
    "\n",
    "# 결측치 처리 전 plot\n",
    "a = sns.distplot(train.isnull().mean(axis=0), ax=ax[0])\n",
    "a.set(ylim=(0, 30))\n",
    "ax[0].set_title('Distribution of Missing Values Percentage in Test set')\n",
    "\n",
    "# 결측치 처리 후 plot\n",
    "b=sns.distplot(ex2.isnull().mean(axis=0), ax=ax[1]) #test data에서의 결측치 비율을 시각화 하고, 이를 두 번째 그래프 창에 넣습니다.\n",
    "b.set(ylim=(0, 30))\n",
    "ax[1].set_title('Distribution of Missing Values Percentage in Test set after Missing value processing')\n",
    "plt.show()"
   ]
  },
  {
   "cell_type": "code",
   "execution_count": 252,
   "metadata": {},
   "outputs": [
    {
     "name": "stdout",
     "output_type": "stream",
     "text": [
      "결측치 대체 전 결측값 개수 : Time         0\n",
      "X692     13845\n",
      "X1272    13844\n",
      "X553     13868\n",
      "X1299    13903\n",
      "         ...  \n",
      "X1271    13844\n",
      "X1288    13875\n",
      "X58      15162\n",
      "X1033    13865\n",
      "X1163    13868\n",
      "Length: 1301, dtype: int64\n",
      "결측치 대체 후 결측값 개수 : Time         0\n",
      "X692     13768\n",
      "X1272    13735\n",
      "X553     13734\n",
      "X1299    13731\n",
      "         ...  \n",
      "X1271    13740\n",
      "X1288    13761\n",
      "X58      15152\n",
      "X1033    13735\n",
      "X1163    13748\n",
      "Length: 1301, dtype: int64\n"
     ]
    }
   ],
   "source": [
    "# 결측치 대체 전 후 결측값 개수\n",
    "print('결측치 대체 전 결측값 개수 :',train.isnull().sum())\n",
    "print('결측치 대체 후 결측값 개수 :',ex2.isnull().sum())"
   ]
  },
  {
   "cell_type": "code",
   "execution_count": 253,
   "metadata": {},
   "outputs": [
    {
     "name": "stdout",
     "output_type": "stream",
     "text": [
      "결측치 대체 후 각 세대 평균   : X692     0.362\n",
      "X1272    0.396\n",
      "X553     0.498\n",
      "X1299    0.246\n",
      "X4         NaN\n",
      "         ...  \n",
      "X1271    0.535\n",
      "X1288    0.470\n",
      "X58      2.865\n",
      "X1033    0.342\n",
      "X1163    0.327\n",
      "Length: 1300, dtype: float64\n",
      "결측치 대체 후 각 세대 중앙값 : X692     0.3280\n",
      "X1272    0.3370\n",
      "X553     0.4800\n",
      "X1299    0.1700\n",
      "X4          NaN\n",
      "          ...  \n",
      "X1271    0.4650\n",
      "X1288    0.4210\n",
      "X58      2.4290\n",
      "X1033    0.3226\n",
      "X1163    0.2870\n",
      "Length: 1300, dtype: float64\n"
     ]
    }
   ],
   "source": [
    "print('결측치 대체 후 각 세대 평균   :', round(ex2.mean(),3))\n",
    "print('결측치 대체 후 각 세대 중앙값 :', ex2.median())"
   ]
  },
  {
   "cell_type": "code",
   "execution_count": 254,
   "metadata": {},
   "outputs": [
    {
     "data": {
      "text/plain": [
       "[<matplotlib.lines.Line2D at 0xde2d476a90>]"
      ]
     },
     "execution_count": 254,
     "metadata": {},
     "output_type": "execute_result"
    },
    {
     "data": {
      "image/png": "[encoded data removed]",
      "text/plain": [
       "<Figure size 432x288 with 1 Axes>"
      ]
     },
     "metadata": {
      "needs_background": "light"
     },
     "output_type": "display_data"
    }
   ],
   "source": [
    "# 결측치 대체 후 평균값 plot\n",
    "plt.plot(round(ex2.mean(),3))"
   ]
  },
  {
   "cell_type": "code",
   "execution_count": 255,
   "metadata": {
    "scrolled": true
   },
   "outputs": [
    {
     "data": {
      "text/plain": [
       "[<matplotlib.lines.Line2D at 0xdf2c891940>]"
      ]
     },
     "execution_count": 255,
     "metadata": {},
     "output_type": "execute_result"
    },
    {
     "data": {
      "image/png": "[encoded data removed]",
      "text/plain": [
       "<Figure size 432x288 with 1 Axes>"
      ]
     },
     "metadata": {
      "needs_background": "light"
     },
     "output_type": "display_data"
    }
   ],
   "source": [
    "# 결측치 대체 후 중앙값 plot\n",
    "plt.plot(ex2.median())"
   ]
  },
  {
   "cell_type": "code",
   "execution_count": 256,
   "metadata": {
    "scrolled": true
   },
   "outputs": [
    {
     "data": {
      "text/plain": [
       "[<matplotlib.lines.Line2D at 0xde2e4afbe0>]"
      ]
     },
     "execution_count": 256,
     "metadata": {},
     "output_type": "execute_result"
    },
    {
     "data": {
      "image/png": "[encoded data removed]",
      "text/plain": [
       "<Figure size 432x288 with 1 Axes>"
      ]
     },
     "metadata": {
      "needs_background": "light"
     },
     "output_type": "display_data"
    }
   ],
   "source": [
    "# 결측치 대체 전 중앙값 plot\n",
    "plt.plot(train.median())"
   ]
  },
  {
   "cell_type": "code",
   "execution_count": 257,
   "metadata": {},
   "outputs": [
    {
     "data": {
      "text/html": [
       "<div>\n",
       "<style scoped>\n",
       "    .dataframe tbody tr th:only-of-type {\n",
       "        vertical-align: middle;\n",
       "    }\n",
       "\n",
       "    .dataframe tbody tr th {\n",
       "        vertical-align: top;\n",
       "    }\n",
       "\n",
       "    .dataframe thead th {\n",
       "        text-align: right;\n",
       "    }\n",
       "</style>\n",
       "<table border=\"1\" class=\"dataframe\">\n",
       "  <thead>\n",
       "    <tr style=\"text-align: right;\">\n",
       "      <th></th>\n",
       "      <th>Time</th>\n",
       "      <th>X692</th>\n",
       "      <th>X1272</th>\n",
       "      <th>X553</th>\n",
       "      <th>X1299</th>\n",
       "      <th>X4</th>\n",
       "      <th>X598</th>\n",
       "      <th>X1003</th>\n",
       "      <th>X1010</th>\n",
       "      <th>X1216</th>\n",
       "      <th>...</th>\n",
       "      <th>X1164</th>\n",
       "      <th>X656</th>\n",
       "      <th>X1287</th>\n",
       "      <th>X324</th>\n",
       "      <th>X767</th>\n",
       "      <th>X1271</th>\n",
       "      <th>X1288</th>\n",
       "      <th>X58</th>\n",
       "      <th>X1033</th>\n",
       "      <th>X1163</th>\n",
       "    </tr>\n",
       "  </thead>\n",
       "  <tbody>\n",
       "    <tr>\n",
       "      <td>0</td>\n",
       "      <td>2016-07-26 11:00</td>\n",
       "      <td>NaN</td>\n",
       "      <td>NaN</td>\n",
       "      <td>NaN</td>\n",
       "      <td>NaN</td>\n",
       "      <td>NaN</td>\n",
       "      <td>NaN</td>\n",
       "      <td>NaN</td>\n",
       "      <td>NaN</td>\n",
       "      <td>NaN</td>\n",
       "      <td>...</td>\n",
       "      <td>NaN</td>\n",
       "      <td>NaN</td>\n",
       "      <td>NaN</td>\n",
       "      <td>NaN</td>\n",
       "      <td>NaN</td>\n",
       "      <td>NaN</td>\n",
       "      <td>NaN</td>\n",
       "      <td>NaN</td>\n",
       "      <td>NaN</td>\n",
       "      <td>NaN</td>\n",
       "    </tr>\n",
       "    <tr>\n",
       "      <td>1</td>\n",
       "      <td>2016-07-26 12:00</td>\n",
       "      <td>NaN</td>\n",
       "      <td>NaN</td>\n",
       "      <td>NaN</td>\n",
       "      <td>NaN</td>\n",
       "      <td>NaN</td>\n",
       "      <td>NaN</td>\n",
       "      <td>NaN</td>\n",
       "      <td>NaN</td>\n",
       "      <td>NaN</td>\n",
       "      <td>...</td>\n",
       "      <td>NaN</td>\n",
       "      <td>NaN</td>\n",
       "      <td>NaN</td>\n",
       "      <td>NaN</td>\n",
       "      <td>NaN</td>\n",
       "      <td>NaN</td>\n",
       "      <td>NaN</td>\n",
       "      <td>NaN</td>\n",
       "      <td>NaN</td>\n",
       "      <td>NaN</td>\n",
       "    </tr>\n",
       "    <tr>\n",
       "      <td>2</td>\n",
       "      <td>2016-07-26 13:00</td>\n",
       "      <td>NaN</td>\n",
       "      <td>NaN</td>\n",
       "      <td>NaN</td>\n",
       "      <td>NaN</td>\n",
       "      <td>NaN</td>\n",
       "      <td>NaN</td>\n",
       "      <td>NaN</td>\n",
       "      <td>NaN</td>\n",
       "      <td>NaN</td>\n",
       "      <td>...</td>\n",
       "      <td>NaN</td>\n",
       "      <td>NaN</td>\n",
       "      <td>NaN</td>\n",
       "      <td>NaN</td>\n",
       "      <td>NaN</td>\n",
       "      <td>NaN</td>\n",
       "      <td>NaN</td>\n",
       "      <td>NaN</td>\n",
       "      <td>NaN</td>\n",
       "      <td>NaN</td>\n",
       "    </tr>\n",
       "    <tr>\n",
       "      <td>3</td>\n",
       "      <td>2016-07-26 14:00</td>\n",
       "      <td>NaN</td>\n",
       "      <td>NaN</td>\n",
       "      <td>NaN</td>\n",
       "      <td>NaN</td>\n",
       "      <td>NaN</td>\n",
       "      <td>NaN</td>\n",
       "      <td>NaN</td>\n",
       "      <td>NaN</td>\n",
       "      <td>NaN</td>\n",
       "      <td>...</td>\n",
       "      <td>NaN</td>\n",
       "      <td>NaN</td>\n",
       "      <td>NaN</td>\n",
       "      <td>NaN</td>\n",
       "      <td>NaN</td>\n",
       "      <td>NaN</td>\n",
       "      <td>NaN</td>\n",
       "      <td>NaN</td>\n",
       "      <td>NaN</td>\n",
       "      <td>NaN</td>\n",
       "    </tr>\n",
       "    <tr>\n",
       "      <td>4</td>\n",
       "      <td>2016-07-26 15:00</td>\n",
       "      <td>NaN</td>\n",
       "      <td>NaN</td>\n",
       "      <td>NaN</td>\n",
       "      <td>NaN</td>\n",
       "      <td>NaN</td>\n",
       "      <td>NaN</td>\n",
       "      <td>NaN</td>\n",
       "      <td>NaN</td>\n",
       "      <td>NaN</td>\n",
       "      <td>...</td>\n",
       "      <td>NaN</td>\n",
       "      <td>NaN</td>\n",
       "      <td>NaN</td>\n",
       "      <td>NaN</td>\n",
       "      <td>NaN</td>\n",
       "      <td>NaN</td>\n",
       "      <td>NaN</td>\n",
       "      <td>NaN</td>\n",
       "      <td>NaN</td>\n",
       "      <td>NaN</td>\n",
       "    </tr>\n",
       "  </tbody>\n",
       "</table>\n",
       "<p>5 rows × 1301 columns</p>\n",
       "</div>"
      ],
      "text/plain": [
       "               Time  X692  X1272  X553  X1299  X4  X598  X1003  X1010  X1216  \\\n",
       "0  2016-07-26 11:00   NaN    NaN   NaN    NaN NaN   NaN    NaN    NaN    NaN   \n",
       "1  2016-07-26 12:00   NaN    NaN   NaN    NaN NaN   NaN    NaN    NaN    NaN   \n",
       "2  2016-07-26 13:00   NaN    NaN   NaN    NaN NaN   NaN    NaN    NaN    NaN   \n",
       "3  2016-07-26 14:00   NaN    NaN   NaN    NaN NaN   NaN    NaN    NaN    NaN   \n",
       "4  2016-07-26 15:00   NaN    NaN   NaN    NaN NaN   NaN    NaN    NaN    NaN   \n",
       "\n",
       "   ...  X1164  X656  X1287  X324  X767  X1271  X1288  X58  X1033  X1163  \n",
       "0  ...    NaN   NaN    NaN   NaN   NaN    NaN    NaN  NaN    NaN    NaN  \n",
       "1  ...    NaN   NaN    NaN   NaN   NaN    NaN    NaN  NaN    NaN    NaN  \n",
       "2  ...    NaN   NaN    NaN   NaN   NaN    NaN    NaN  NaN    NaN    NaN  \n",
       "3  ...    NaN   NaN    NaN   NaN   NaN    NaN    NaN  NaN    NaN    NaN  \n",
       "4  ...    NaN   NaN    NaN   NaN   NaN    NaN    NaN  NaN    NaN    NaN  \n",
       "\n",
       "[5 rows x 1301 columns]"
      ]
     },
     "execution_count": 257,
     "metadata": {},
     "output_type": "execute_result"
    }
   ],
   "source": [
    "# 중앙값 보다 큰 값 평균으로 결측치 처리 후 train 데이터 = ex2\n",
    "ex2.head()"
   ]
  },
  {
   "cell_type": "markdown",
   "metadata": {},
   "source": [
    "#### 2. 이후 초반에 발생한 NA값을 제외하고 나머지 결측치 값을 최빈값으로 대체"
   ]
  }
 ],
 "metadata": {
  "kernelspec": {
   "display_name": "Python 3",
   "language": "python",
   "name": "python3"
  },
  "language_info": {
   "codemirror_mode": {
    "name": "ipython",
    "version": 3
   },
   "file_extension": ".py",
   "mimetype": "text/x-python",
   "name": "python",
   "nbconvert_exporter": "python",
   "pygments_lexer": "ipython3",
   "version": "3.7.3"
  }
 },
 "nbformat": 4,
 "nbformat_minor": 2
}
