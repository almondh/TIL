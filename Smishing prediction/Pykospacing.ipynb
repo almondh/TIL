{
 "cells": [
  {
   "cell_type": "markdown",
   "metadata": {
    "colab_type": "text",
    "id": "r01XeGdv81bu"
   },
   "source": [
    "## DACON 금융문자분석\n",
    "1. import data\n",
    "2. preprocessing\n",
    "\n",
    "   1. 특수문자 제거\n",
    "   2. Kospacing으로 띄어쓰기 수정\n",
    "   \n",
    "3. modeling\n",
    "4. prediction"
   ]
  },
  {
   "cell_type": "markdown",
   "metadata": {
    "colab_type": "text",
    "id": "RfR3QxwQ9ACg"
   },
   "source": [
    "### 1 import data"
   ]
  },
  {
   "cell_type": "code",
   "execution_count": 0,
   "metadata": {
    "colab": {
     "base_uri": "https://localhost:8080/",
     "height": 127
    },
    "colab_type": "code",
    "executionInfo": {
     "elapsed": 19474,
     "status": "ok",
     "timestamp": 1578627185058,
     "user": {
      "displayName": "조희연",
      "photoUrl": "https://lh3.googleusercontent.com/a-/AAuE7mBZCv1s7qN3eb_3NsPCDALiKCcLrxnuo5pY6kk=s64",
      "userId": "10723966091405172941"
     },
     "user_tz": -540
    },
    "id": "EWQzRM9EZ4EW",
    "outputId": "afe99145-e531-459c-a14c-4938cb94930e"
   },
   "outputs": [
    {
     "name": "stdout",
     "output_type": "stream",
     "text": [
      "Go to this URL in a browser: https://accounts.google.com/o/oauth2/auth?client_id=947318989803-6bn6qk8qdgf4n4g3pfee6491hc0brc4i.apps.googleusercontent.com&redirect_uri=urn%3aietf%3awg%3aoauth%3a2.0%3aoob&response_type=code&scope=email%20https%3a%2f%2fwww.googleapis.com%2fauth%2fdocs.test%20https%3a%2f%2fwww.googleapis.com%2fauth%2fdrive%20https%3a%2f%2fwww.googleapis.com%2fauth%2fdrive.photos.readonly%20https%3a%2f%2fwww.googleapis.com%2fauth%2fpeopleapi.readonly\n",
      "\n",
      "Enter your authorization code:\n",
      "··········\n",
      "Mounted at /content/drive\n"
     ]
    }
   ],
   "source": [
    "from google.colab import drive\n",
    "drive.mount('/content/drive')"
   ]
  },
  {
   "cell_type": "code",
   "execution_count": 0,
   "metadata": {
    "colab": {
     "base_uri": "https://localhost:8080/",
     "height": 35
    },
    "colab_type": "code",
    "executionInfo": {
     "elapsed": 1109,
     "status": "ok",
     "timestamp": 1578627386940,
     "user": {
      "displayName": "조희연",
      "photoUrl": "https://lh3.googleusercontent.com/a-/AAuE7mBZCv1s7qN3eb_3NsPCDALiKCcLrxnuo5pY6kk=s64",
      "userId": "10723966091405172941"
     },
     "user_tz": -540
    },
    "id": "aD596mafbU0D",
    "outputId": "a6d53481-2e1c-44ba-c9b5-ccb03adb4376"
   },
   "outputs": [
    {
     "name": "stdout",
     "output_type": "stream",
     "text": [
      "/content/drive/My Drive/Dacon\n"
     ]
    }
   ],
   "source": [
    "cd drive/My Drive/Dacon"
   ]
  },
  {
   "cell_type": "code",
   "execution_count": 0,
   "metadata": {
    "colab": {},
    "colab_type": "code",
    "id": "4Kz0eVmhNlww"
   },
   "outputs": [],
   "source": [
    "# import package -------------------------\n",
    "# -*- coding: cp949 -*-\n",
    "import pandas as pd\n",
    "import numpy as np\n",
    "import matplotlib.pyplot as plt\n",
    "import seaborn as sns\n",
    "import timeit\n",
    "import pandas_profiling as pp\n",
    "\n",
    "from IPython.display import Image\n",
    "%matplotlib inline\n",
    "\n",
    "from matplotlib import font_manager, rc\n",
    "font_name = font_manager.FontProperties(fname=\"KOPUBDOTUMMEDIUM.TTF\").get_name()\n",
    "rc('font', family=font_name)"
   ]
  },
  {
   "cell_type": "code",
   "execution_count": 0,
   "metadata": {
    "colab": {},
    "colab_type": "code",
    "id": "6dwCxsaIN8bj"
   },
   "outputs": [],
   "source": [
    "# load data -----------------------\n",
    "train = pd.read_csv('train.csv', encoding='utf-8')\n",
    "public_test = pd.read_csv('public_test.csv', encoding='utf-8')"
   ]
  },
  {
   "cell_type": "code",
   "execution_count": 0,
   "metadata": {
    "colab": {
     "base_uri": "https://localhost:8080/",
     "height": 272
    },
    "colab_type": "code",
    "executionInfo": {
     "elapsed": 1654,
     "status": "ok",
     "timestamp": 1578541985183,
     "user": {
      "displayName": "조희연",
      "photoUrl": "https://lh3.googleusercontent.com/a-/AAuE7mBZCv1s7qN3eb_3NsPCDALiKCcLrxnuo5pY6kk=s64",
      "userId": "10723966091405172941"
     },
     "user_tz": -540
    },
    "id": "Oc7FITnPN_TI",
    "outputId": "b2a759ea-e892-42b8-cab5-05e5eee8cfd8"
   },
   "outputs": [
    {
     "data": {
      "text/html": [
       "<div>\n",
       "<style scoped>\n",
       "    .dataframe tbody tr th:only-of-type {\n",
       "        vertical-align: middle;\n",
       "    }\n",
       "\n",
       "    .dataframe tbody tr th {\n",
       "        vertical-align: top;\n",
       "    }\n",
       "\n",
       "    .dataframe thead th {\n",
       "        text-align: right;\n",
       "    }\n",
       "</style>\n",
       "<table border=\"1\" class=\"dataframe\">\n",
       "  <thead>\n",
       "    <tr style=\"text-align: right;\">\n",
       "      <th></th>\n",
       "      <th>id</th>\n",
       "      <th>year_month</th>\n",
       "      <th>text</th>\n",
       "      <th>smishing</th>\n",
       "    </tr>\n",
       "  </thead>\n",
       "  <tbody>\n",
       "    <tr>\n",
       "      <th>0</th>\n",
       "      <td>0</td>\n",
       "      <td>2017-01</td>\n",
       "      <td>XXX은행성산XXX팀장입니다.행복한주말되세요</td>\n",
       "      <td>0</td>\n",
       "    </tr>\n",
       "    <tr>\n",
       "      <th>1</th>\n",
       "      <td>1</td>\n",
       "      <td>2017-01</td>\n",
       "      <td>오늘도많이웃으시는하루시작하세요XXX은행 진월동VIP라운지 XXX올림</td>\n",
       "      <td>0</td>\n",
       "    </tr>\n",
       "    <tr>\n",
       "      <th>2</th>\n",
       "      <td>2</td>\n",
       "      <td>2017-01</td>\n",
       "      <td>안녕하십니까 고객님. XXX은행입니다.금일 납부하셔야 할 금액은 153600원 입니...</td>\n",
       "      <td>0</td>\n",
       "    </tr>\n",
       "    <tr>\n",
       "      <th>3</th>\n",
       "      <td>4</td>\n",
       "      <td>2017-01</td>\n",
       "      <td>XXX 고객님안녕하세요XXX은행 XXX지점입니다지난 한 해 동안 저희 XXX지점에 ...</td>\n",
       "      <td>0</td>\n",
       "    </tr>\n",
       "    <tr>\n",
       "      <th>4</th>\n",
       "      <td>5</td>\n",
       "      <td>2017-01</td>\n",
       "      <td>1월은 새로움이 가득XXX입니다.올 한해 더 많이행복한 한해되시길바랍니다</td>\n",
       "      <td>0</td>\n",
       "    </tr>\n",
       "  </tbody>\n",
       "</table>\n",
       "</div>"
      ],
      "text/plain": [
       "   id year_month                                               text  smishing\n",
       "0   0    2017-01                           XXX은행성산XXX팀장입니다.행복한주말되세요         0\n",
       "1   1    2017-01              오늘도많이웃으시는하루시작하세요XXX은행 진월동VIP라운지 XXX올림         0\n",
       "2   2    2017-01  안녕하십니까 고객님. XXX은행입니다.금일 납부하셔야 할 금액은 153600원 입니...         0\n",
       "3   4    2017-01  XXX 고객님안녕하세요XXX은행 XXX지점입니다지난 한 해 동안 저희 XXX지점에 ...         0\n",
       "4   5    2017-01           1월은 새로움이 가득XXX입니다.올 한해 더 많이행복한 한해되시길바랍니다         0"
      ]
     },
     "execution_count": 13,
     "metadata": {
      "tags": []
     },
     "output_type": "execute_result"
    }
   ],
   "source": [
    "train.head()"
   ]
  },
  {
   "cell_type": "markdown",
   "metadata": {
    "colab_type": "text",
    "id": "pforrj4_OZeS"
   },
   "source": [
    "### 2 pykospacing"
   ]
  },
  {
   "cell_type": "code",
   "execution_count": 0,
   "metadata": {
    "colab": {
     "base_uri": "https://localhost:8080/",
     "height": 703
    },
    "colab_type": "code",
    "executionInfo": {
     "elapsed": 41376,
     "status": "ok",
     "timestamp": 1578627533594,
     "user": {
      "displayName": "조희연",
      "photoUrl": "https://lh3.googleusercontent.com/a-/AAuE7mBZCv1s7qN3eb_3NsPCDALiKCcLrxnuo5pY6kk=s64",
      "userId": "10723966091405172941"
     },
     "user_tz": -540
    },
    "id": "88Y_0ov3Od5w",
    "outputId": "2a818121-f67c-43a2-b40f-0da2a8ce096a",
    "scrolled": true
   },
   "outputs": [
    {
     "name": "stdout",
     "output_type": "stream",
     "text": [
      "Collecting konlpy\n",
      "\u001b[?25l  Downloading https://files.pythonhosted.org/packages/85/0e/f385566fec837c0b83f216b2da65db9997b35dd675e107752005b7d392b1/konlpy-0.5.2-py2.py3-none-any.whl (19.4MB)\n",
      "\u001b[K     |████████████████████████████████| 19.4MB 11.0MB/s \n",
      "\u001b[?25hCollecting JPype1>=0.7.0\n",
      "\u001b[?25l  Downloading https://files.pythonhosted.org/packages/d7/62/0f312d578e0165e9b5e8fcae0291f7ee83783b3805f59071006b21229d55/JPype1-0.7.1.tar.gz (481kB)\n",
      "\u001b[K     |████████████████████████████████| 491kB 59.2MB/s \n",
      "\u001b[?25hCollecting colorama\n",
      "  Downloading https://files.pythonhosted.org/packages/c9/dc/45cdef1b4d119eb96316b3117e6d5708a08029992b2fee2c143c7a0a5cc5/colorama-0.4.3-py2.py3-none-any.whl\n",
      "Collecting tweepy>=3.7.0\n",
      "  Downloading https://files.pythonhosted.org/packages/36/1b/2bd38043d22ade352fc3d3902cf30ce0e2f4bf285be3b304a2782a767aec/tweepy-3.8.0-py2.py3-none-any.whl\n",
      "Requirement already satisfied: numpy>=1.6 in /usr/local/lib/python3.6/dist-packages (from konlpy) (1.17.5)\n",
      "Collecting beautifulsoup4==4.6.0\n",
      "\u001b[?25l  Downloading https://files.pythonhosted.org/packages/9e/d4/10f46e5cfac773e22707237bfcd51bbffeaf0a576b0a847ec7ab15bd7ace/beautifulsoup4-4.6.0-py3-none-any.whl (86kB)\n",
      "\u001b[K     |████████████████████████████████| 92kB 13.6MB/s \n",
      "\u001b[?25hRequirement already satisfied: lxml>=4.1.0 in /usr/local/lib/python3.6/dist-packages (from konlpy) (4.2.6)\n",
      "Requirement already satisfied: requests-oauthlib>=0.7.0 in /usr/local/lib/python3.6/dist-packages (from tweepy>=3.7.0->konlpy) (1.3.0)\n",
      "Requirement already satisfied: requests>=2.11.1 in /usr/local/lib/python3.6/dist-packages (from tweepy>=3.7.0->konlpy) (2.21.0)\n",
      "Requirement already satisfied: six>=1.10.0 in /usr/local/lib/python3.6/dist-packages (from tweepy>=3.7.0->konlpy) (1.12.0)\n",
      "Requirement already satisfied: PySocks>=1.5.7 in /usr/local/lib/python3.6/dist-packages (from tweepy>=3.7.0->konlpy) (1.7.1)\n",
      "Requirement already satisfied: oauthlib>=3.0.0 in /usr/local/lib/python3.6/dist-packages (from requests-oauthlib>=0.7.0->tweepy>=3.7.0->konlpy) (3.1.0)\n",
      "Requirement already satisfied: certifi>=2017.4.17 in /usr/local/lib/python3.6/dist-packages (from requests>=2.11.1->tweepy>=3.7.0->konlpy) (2019.11.28)\n",
      "Requirement already satisfied: idna<2.9,>=2.5 in /usr/local/lib/python3.6/dist-packages (from requests>=2.11.1->tweepy>=3.7.0->konlpy) (2.8)\n",
      "Requirement already satisfied: urllib3<1.25,>=1.21.1 in /usr/local/lib/python3.6/dist-packages (from requests>=2.11.1->tweepy>=3.7.0->konlpy) (1.24.3)\n",
      "Requirement already satisfied: chardet<3.1.0,>=3.0.2 in /usr/local/lib/python3.6/dist-packages (from requests>=2.11.1->tweepy>=3.7.0->konlpy) (3.0.4)\n",
      "Building wheels for collected packages: JPype1\n",
      "  Building wheel for JPype1 (setup.py) ... \u001b[?25l\u001b[?25hdone\n",
      "  Created wheel for JPype1: filename=JPype1-0.7.1-cp36-cp36m-linux_x86_64.whl size=2437769 sha256=bcfdcc0a8fcbf9c36a5dad96b8d2548a92cb70d5d97b5ad0a8f6a6171c46faff\n",
      "  Stored in directory: /root/.cache/pip/wheels/b0/49/6a/4393ef8542c00becf80691bd242693db9e263d6e499323a984\n",
      "Successfully built JPype1\n",
      "Installing collected packages: JPype1, colorama, tweepy, beautifulsoup4, konlpy\n",
      "  Found existing installation: tweepy 3.6.0\n",
      "    Uninstalling tweepy-3.6.0:\n",
      "      Successfully uninstalled tweepy-3.6.0\n",
      "  Found existing installation: beautifulsoup4 4.6.3\n",
      "    Uninstalling beautifulsoup4-4.6.3:\n",
      "      Successfully uninstalled beautifulsoup4-4.6.3\n",
      "Successfully installed JPype1-0.7.1 beautifulsoup4-4.6.0 colorama-0.4.3 konlpy-0.5.2 tweepy-3.8.0\n"
     ]
    }
   ],
   "source": [
    "# import package ---------------\n",
    "!pip3 install konlpy\n",
    "\n",
    "from konlpy.tag import Okt\n",
    "import re  \n",
    "okt=Okt()"
   ]
  },
  {
   "cell_type": "code",
   "execution_count": 0,
   "metadata": {
    "colab": {},
    "colab_type": "code",
    "id": "gyO_xmYaP3rm"
   },
   "outputs": [],
   "source": [
    "# pykospacing\n",
    "!pip install tensorflow\n",
    "!pip install keras\n",
    "!pip install git+https://github.com/haven-jeon/PyKoSpacing.git\n",
    "\n",
    "from pykospacing import spacing"
   ]
  },
  {
   "cell_type": "code",
   "execution_count": 0,
   "metadata": {
    "colab": {
     "base_uri": "https://localhost:8080/",
     "height": 91
    },
    "colab_type": "code",
    "executionInfo": {
     "elapsed": 107595,
     "status": "ok",
     "timestamp": 1578542118088,
     "user": {
      "displayName": "조희연",
      "photoUrl": "https://lh3.googleusercontent.com/a-/AAuE7mBZCv1s7qN3eb_3NsPCDALiKCcLrxnuo5pY6kk=s64",
      "userId": "10723966091405172941"
     },
     "user_tz": -540
    },
    "id": "74Ty__nCSS4H",
    "outputId": "2a92a77f-fe1a-4b21-c462-d7747f816693"
   },
   "outputs": [
    {
     "data": {
      "text/plain": [
       "['오늘도 많이 웃으시는 하루 시작하세요 은행 진월동 VIP 라운지 올림',\n",
       " '안녕하십니까 고객님 은행입니다 금일 납부하셔야 할 금액은 원 입니다 감사합니다 새해 복 많이 받으십시오 은행 옥포 올림',\n",
       " '고객님 안녕하세요 은행 지점입니다 지난 한 해 동안 저희 지점에 보내주신 성원에 감사드립니다 설렘으로 시작한 년 소망하시는 일 모두 이 고객님의 가정에 늘 건강과 행복이 함께 하길 기 원하겠습니다 사랑하는 가족과 함께 정을 나누는 행복한 설 명절 보내세요 은행 지점 직원 일동']"
      ]
     },
     "execution_count": 17,
     "metadata": {
      "tags": []
     },
     "output_type": "execute_result"
    }
   ],
   "source": [
    "# pykospacing 돌려보기\n",
    "ex1 = ham[1:4]\n",
    "\n",
    "for n in range(len(ex1)):\n",
    "  ex1[n] = spacing(ex1[n]) \n",
    "\n",
    "ex1"
   ]
  },
  {
   "cell_type": "code",
   "execution_count": 0,
   "metadata": {
    "colab": {
     "base_uri": "https://localhost:8080/",
     "height": 204
    },
    "colab_type": "code",
    "executionInfo": {
     "elapsed": 1703,
     "status": "ok",
     "timestamp": 1578552745297,
     "user": {
      "displayName": "조희연",
      "photoUrl": "https://lh3.googleusercontent.com/a-/AAuE7mBZCv1s7qN3eb_3NsPCDALiKCcLrxnuo5pY6kk=s64",
      "userId": "10723966091405172941"
     },
     "user_tz": -540
    },
    "id": "HM9aiGjChBpy",
    "outputId": "6263d21a-b985-488f-f228-9c0228de3956"
   },
   "outputs": [
    {
     "data": {
      "text/html": [
       "<div>\n",
       "<style scoped>\n",
       "    .dataframe tbody tr th:only-of-type {\n",
       "        vertical-align: middle;\n",
       "    }\n",
       "\n",
       "    .dataframe tbody tr th {\n",
       "        vertical-align: top;\n",
       "    }\n",
       "\n",
       "    .dataframe thead th {\n",
       "        text-align: right;\n",
       "    }\n",
       "</style>\n",
       "<table border=\"1\" class=\"dataframe\">\n",
       "  <thead>\n",
       "    <tr style=\"text-align: right;\">\n",
       "      <th></th>\n",
       "      <th>id</th>\n",
       "      <th>year_month</th>\n",
       "      <th>text</th>\n",
       "      <th>smishing</th>\n",
       "    </tr>\n",
       "  </thead>\n",
       "  <tbody>\n",
       "    <tr>\n",
       "      <th>0</th>\n",
       "      <td>0</td>\n",
       "      <td>2017-01</td>\n",
       "      <td>XXX은행성산XXX팀장입니다.행복한주말되세요</td>\n",
       "      <td>0</td>\n",
       "    </tr>\n",
       "    <tr>\n",
       "      <th>1</th>\n",
       "      <td>1</td>\n",
       "      <td>2017-01</td>\n",
       "      <td>오늘도많이웃으시는하루시작하세요XXX은행 진월동VIP라운지 XXX올림</td>\n",
       "      <td>0</td>\n",
       "    </tr>\n",
       "    <tr>\n",
       "      <th>2</th>\n",
       "      <td>2</td>\n",
       "      <td>2017-01</td>\n",
       "      <td>안녕하십니까 고객님. XXX은행입니다.금일 납부하셔야 할 금액은 153600원 입니...</td>\n",
       "      <td>0</td>\n",
       "    </tr>\n",
       "    <tr>\n",
       "      <th>3</th>\n",
       "      <td>4</td>\n",
       "      <td>2017-01</td>\n",
       "      <td>XXX 고객님안녕하세요XXX은행 XXX지점입니다지난 한 해 동안 저희 XXX지점에 ...</td>\n",
       "      <td>0</td>\n",
       "    </tr>\n",
       "    <tr>\n",
       "      <th>4</th>\n",
       "      <td>5</td>\n",
       "      <td>2017-01</td>\n",
       "      <td>1월은 새로움이 가득XXX입니다.올 한해 더 많이행복한 한해되시길바랍니다</td>\n",
       "      <td>0</td>\n",
       "    </tr>\n",
       "  </tbody>\n",
       "</table>\n",
       "</div>"
      ],
      "text/plain": [
       "   id year_month                                               text  smishing\n",
       "0   0    2017-01                           XXX은행성산XXX팀장입니다.행복한주말되세요         0\n",
       "1   1    2017-01              오늘도많이웃으시는하루시작하세요XXX은행 진월동VIP라운지 XXX올림         0\n",
       "2   2    2017-01  안녕하십니까 고객님. XXX은행입니다.금일 납부하셔야 할 금액은 153600원 입니...         0\n",
       "3   4    2017-01  XXX 고객님안녕하세요XXX은행 XXX지점입니다지난 한 해 동안 저희 XXX지점에 ...         0\n",
       "4   5    2017-01           1월은 새로움이 가득XXX입니다.올 한해 더 많이행복한 한해되시길바랍니다         0"
      ]
     },
     "execution_count": 114,
     "metadata": {
      "tags": []
     },
     "output_type": "execute_result"
    }
   ],
   "source": [
    "test_2 = train.copy()\n",
    "test_2.head()"
   ]
  },
  {
   "cell_type": "code",
   "execution_count": 0,
   "metadata": {
    "colab": {
     "base_uri": "https://localhost:8080/",
     "height": 204
    },
    "colab_type": "code",
    "executionInfo": {
     "elapsed": 1661,
     "status": "ok",
     "timestamp": 1578552755563,
     "user": {
      "displayName": "조희연",
      "photoUrl": "https://lh3.googleusercontent.com/a-/AAuE7mBZCv1s7qN3eb_3NsPCDALiKCcLrxnuo5pY6kk=s64",
      "userId": "10723966091405172941"
     },
     "user_tz": -540
    },
    "id": "HEARlxqKD1bu",
    "outputId": "ab14b541-1278-40a6-c8e9-2514cc9ed7e9"
   },
   "outputs": [
    {
     "data": {
      "text/html": [
       "<div>\n",
       "<style scoped>\n",
       "    .dataframe tbody tr th:only-of-type {\n",
       "        vertical-align: middle;\n",
       "    }\n",
       "\n",
       "    .dataframe tbody tr th {\n",
       "        vertical-align: top;\n",
       "    }\n",
       "\n",
       "    .dataframe thead th {\n",
       "        text-align: right;\n",
       "    }\n",
       "</style>\n",
       "<table border=\"1\" class=\"dataframe\">\n",
       "  <thead>\n",
       "    <tr style=\"text-align: right;\">\n",
       "      <th></th>\n",
       "      <th>id</th>\n",
       "      <th>text</th>\n",
       "      <th>smishing</th>\n",
       "    </tr>\n",
       "  </thead>\n",
       "  <tbody>\n",
       "    <tr>\n",
       "      <th>0</th>\n",
       "      <td>0</td>\n",
       "      <td>XXX은행성산XXX팀장입니다.행복한주말되세요</td>\n",
       "      <td>0</td>\n",
       "    </tr>\n",
       "    <tr>\n",
       "      <th>1</th>\n",
       "      <td>1</td>\n",
       "      <td>오늘도많이웃으시는하루시작하세요XXX은행 진월동VIP라운지 XXX올림</td>\n",
       "      <td>0</td>\n",
       "    </tr>\n",
       "    <tr>\n",
       "      <th>2</th>\n",
       "      <td>2</td>\n",
       "      <td>안녕하십니까 고객님. XXX은행입니다.금일 납부하셔야 할 금액은 153600원 입니...</td>\n",
       "      <td>0</td>\n",
       "    </tr>\n",
       "    <tr>\n",
       "      <th>3</th>\n",
       "      <td>4</td>\n",
       "      <td>XXX 고객님안녕하세요XXX은행 XXX지점입니다지난 한 해 동안 저희 XXX지점에 ...</td>\n",
       "      <td>0</td>\n",
       "    </tr>\n",
       "    <tr>\n",
       "      <th>4</th>\n",
       "      <td>5</td>\n",
       "      <td>1월은 새로움이 가득XXX입니다.올 한해 더 많이행복한 한해되시길바랍니다</td>\n",
       "      <td>0</td>\n",
       "    </tr>\n",
       "  </tbody>\n",
       "</table>\n",
       "</div>"
      ],
      "text/plain": [
       "   id                                               text  smishing\n",
       "0   0                           XXX은행성산XXX팀장입니다.행복한주말되세요         0\n",
       "1   1              오늘도많이웃으시는하루시작하세요XXX은행 진월동VIP라운지 XXX올림         0\n",
       "2   2  안녕하십니까 고객님. XXX은행입니다.금일 납부하셔야 할 금액은 153600원 입니...         0\n",
       "3   4  XXX 고객님안녕하세요XXX은행 XXX지점입니다지난 한 해 동안 저희 XXX지점에 ...         0\n",
       "4   5           1월은 새로움이 가득XXX입니다.올 한해 더 많이행복한 한해되시길바랍니다         0"
      ]
     },
     "execution_count": 115,
     "metadata": {
      "tags": []
     },
     "output_type": "execute_result"
    }
   ],
   "source": [
    "del test_2['year_month']\n",
    "#test_2.set_index('id', inplace=True)\n",
    "test_2.head()"
   ]
  },
  {
   "cell_type": "code",
   "execution_count": 0,
   "metadata": {
    "colab": {
     "base_uri": "https://localhost:8080/",
     "height": 143
    },
    "colab_type": "code",
    "executionInfo": {
     "elapsed": 1670,
     "status": "ok",
     "timestamp": 1578546466283,
     "user": {
      "displayName": "조희연",
      "photoUrl": "https://lh3.googleusercontent.com/a-/AAuE7mBZCv1s7qN3eb_3NsPCDALiKCcLrxnuo5pY6kk=s64",
      "userId": "10723966091405172941"
     },
     "user_tz": -540
    },
    "id": "EM33q6xYh4zv",
    "outputId": "e20a301e-dbc1-4ad1-c9c0-f564e1dd4ca7"
   },
   "outputs": [
    {
     "name": "stdout",
     "output_type": "stream",
     "text": [
      "<class 'pandas.core.frame.DataFrame'>\n",
      "Int64Index: 295945 entries, 0 to 336378\n",
      "Data columns (total 2 columns):\n",
      "text        295945 non-null object\n",
      "smishing    295945 non-null int64\n",
      "dtypes: int64(1), object(1)\n",
      "memory usage: 6.8+ MB\n"
     ]
    }
   ],
   "source": [
    "test_2.info()"
   ]
  },
  {
   "cell_type": "code",
   "execution_count": 0,
   "metadata": {
    "colab": {
     "base_uri": "https://localhost:8080/",
     "height": 35
    },
    "colab_type": "code",
    "executionInfo": {
     "elapsed": 1549,
     "status": "ok",
     "timestamp": 1578543651449,
     "user": {
      "displayName": "조희연",
      "photoUrl": "https://lh3.googleusercontent.com/a-/AAuE7mBZCv1s7qN3eb_3NsPCDALiKCcLrxnuo5pY6kk=s64",
      "userId": "10723966091405172941"
     },
     "user_tz": -540
    },
    "id": "1YwbKKLoiGCL",
    "outputId": "93c8a0dd-b4e2-4522-9800-dccc93afb0ed"
   },
   "outputs": [
    {
     "data": {
      "text/plain": [
       "(295944, 2)"
      ]
     },
     "execution_count": 38,
     "metadata": {
      "tags": []
     },
     "output_type": "execute_result"
    }
   ],
   "source": [
    "test_2['text'].nunique(), test_2['smishing'].nunique()  # 중복 1개 존재"
   ]
  },
  {
   "cell_type": "code",
   "execution_count": 0,
   "metadata": {
    "colab": {
     "base_uri": "https://localhost:8080/",
     "height": 297
    },
    "colab_type": "code",
    "executionInfo": {
     "elapsed": 840,
     "status": "ok",
     "timestamp": 1578546466743,
     "user": {
      "displayName": "조희연",
      "photoUrl": "https://lh3.googleusercontent.com/a-/AAuE7mBZCv1s7qN3eb_3NsPCDALiKCcLrxnuo5pY6kk=s64",
      "userId": "10723966091405172941"
     },
     "user_tz": -540
    },
    "id": "AxlPr5P3hyr0",
    "outputId": "bf399c9d-b95d-4851-fb6a-0e0c73781049"
   },
   "outputs": [
    {
     "data": {
      "text/plain": [
       "<matplotlib.axes._subplots.AxesSubplot at 0x7f9b70c34a58>"
      ]
     },
     "execution_count": 63,
     "metadata": {
      "tags": []
     },
     "output_type": "execute_result"
    },
    {
     "data": {
      "image/png": "[encoded data removed]",
      "text/plain": [
       "<Figure size 432x288 with 1 Axes>"
      ]
     },
     "metadata": {
      "tags": []
     },
     "output_type": "display_data"
    }
   ],
   "source": [
    "sns.countplot(x='smishing', data=test_2)"
   ]
  },
  {
   "cell_type": "code",
   "execution_count": 0,
   "metadata": {
    "colab": {
     "base_uri": "https://localhost:8080/",
     "height": 71
    },
    "colab_type": "code",
    "executionInfo": {
     "elapsed": 1905,
     "status": "ok",
     "timestamp": 1578544399755,
     "user": {
      "displayName": "조희연",
      "photoUrl": "https://lh3.googleusercontent.com/a-/AAuE7mBZCv1s7qN3eb_3NsPCDALiKCcLrxnuo5pY6kk=s64",
      "userId": "10723966091405172941"
     },
     "user_tz": -540
    },
    "id": "_NP8vkBVk9hW",
    "outputId": "e06978c7-6189-449a-a087-9b30c39e985f"
   },
   "outputs": [
    {
     "name": "stdout",
     "output_type": "stream",
     "text": [
      "   smishing   count\n",
      "0         0  277242\n",
      "1         1   18703\n"
     ]
    }
   ],
   "source": [
    "print(test_2.groupby('smishing').size().reset_index(name='count'))"
   ]
  },
  {
   "cell_type": "code",
   "execution_count": 0,
   "metadata": {
    "colab": {},
    "colab_type": "code",
    "id": "4MyPKVp7iP_7"
   },
   "outputs": [],
   "source": [
    "# data clensing\n",
    "test_2['text'] = [re.sub('[0-9]', '', i) for i in test_2['text']]  # 숫자 제거\n",
    "test_2['text'] = [re.sub('[^\\w]', ' ', i) for i in test_2['text']]  # 특수문자 제거\n",
    "test_2['text'] = [re.sub('[ㄱ-ㅎㅏ-ㅣ]', '', i) for i in test_2['text']]  # 자음, 모음 제거\n",
    "test_2['text'] = [re.sub('XXX', ' ', i) for i in test_2['text']]  # XXX 제거"
   ]
  },
  {
   "cell_type": "code",
   "execution_count": 0,
   "metadata": {
    "colab": {
     "base_uri": "https://localhost:8080/",
     "height": 569
    },
    "colab_type": "code",
    "executionInfo": {
     "elapsed": 1028,
     "status": "ok",
     "timestamp": 1578546481107,
     "user": {
      "displayName": "조희연",
      "photoUrl": "https://lh3.googleusercontent.com/a-/AAuE7mBZCv1s7qN3eb_3NsPCDALiKCcLrxnuo5pY6kk=s64",
      "userId": "10723966091405172941"
     },
     "user_tz": -540
    },
    "id": "HnNAEX6Zlsny",
    "outputId": "7917a24d-62c5-40fd-9789-03438ae8163a"
   },
   "outputs": [
    {
     "data": {
      "text/html": [
       "<div>\n",
       "<style scoped>\n",
       "    .dataframe tbody tr th:only-of-type {\n",
       "        vertical-align: middle;\n",
       "    }\n",
       "\n",
       "    .dataframe tbody tr th {\n",
       "        vertical-align: top;\n",
       "    }\n",
       "\n",
       "    .dataframe thead th {\n",
       "        text-align: right;\n",
       "    }\n",
       "</style>\n",
       "<table border=\"1\" class=\"dataframe\">\n",
       "  <thead>\n",
       "    <tr style=\"text-align: right;\">\n",
       "      <th></th>\n",
       "      <th>text</th>\n",
       "      <th>smishing</th>\n",
       "    </tr>\n",
       "    <tr>\n",
       "      <th>id</th>\n",
       "      <th></th>\n",
       "      <th></th>\n",
       "    </tr>\n",
       "  </thead>\n",
       "  <tbody>\n",
       "    <tr>\n",
       "      <th>0</th>\n",
       "      <td>은행성산 팀장입니다 행복한주말되세요</td>\n",
       "      <td>0</td>\n",
       "    </tr>\n",
       "    <tr>\n",
       "      <th>1</th>\n",
       "      <td>오늘도많이웃으시는하루시작하세요 은행 진월동VIP라운지  올림</td>\n",
       "      <td>0</td>\n",
       "    </tr>\n",
       "    <tr>\n",
       "      <th>2</th>\n",
       "      <td>안녕하십니까 고객님   은행입니다 금일 납부하셔야 할 금액은 원 입니다 감사합니다 ...</td>\n",
       "      <td>0</td>\n",
       "    </tr>\n",
       "    <tr>\n",
       "      <th>4</th>\n",
       "      <td>고객님안녕하세요 은행  지점입니다지난 한 해 동안 저희  지점에 보내주신 성원에...</td>\n",
       "      <td>0</td>\n",
       "    </tr>\n",
       "    <tr>\n",
       "      <th>5</th>\n",
       "      <td>월은 새로움이 가득 입니다 올 한해 더 많이행복한 한해되시길바랍니다</td>\n",
       "      <td>0</td>\n",
       "    </tr>\n",
       "    <tr>\n",
       "      <th>...</th>\n",
       "      <td>...</td>\n",
       "      <td>...</td>\n",
       "    </tr>\n",
       "    <tr>\n",
       "      <th>336373</th>\n",
       "      <td>고객님 열심히 달려왔던 년도 어느 새 뒤안길로 지나쳐가고 벅찬 설렘으로 신년의 ...</td>\n",
       "      <td>0</td>\n",
       "    </tr>\n",
       "    <tr>\n",
       "      <th>336375</th>\n",
       "      <td>고객님실버웰빙신탁이 만기도래 예정입니다  남양주지점</td>\n",
       "      <td>0</td>\n",
       "    </tr>\n",
       "    <tr>\n",
       "      <th>336376</th>\n",
       "      <td>한해동안  은행과 함께 해주셔서 정말 감사드립니다 년 기해년을 맞이하며 가족의건강과...</td>\n",
       "      <td>0</td>\n",
       "    </tr>\n",
       "    <tr>\n",
       "      <th>336377</th>\n",
       "      <td>금 예금및 적금 만기입니다 예금은 시간내서 내점하시고 적금은 년 자동연장되니 참고...</td>\n",
       "      <td>0</td>\n",
       "    </tr>\n",
       "    <tr>\n",
       "      <th>336378</th>\n",
       "      <td>안녕하세요   고객님  스타링크 전담직원  입니다  스타링크 고객님 대상으로 이벤트...</td>\n",
       "      <td>0</td>\n",
       "    </tr>\n",
       "  </tbody>\n",
       "</table>\n",
       "<p>295945 rows × 2 columns</p>\n",
       "</div>"
      ],
      "text/plain": [
       "                                                     text  smishing\n",
       "id                                                                 \n",
       "0                                     은행성산 팀장입니다 행복한주말되세요         0\n",
       "1                       오늘도많이웃으시는하루시작하세요 은행 진월동VIP라운지  올림         0\n",
       "2       안녕하십니까 고객님   은행입니다 금일 납부하셔야 할 금액은 원 입니다 감사합니다 ...         0\n",
       "4         고객님안녕하세요 은행  지점입니다지난 한 해 동안 저희  지점에 보내주신 성원에...         0\n",
       "5                   월은 새로움이 가득 입니다 올 한해 더 많이행복한 한해되시길바랍니다         0\n",
       "...                                                   ...       ...\n",
       "336373    고객님 열심히 달려왔던 년도 어느 새 뒤안길로 지나쳐가고 벅찬 설렘으로 신년의 ...         0\n",
       "336375                       고객님실버웰빙신탁이 만기도래 예정입니다  남양주지점         0\n",
       "336376  한해동안  은행과 함께 해주셔서 정말 감사드립니다 년 기해년을 맞이하며 가족의건강과...         0\n",
       "336377   금 예금및 적금 만기입니다 예금은 시간내서 내점하시고 적금은 년 자동연장되니 참고...         0\n",
       "336378  안녕하세요   고객님  스타링크 전담직원  입니다  스타링크 고객님 대상으로 이벤트...         0\n",
       "\n",
       "[295945 rows x 2 columns]"
      ]
     },
     "execution_count": 65,
     "metadata": {
      "tags": []
     },
     "output_type": "execute_result"
    }
   ],
   "source": [
    "test_2"
   ]
  },
  {
   "cell_type": "code",
   "execution_count": 0,
   "metadata": {
    "colab": {},
    "colab_type": "code",
    "id": "8pMVPXUEtO2k"
   },
   "outputs": [],
   "source": [
    "aft_spc = list(test_2['text'])\n",
    "\n",
    "for n in range(len(aft_spc)):\n",
    "  aft_spc[n] = spacing(aft_spc[n]) \n",
    "\n",
    "aft_spc"
   ]
  },
  {
   "cell_type": "code",
   "execution_count": 0,
   "metadata": {
    "colab": {},
    "colab_type": "code",
    "id": "9MPhvPkKC2rv"
   },
   "outputs": [],
   "source": [
    "aft_spc = pd.DataFrame(aft_spc)\n",
    "aft_spc.columns = ['after spacing']\n",
    "\n",
    "test_2['after_spacing'] = aft_spc"
   ]
  }
 ],
 "metadata": {
  "accelerator": "GPU",
  "colab": {
   "collapsed_sections": [],
   "name": "Kospacing.ipynb",
   "provenance": []
  },
  "kernelspec": {
   "display_name": "Python 3",
   "language": "python",
   "name": "python3"
  },
  "language_info": {
   "codemirror_mode": {
    "name": "ipython",
    "version": 3
   },
   "file_extension": ".py",
   "mimetype": "text/x-python",
   "name": "python",
   "nbconvert_exporter": "python",
   "pygments_lexer": "ipython3",
   "version": "3.7.3"
  }
 },
 "nbformat": 4,
 "nbformat_minor": 1
}
