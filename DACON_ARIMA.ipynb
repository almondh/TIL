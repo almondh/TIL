{
  "nbformat": 4,
  "nbformat_minor": 0,
  "metadata": {
    "colab": {
      "name": "DACON_ARIMA.ipynb",
      "provenance": [],
      "collapsed_sections": [],
      "include_colab_link": true
    },
    "kernelspec": {
      "name": "python3",
      "display_name": "Python 3"
    },
    "accelerator": "GPU"
  },
  "cells": [
    {
      "cell_type": "markdown",
      "metadata": {
        "id": "view-in-github",
        "colab_type": "text"
      },
      "source": [
        "<a href=\"https://colab.research.google.com/github/almondh/TIL/blob/master/DACON_ARIMA.ipynb\" target=\"_parent\"><img src=\"https://colab.research.google.com/assets/colab-badge.svg\" alt=\"Open In Colab\"/></a>"
      ]
    },
    {
      "cell_type": "markdown",
      "metadata": {
        "id": "fMUJal2TA7l-",
        "colab_type": "text"
      },
      "source": [
        "# 1. import packages"
      ]
    },
    {
      "cell_type": "code",
      "metadata": {
        "id": "y5czXbqp_IQh",
        "colab_type": "code",
        "colab": {}
      },
      "source": [
        "import pandas as pd # 데이터 전처리\n",
        "import numpy as np # 데이터 전처리\n",
        "import matplotlib.pyplot as plt # 데이터 시각화\n",
        "import itertools\n",
        "from datetime import datetime, timedelta # 시간 데이터 처리\n",
        "from statsmodels.tsa.arima_model import ARIMA # ARIMA 모델\n",
        "%matplotlib inline"
      ],
      "execution_count": 0,
      "outputs": []
    },
    {
      "cell_type": "markdown",
      "metadata": {
        "id": "HqQjEQ1nBMt3",
        "colab_type": "text"
      },
      "source": [
        "# 2. import data"
      ]
    },
    {
      "cell_type": "code",
      "metadata": {
        "id": "-XXmWkHWBLjP",
        "colab_type": "code",
        "colab": {}
      },
      "source": [
        "test = pd.read_csv(\"test.csv\")\n",
        "submission = pd.read_csv(\"submission_1002.csv\")\n",
        "\n",
        "test['Time'] = pd.to_datetime(test['Time']) \n",
        "test = test.set_index('Time')"
      ],
      "execution_count": 0,
      "outputs": []
    },
    {
      "cell_type": "markdown",
      "metadata": {
        "id": "7WMSSrA_BWWb",
        "colab_type": "text"
      },
      "source": [
        "# 3. To pannel data"
      ]
    },
    {
      "cell_type": "code",
      "metadata": {
        "id": "0H8ofTUpBL5t",
        "colab_type": "code",
        "colab": {}
      },
      "source": [
        "place_id=[]; time=[] ; target=[] # 빈 리스트를 생성합니다.\n",
        "for i in test.columns:\n",
        "    for j in range(len(test)):\n",
        "        place_id.append(i) # place_id에 미터 ID를 정리합니다.\n",
        "        time.append(test.index[j]) # time에 시간대를 정리합니다.\n",
        "        target.append(test[i].iloc[j]) # target에 전력량을 정리합니다.\n",
        "\n",
        "new_df=pd.DataFrame({'place_id':place_id,'time':time,'target':target})\n",
        "new_df=new_df.dropna() # 결측치를 제거합니다.\n",
        "new_df=new_df.set_index('time') # time을 인덱스로 저장합니다.\n",
        "new_df.head()"
      ],
      "execution_count": 0,
      "outputs": []
    },
    {
      "cell_type": "markdown",
      "metadata": {
        "id": "f1MCoB95Bbeb",
        "colab_type": "text"
      },
      "source": [
        "# 4. ARIMA modelling"
      ]
    },
    {
      "cell_type": "code",
      "metadata": {
        "id": "dNRZBpNgBL-o",
        "colab_type": "code",
        "colab": {}
      },
      "source": [
        "p = d = q = range(0, 2)\n",
        "pdq = list(itertools.product(p, d, q))\n",
        "pdq"
      ],
      "execution_count": 0,
      "outputs": []
    },
    {
      "cell_type": "code",
      "metadata": {
        "id": "AcBk431CBMCv",
        "colab_type": "code",
        "colab": {}
      },
      "source": [
        "# 파라미터 탐색 함수 \n",
        "def get_optimal_params(y):\n",
        "\n",
        "    param_dict = {}\n",
        "    for param in pdq:\n",
        "        try:\n",
        "            model = ARIMA(y, order=param)\n",
        "            results_ARIMA = model.fit(disp=-1)\n",
        "            param_dict[results_ARIMA.aic] = param\n",
        "        except:\n",
        "            continue\n",
        "\n",
        "    min_aic = min(param_dict.keys())\n",
        "    optimal_params = param_dict[min_aic]\n",
        "    return optimal_params"
      ],
      "execution_count": 0,
      "outputs": []
    },
    {
      "cell_type": "code",
      "metadata": {
        "id": "I4u2llDLBix1",
        "colab_type": "code",
        "colab": {}
      },
      "source": [
        "# 모델 학습\n",
        "agg={}\n",
        "for key in new_df['place_id'].unique(): # 미터ID 200개의 리스트를 unique()함수를 통해 추출합니다.\n",
        "    temp = new_df.loc[new_df['place_id']==key] # 미터ID 하나를 할당합니다.\n",
        "    temp_1h=temp.resample('1h').sum() # 1시간 단위로 정리합니다.\n",
        "    temp_1day=temp.resample('D').sum() # 1일 단위로 정리합니다.\n",
        "\n",
        "    # 시간별 예측\n",
        "    model = ARIMA(temp_1h['target'], order=get_optimal_params(temp_1h['target'])) # AIC를 최소화하는 최적의 파라미터로 모델링합니다.\n",
        "    results_ARIMA = model.fit(disp=-1)\n",
        "    fcst = results_ARIMA.forecast(24) # 24시간을 예측합니다.\n",
        "\n",
        "    a = pd.DataFrame() # a라는 데이터프레임에 예측값을 정리합니다.\n",
        "    \n",
        "    for i in range(24):\n",
        "        a['X2018_7_1_'+str(i+1)+'h']=[fcst[0][i]] # column명을 submission 형태에 맞게 지정합니다.\n",
        "\n",
        "        \n",
        "    # 일별 예측\n",
        "    model = ARIMA(temp_1day['target'], order=get_optimal_params(temp_1day['target'])) # AIC를 최소화하는 최적의 파라미터로 모델링합니다.\n",
        "    results_ARIMA = model.fit(disp=-1)\n",
        "    fcst = results_ARIMA.forecast(10) # 10일을 예측합니다.\n",
        "\n",
        "    for i in range(10):\n",
        "        a['X2018_7_'+str(i+1)+'_d']=[fcst[0][i]] # column명을 submission 형태에 맞게 지정합니다.\n",
        "    \n",
        "    \n",
        "    # 월별 예측\n",
        "    # 일별로 예측하여 7월 ~ 11월의 일 수에 맞게 나누어 합산합니다.\n",
        "    fcst = results_ARIMA.forecast(153)\n",
        "    a['X2018_7_m'] = [np.sum(fcst[0][:31])] # 7월 \n",
        "    a['X2018_8_m'] = [np.sum(fcst[0][31:62])] # 8월\n",
        "    a['X2018_9_m'] = [np.sum(fcst[0][62:92])] # 9월\n",
        "    a['X2018_10_m'] = [np.sum(fcst[0][92:123])] # 10월\n",
        "    a['X2018_11_m'] = [np.sum(fcst[0][123:153])] # 11월\n",
        "    \n",
        "    a['meter_id'] = key \n",
        "    agg[key] = a[submission.columns.tolist()]\n",
        "    print(key)\n",
        "print('---- Modeling Done ----')"
      ],
      "execution_count": 0,
      "outputs": []
    },
    {
      "cell_type": "markdown",
      "metadata": {
        "id": "LUg5sQ5SBphZ",
        "colab_type": "text"
      },
      "source": [
        "# 5. Submission"
      ]
    },
    {
      "cell_type": "code",
      "metadata": {
        "id": "kJDulx6JBmfw",
        "colab_type": "code",
        "colab": {}
      },
      "source": [
        "output1 = pd.concat(agg, ignore_index=False)\n",
        "output2 = output1.reset_index().drop(['level_0','level_1'], axis=1)\n",
        "output2['id'] = output2['meter_id'].str.replace('X','').astype(int)\n",
        "output2 =  output2.sort_values(by='id', ascending=True).drop(['id'], axis=1).reset_index(drop=True)\n",
        "output2.head()"
      ],
      "execution_count": 0,
      "outputs": []
    },
    {
      "cell_type": "code",
      "metadata": {
        "id": "6k_vGPxmBtnK",
        "colab_type": "code",
        "colab": {}
      },
      "source": [
        "output2.to_csv('sub_baseline.csv', index=False)"
      ],
      "execution_count": 0,
      "outputs": []
    }
  ]
}